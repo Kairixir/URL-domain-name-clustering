{
 "cells": [
  {
   "cell_type": "markdown",
   "id": "edcdc741-3f08-4f14-9dcb-fee35adf17b2",
   "metadata": {
    "tags": []
   },
   "source": [
    "# URL clustering based on similarity"
   ]
  },
  {
   "cell_type": "markdown",
   "id": "058ca4fc-3688-4b17-959c-52ecc00c4f64",
   "metadata": {},
   "source": [
    "- urls_df = full dataset\n",
    "- urls_tdf = full dataset transformed\n",
    "- urls_tsdf = sampled dataset transformed"
   ]
  },
  {
   "cell_type": "markdown",
   "id": "08a4ea9e-cbfd-40bf-8edf-1e5f7d0c249a",
   "metadata": {
    "tags": []
   },
   "source": [
    "## Imports & Helper functions"
   ]
  },
  {
   "cell_type": "markdown",
   "id": "c099e27e-3bc4-4243-866d-9fd3a6c9acd7",
   "metadata": {},
   "source": [
    "### Save or load jupyter session"
   ]
  },
  {
   "cell_type": "raw",
   "id": "52be716f-a093-4e01-9436-092fcaef2232",
   "metadata": {
    "execution": {
     "iopub.execute_input": "2023-04-28T16:57:20.270196Z",
     "iopub.status.busy": "2023-04-28T16:57:20.269345Z",
     "iopub.status.idle": "2023-04-28T16:57:21.985755Z",
     "shell.execute_reply": "2023-04-28T16:57:21.976144Z",
     "shell.execute_reply.started": "2023-04-28T16:57:20.270156Z"
    },
    "tags": []
   },
   "source": [
    "# Save\n",
    "import datetime\n",
    "\n",
    "import dill\n",
    "\n",
    "SESSION_DIR = \"jupyter_sessions\"\n",
    "PREFIX = datetime.datetime.now()\n",
    "SUFFIX = \"\"\n",
    "\n",
    "file_path = (\n",
    "    f'{SESSION_DIR}/{datetime.datetime.now().strftime(\"%Y%m%d%H%M%S\")}{SUFFIX}.db'\n",
    ")\n",
    "dill.detect.trace(False)\n",
    "dill.dump_session(file_path)"
   ]
  },
  {
   "cell_type": "raw",
   "id": "aef9c046-8396-4084-9add-2ccc04f470f7",
   "metadata": {
    "execution": {
     "iopub.execute_input": "2023-04-15T09:21:18.349024Z",
     "iopub.status.busy": "2023-04-15T09:21:18.348591Z",
     "iopub.status.idle": "2023-04-15T09:21:25.275127Z",
     "shell.execute_reply": "2023-04-15T09:21:25.273506Z",
     "shell.execute_reply.started": "2023-04-15T09:21:18.348992Z"
    },
    "tags": []
   },
   "source": [
    "# Load\n",
    "import dill\n",
    "\n",
    "SESSION_DIR = \"jupyter_sessions\"\n",
    "FILE_NAME = \"20230414203732\"\n",
    "\n",
    "dill.load_session(f\"{SESSION_DIR}/{FILE_NAME}.db\")"
   ]
  },
  {
   "cell_type": "markdown",
   "id": "1b302250-f8da-4335-9c4a-41b1fff31c4b",
   "metadata": {
    "tags": []
   },
   "source": [
    "### Imports"
   ]
  },
  {
   "cell_type": "code",
   "execution_count": 2,
   "id": "e7329734-9b2a-41ec-ba43-4c2246c6028b",
   "metadata": {
    "execution": {
     "iopub.execute_input": "2023-05-08T08:03:58.700987Z",
     "iopub.status.busy": "2023-05-08T08:03:58.700488Z",
     "iopub.status.idle": "2023-05-08T08:04:02.604636Z",
     "shell.execute_reply": "2023-05-08T08:04:02.602143Z",
     "shell.execute_reply.started": "2023-05-08T08:03:58.700949Z"
    },
    "tags": []
   },
   "outputs": [
    {
     "name": "stderr",
     "output_type": "stream",
     "text": [
      "/home/xsevcik9/jupyter-base/avast_thesis/lib/python3.9/site-packages/tqdm/auto.py:21: TqdmWarning: IProgress not found. Please update jupyter and ipywidgets. See https://ipywidgets.readthedocs.io/en/stable/user_install.html\n",
      "  from .autonotebook import tqdm as notebook_tqdm\n"
     ]
    }
   ],
   "source": [
    "import pickle\n",
    "import time\n",
    "import warnings\n",
    "from math import log\n",
    "\n",
    "import matplotlib.pyplot as plt\n",
    "import numpy as np\n",
    "import optuna\n",
    "import pandas as pd\n",
    "import scipy.sparse as sp\n",
    "import seaborn as sns\n",
    "import smaz\n",
    "import tldextract\n",
    "from scipy.cluster.hierarchy import dendrogram, fcluster, linkage\n",
    "from scipy.spatial.distance import pdist, squareform\n",
    "from sklearn.cluster import Birch\n",
    "from sklearn.decomposition import PCA, TruncatedSVD\n",
    "from sklearn.feature_extraction.text import HashingVectorizer, TfidfTransformer\n",
    "from sklearn.metrics import (\n",
    "    calinski_harabasz_score,\n",
    "    davies_bouldin_score,\n",
    "    silhouette_score,\n",
    ")\n",
    "from sklearn.pipeline import make_pipeline\n",
    "from sklearn.preprocessing import Normalizer, OneHotEncoder, StandardScaler\n",
    "\n",
    "warnings.filterwarnings(\"ignore\")\n",
    "\n",
    "sns.set()"
   ]
  },
  {
   "cell_type": "markdown",
   "id": "9ce0e782-dc96-40ee-878f-6d775b345fae",
   "metadata": {
    "tags": []
   },
   "source": [
    "### Helper functions"
   ]
  },
  {
   "cell_type": "code",
   "execution_count": 3,
   "id": "b9e59872-2310-43fe-8f89-575c357cea0c",
   "metadata": {
    "execution": {
     "iopub.execute_input": "2023-05-08T08:04:02.609749Z",
     "iopub.status.busy": "2023-05-08T08:04:02.608959Z",
     "iopub.status.idle": "2023-05-08T08:04:02.619210Z",
     "shell.execute_reply": "2023-05-08T08:04:02.617670Z",
     "shell.execute_reply.started": "2023-05-08T08:04:02.609691Z"
    },
    "tags": []
   },
   "outputs": [],
   "source": [
    "from polyleven import levenshtein\n",
    "\n",
    "\n",
    "def levenshtein_pdist(u, v):\n",
    "    if isinstance(u, np.ndarray):\n",
    "        u = u[0]\n",
    "    if isinstance(v, np.ndarray):\n",
    "        v = v[0]\n",
    "    return levenshtein(u, v)"
   ]
  },
  {
   "cell_type": "markdown",
   "id": "32e78c63-2f12-42c7-be48-27906861093c",
   "metadata": {
    "tags": []
   },
   "source": [
    "## Preprocessing"
   ]
  },
  {
   "cell_type": "code",
   "execution_count": 4,
   "id": "2a3b9602-bb8e-4b73-997e-f956b13c4a89",
   "metadata": {
    "execution": {
     "iopub.execute_input": "2023-05-08T08:04:02.620948Z",
     "iopub.status.busy": "2023-05-08T08:04:02.620611Z",
     "iopub.status.idle": "2023-05-08T08:04:03.948191Z",
     "shell.execute_reply": "2023-05-08T08:04:03.946536Z",
     "shell.execute_reply.started": "2023-05-08T08:04:02.620915Z"
    },
    "tags": []
   },
   "outputs": [
    {
     "name": "stdout",
     "output_type": "stream",
     "text": [
      "<class 'pandas.core.frame.DataFrame'>\n",
      "RangeIndex: 651191 entries, 0 to 651190\n",
      "Data columns (total 2 columns):\n",
      " #   Column  Non-Null Count   Dtype \n",
      "---  ------  --------------   ----- \n",
      " 0   url     651191 non-null  string\n",
      " 1   type    651191 non-null  object\n",
      "dtypes: object(1), string(1)\n",
      "memory usage: 9.9+ MB\n"
     ]
    }
   ],
   "source": [
    "def load_data():\n",
    "    return pd.read_csv(\n",
    "        \"datasets/kaggle_siddharta_malicious_benign.csv\",\n",
    "        delimiter=\",\",\n",
    "        dtype={\"url\": \"string\"},\n",
    "    )\n",
    "\n",
    "\n",
    "urls_df = load_data()\n",
    "urls_df.info()"
   ]
  },
  {
   "cell_type": "markdown",
   "id": "f65b7478-9311-4893-bd02-7e21da195ed0",
   "metadata": {},
   "source": [
    "### Non TF-IDF"
   ]
  },
  {
   "cell_type": "markdown",
   "id": "6b85f553-cbc3-4eec-b4a4-c7466f0f6351",
   "metadata": {},
   "source": [
    "#### Data extraction & cleaning"
   ]
  },
  {
   "cell_type": "markdown",
   "id": "d2adb08b-bb91-471f-bcf2-d1a92e264613",
   "metadata": {},
   "source": [
    "##### Extract Fully Qualified Domain Names (FQDNs) from URLs"
   ]
  },
  {
   "cell_type": "code",
   "execution_count": 5,
   "id": "371e54d8-b7ac-44fe-b325-20aefb639215",
   "metadata": {
    "execution": {
     "iopub.execute_input": "2023-05-08T08:04:03.950066Z",
     "iopub.status.busy": "2023-05-08T08:04:03.949759Z",
     "iopub.status.idle": "2023-05-08T08:04:03.957183Z",
     "shell.execute_reply": "2023-05-08T08:04:03.955664Z",
     "shell.execute_reply.started": "2023-05-08T08:04:03.950033Z"
    },
    "tags": []
   },
   "outputs": [],
   "source": [
    "def extract_FQDNs(df):\n",
    "    # Regex pattern to extract fully qualified domain name (FQDN)\n",
    "    pattern = r\"(?:.*?:\\/\\/)?(?P<www>[wW]{3}\\.)?(?P<domain>[\\w\\.\\-]+)[^\\w]*\"\n",
    "\n",
    "    # Execute regex over URLs\n",
    "    match = df[\"url\"].str.extract(pattern)\n",
    "\n",
    "    # Extract domain using named group\n",
    "    df[\"FQDN\"] = match[\"domain\"]\n",
    "\n",
    "    # Indicate if www subdomain is present\n",
    "    df[\"has_www\"] = match[\"www\"].notna()\n",
    "\n",
    "    return df"
   ]
  },
  {
   "cell_type": "markdown",
   "id": "aa406c1f-e1d6-4b6a-a74a-f920b325d65d",
   "metadata": {},
   "source": [
    "##### Remove all addreses without domain (IPs)"
   ]
  },
  {
   "cell_type": "code",
   "execution_count": 6,
   "id": "cbbf3dca-9569-4dd8-8753-40e2070b994d",
   "metadata": {
    "execution": {
     "iopub.execute_input": "2023-05-08T08:04:03.960536Z",
     "iopub.status.busy": "2023-05-08T08:04:03.960276Z",
     "iopub.status.idle": "2023-05-08T08:04:03.966804Z",
     "shell.execute_reply": "2023-05-08T08:04:03.965567Z",
     "shell.execute_reply.started": "2023-05-08T08:04:03.960511Z"
    },
    "tags": []
   },
   "outputs": [],
   "source": [
    "def clean_data(df):\n",
    "    # Pattern that matches all IPv4 addresses\n",
    "    pattern = \"(?:.*?:\\/\\/)?(?P<www>[wW]{3}\\.)?[0-9]{1,3}\\.[0-9]{1,3}\\.[0-9]{1,3}\\.[0-9]{1,3}([/:].*)?$\"\n",
    "\n",
    "    # Leave only data not containing pure IPv4\n",
    "    df = df[~df[\"url\"].str.match(pattern)]\n",
    "\n",
    "    # Remove all data with non-unique FQDN\n",
    "    df = df.drop_duplicates(subset=\"FQDN\")\n",
    "\n",
    "    # Drop type column, after the previous step it is useless\n",
    "    df = df.drop(\"type\", axis=1)\n",
    "\n",
    "    # Reset index\n",
    "    df = df.reset_index(drop=True)\n",
    "\n",
    "    return df"
   ]
  },
  {
   "cell_type": "markdown",
   "id": "71886ded-a5f4-4d64-aad8-f007a6e52056",
   "metadata": {},
   "source": [
    "##### Separate TLD, domain and subdomain"
   ]
  },
  {
   "cell_type": "code",
   "execution_count": 7,
   "id": "3729e738-9a2c-4b55-a736-4d6914996182",
   "metadata": {
    "execution": {
     "iopub.execute_input": "2023-05-08T08:04:03.968261Z",
     "iopub.status.busy": "2023-05-08T08:04:03.968001Z",
     "iopub.status.idle": "2023-05-08T08:04:03.974218Z",
     "shell.execute_reply": "2023-05-08T08:04:03.972900Z",
     "shell.execute_reply.started": "2023-05-08T08:04:03.968234Z"
    },
    "tags": []
   },
   "outputs": [],
   "source": [
    "# Function to extract components of domain using tldextract\n",
    "def extract_domain_components(url):\n",
    "    ext = tldextract.extract(url)\n",
    "    return pd.Series(\n",
    "        [\n",
    "            ext.subdomain,\n",
    "            ext.domain,\n",
    "            ext.suffix,\n",
    "            ext.suffix == \"\",\n",
    "            ext.domain + \".\" + ext.suffix,\n",
    "        ]\n",
    "    )"
   ]
  },
  {
   "cell_type": "code",
   "execution_count": 8,
   "id": "97d0ac75-2e2f-406a-ab69-d30e86021b23",
   "metadata": {
    "execution": {
     "iopub.execute_input": "2023-05-08T08:04:03.975491Z",
     "iopub.status.busy": "2023-05-08T08:04:03.975241Z",
     "iopub.status.idle": "2023-05-08T08:04:03.981070Z",
     "shell.execute_reply": "2023-05-08T08:04:03.979893Z",
     "shell.execute_reply.started": "2023-05-08T08:04:03.975466Z"
    },
    "tags": []
   },
   "outputs": [],
   "source": [
    "def expand_fqdns(df):\n",
    "    # Apply function to url column to extract domain components and explode into separate columns\n",
    "    df[[\"subdomain\", \"domain\", \"TLD\", \"is_invalid_TLD\", \"domainTLD\"]] = df[\"url\"].apply(\n",
    "        extract_domain_components\n",
    "    )\n",
    "\n",
    "    return df"
   ]
  },
  {
   "cell_type": "code",
   "execution_count": 9,
   "id": "1d12e0b0-5436-4cbb-9f82-e2501ced55ed",
   "metadata": {
    "execution": {
     "iopub.execute_input": "2023-05-08T08:04:03.982482Z",
     "iopub.status.busy": "2023-05-08T08:04:03.982232Z",
     "iopub.status.idle": "2023-05-08T08:04:03.988221Z",
     "shell.execute_reply": "2023-05-08T08:04:03.986876Z",
     "shell.execute_reply.started": "2023-05-08T08:04:03.982456Z"
    },
    "tags": []
   },
   "outputs": [],
   "source": [
    "def clean_invalid_domains(df):\n",
    "    # Remove domains with invalid TLD\n",
    "    df = df[~df[\"is_invalid_TLD\"]]\n",
    "\n",
    "    # Remove unused is_invalid_TLD\n",
    "    df = df.drop(\"is_invalid_TLD\", axis=1)\n",
    "\n",
    "    # Reset index\n",
    "    df = df.reset_index(drop=True)\n",
    "\n",
    "    return df"
   ]
  },
  {
   "cell_type": "markdown",
   "id": "84e55e0f-bbe2-4e48-ae4b-aaad5cbbd180",
   "metadata": {},
   "source": [
    "##### Length of domain, subdomain and TLD"
   ]
  },
  {
   "cell_type": "code",
   "execution_count": 10,
   "id": "b46a7d8e-ade3-423b-8ca8-44b45211b27f",
   "metadata": {
    "execution": {
     "iopub.execute_input": "2023-05-08T08:04:03.989649Z",
     "iopub.status.busy": "2023-05-08T08:04:03.989382Z",
     "iopub.status.idle": "2023-05-08T08:04:03.996047Z",
     "shell.execute_reply": "2023-05-08T08:04:03.994109Z",
     "shell.execute_reply.started": "2023-05-08T08:04:03.989623Z"
    },
    "tags": []
   },
   "outputs": [],
   "source": [
    "def extract_lengths(df):\n",
    "    df[[\"domain_length\", \"subdomain_length\", \"TLD_length\"]] = df[\n",
    "        [\"domain\", \"subdomain\", \"TLD\"]\n",
    "    ].applymap(len)\n",
    "\n",
    "    return df"
   ]
  },
  {
   "cell_type": "markdown",
   "id": "d38a566b-c1e8-4c07-846f-aab069e6650c",
   "metadata": {},
   "source": [
    "##### Number of subdomains"
   ]
  },
  {
   "cell_type": "markdown",
   "id": "29043be7-fdfb-4d27-8eba-2d9faf59258e",
   "metadata": {},
   "source": [
    "I decide to include www in the count of subdomains. Might make performance-wise issues later. Reconsider if needed"
   ]
  },
  {
   "cell_type": "code",
   "execution_count": 11,
   "id": "f6d9d70b-c3d1-4852-b36f-22b55eb9ccb5",
   "metadata": {
    "execution": {
     "iopub.execute_input": "2023-05-08T08:04:03.999109Z",
     "iopub.status.busy": "2023-05-08T08:04:03.998391Z",
     "iopub.status.idle": "2023-05-08T08:04:04.007966Z",
     "shell.execute_reply": "2023-05-08T08:04:04.006422Z",
     "shell.execute_reply.started": "2023-05-08T08:04:03.999045Z"
    },
    "tags": []
   },
   "outputs": [],
   "source": [
    "def extract_subdomains_count(df):\n",
    "    df[\"num_of_subdomains\"] = (\n",
    "        df[\"subdomain\"].str.split(\".\").apply(lambda x: len(x) if x != [\"\"] else 0)\n",
    "    )\n",
    "\n",
    "    return df"
   ]
  },
  {
   "cell_type": "markdown",
   "id": "1e77a85a-a10a-46df-b0af-c5457763a742",
   "metadata": {
    "tags": []
   },
   "source": [
    "##### Characters frequency & vowel-to-consonant ratio\n",
    "Characters:\n",
    "- alphabetical - \"a-zA-Z\"\n",
    "- digits - \"0-9\"\n",
    "- special - all except alphabetical, digits and dot"
   ]
  },
  {
   "cell_type": "markdown",
   "id": "e46d6124-1ddd-49fa-baa0-c4b6130b5de8",
   "metadata": {},
   "source": [
    "Can be changed based on the occurences of dots. It may be better to remove dots so this information is uncorrelated with num_of_substrings\n",
    "\n",
    "Try the result with and without dots to analyze the difference"
   ]
  },
  {
   "cell_type": "code",
   "execution_count": 12,
   "id": "07bf9cce-7888-493e-a41d-b0f9efa82ea6",
   "metadata": {
    "execution": {
     "iopub.execute_input": "2023-05-08T08:04:04.010517Z",
     "iopub.status.busy": "2023-05-08T08:04:04.010007Z",
     "iopub.status.idle": "2023-05-08T08:04:04.021255Z",
     "shell.execute_reply": "2023-05-08T08:04:04.019705Z",
     "shell.execute_reply.started": "2023-05-08T08:04:04.010466Z"
    },
    "tags": []
   },
   "outputs": [],
   "source": [
    "def extract_char_frequency_vowel_consonant_ratio(df):\n",
    "    for column in [\"domain\", \"subdomain\", \"TLD\"]:\n",
    "        # Vowel-to-consonant ratio\n",
    "        vowel_counts = df[column].str.count(r\"[aeiouAEIOU]\")\n",
    "        consonant_counts = df[column].str.count(r\"[b-df-hj-np-tv-zB-DF-HJ-NP-TV-Z]\")\n",
    "\n",
    "        # Get alphabetical, numeric and special character counts for specific column\n",
    "        numeric_counts = df[column].str.count(r\"[0-9]\")\n",
    "        special_counts = df[column].str.count(r\"[^A-Za-z0-9\\s\\.]\")\n",
    "        alpha_counts = vowel_counts + consonant_counts\n",
    "\n",
    "        # Add them into DF\n",
    "        df[\n",
    "            [\n",
    "                f\"{column}_alpha_count\",\n",
    "                f\"{column}_numeric_count\",\n",
    "                f\"{column}_special_count\",\n",
    "                f\"{column}_vowel_consonant_ratio\",\n",
    "            ]\n",
    "        ] = pd.Series(\n",
    "            [\n",
    "                alpha_counts,\n",
    "                numeric_counts,\n",
    "                special_counts,\n",
    "                vowel_counts / consonant_counts,\n",
    "            ]\n",
    "        )\n",
    "\n",
    "    return df"
   ]
  },
  {
   "cell_type": "markdown",
   "id": "8e90de86-c431-4d0d-b8e4-596d678bce9c",
   "metadata": {
    "tags": []
   },
   "source": [
    "##### Complexity of domain and subdomain"
   ]
  },
  {
   "cell_type": "markdown",
   "id": "aff41ad3-a441-4f0b-9bfe-567562ce3cea",
   "metadata": {},
   "source": [
    "Using compression algorithm (`smaz` python implementation) to approximate Kolmogorov complexity"
   ]
  },
  {
   "cell_type": "code",
   "execution_count": 13,
   "id": "07ebd10c-e481-42ad-917f-d15009326d08",
   "metadata": {
    "execution": {
     "iopub.execute_input": "2023-05-08T08:04:04.023387Z",
     "iopub.status.busy": "2023-05-08T08:04:04.022916Z",
     "iopub.status.idle": "2023-05-08T08:04:04.030613Z",
     "shell.execute_reply": "2023-05-08T08:04:04.029240Z",
     "shell.execute_reply.started": "2023-05-08T08:04:04.023340Z"
    },
    "tags": []
   },
   "outputs": [],
   "source": [
    "def approximate_kolmogorov_complexity(df):\n",
    "    df[[\"FQDN_complexity\"]] = df[[\"FQDN\"]].applymap(\n",
    "        lambda s: len(smaz.compress(s)) / len(s) if s != \"\" else np.nan\n",
    "    )\n",
    "\n",
    "    return df"
   ]
  },
  {
   "cell_type": "markdown",
   "id": "c1bbfe13-7f85-46d9-8d1b-2f3f0ced8089",
   "metadata": {},
   "source": [
    "#### Feature imputation, scaling & selection"
   ]
  },
  {
   "cell_type": "code",
   "execution_count": 14,
   "id": "b8c91f6e-101c-4e77-bf30-a266a0cd1a6a",
   "metadata": {
    "execution": {
     "iopub.execute_input": "2023-05-08T08:04:04.032725Z",
     "iopub.status.busy": "2023-05-08T08:04:04.032230Z",
     "iopub.status.idle": "2023-05-08T08:04:04.040442Z",
     "shell.execute_reply": "2023-05-08T08:04:04.039056Z",
     "shell.execute_reply.started": "2023-05-08T08:04:04.032676Z"
    },
    "tags": []
   },
   "outputs": [],
   "source": [
    "def impute_values(df):\n",
    "    # Replace NaN values with zeros\n",
    "    df.fillna(0, inplace=True)\n",
    "\n",
    "    # Replace infinities with the maximum finite value in each column\n",
    "    df = df.replace([np.inf, -np.inf], np.nan)\n",
    "    max_values = df.max()\n",
    "\n",
    "    df.fillna(max_values, inplace=True)\n",
    "\n",
    "    return df"
   ]
  },
  {
   "cell_type": "code",
   "execution_count": 15,
   "id": "445047aa-cea9-49e7-8124-9c67d78801ea",
   "metadata": {
    "execution": {
     "iopub.execute_input": "2023-05-08T08:04:04.048269Z",
     "iopub.status.busy": "2023-05-08T08:04:04.047825Z",
     "iopub.status.idle": "2023-05-08T08:04:04.056334Z",
     "shell.execute_reply": "2023-05-08T08:04:04.055006Z",
     "shell.execute_reply.started": "2023-05-08T08:04:04.048223Z"
    },
    "tags": []
   },
   "outputs": [],
   "source": [
    "columns_to_take = [\n",
    "    \"domain_length\",\n",
    "    \"subdomain_length\",\n",
    "    \"TLD_length\",\n",
    "    \"num_of_subdomains\",\n",
    "    \"domain_alpha_count\",\n",
    "    \"domain_numeric_count\",\n",
    "    \"domain_special_count\",\n",
    "    \"domain_vowel_consonant_ratio\",\n",
    "    \"subdomain_alpha_count\",\n",
    "    \"subdomain_numeric_count\",\n",
    "    \"subdomain_special_count\",\n",
    "    \"subdomain_vowel_consonant_ratio\",\n",
    "    \"TLD_alpha_count\",\n",
    "    \"TLD_numeric_count\",\n",
    "    \"TLD_special_count\",\n",
    "    \"TLD_vowel_consonant_ratio\",\n",
    "    \"FQDN_complexity\",\n",
    "]\n",
    "\n",
    "\n",
    "def slice_dataset(df):\n",
    "    print(\"slice_dataset function:\")\n",
    "    print(f\"All columns: {df.columns}\")\n",
    "\n",
    "    df = df.loc[:, columns_to_take]\n",
    "\n",
    "    print(f\"Columns left: {df.columns}\")\n",
    "\n",
    "    return df"
   ]
  },
  {
   "cell_type": "code",
   "execution_count": 16,
   "id": "b1d667f1-824f-4f1c-887e-7dd3743d5e11",
   "metadata": {
    "execution": {
     "iopub.execute_input": "2023-05-08T08:04:04.058244Z",
     "iopub.status.busy": "2023-05-08T08:04:04.057836Z",
     "iopub.status.idle": "2023-05-08T08:04:04.064205Z",
     "shell.execute_reply": "2023-05-08T08:04:04.063037Z",
     "shell.execute_reply.started": "2023-05-08T08:04:04.058202Z"
    },
    "tags": []
   },
   "outputs": [],
   "source": [
    "def standardise_features(df):\n",
    "    ssc = StandardScaler()\n",
    "\n",
    "    df = ssc.fit_transform(df)\n",
    "\n",
    "    return df"
   ]
  },
  {
   "cell_type": "code",
   "execution_count": 17,
   "id": "05cc9984-5fdb-4511-99c0-6a916f484a74",
   "metadata": {
    "execution": {
     "iopub.execute_input": "2023-05-08T08:04:04.066089Z",
     "iopub.status.busy": "2023-05-08T08:04:04.065681Z",
     "iopub.status.idle": "2023-05-08T08:04:04.071870Z",
     "shell.execute_reply": "2023-05-08T08:04:04.070760Z",
     "shell.execute_reply.started": "2023-05-08T08:04:04.066048Z"
    },
    "tags": []
   },
   "outputs": [],
   "source": [
    "def select_features(df, random_state = None):\n",
    "    pca = PCA(n_components=0.95, random_state = random_state)\n",
    "    df = pca.fit_transform(df)\n",
    "\n",
    "    return df"
   ]
  },
  {
   "cell_type": "raw",
   "id": "807a40a0-d4a5-492f-949f-67f082d66725",
   "metadata": {
    "tags": []
   },
   "source": [
    "from sklearn.decomposition import IncrementalPCA\n",
    "\n",
    "tsvd = IncrementalPCA(n_components=100)\n",
    "\n",
    "tsvd.fit(X_tfidf)"
   ]
  },
  {
   "cell_type": "code",
   "execution_count": 18,
   "id": "158b61fc-0e6d-45e9-9ed0-715a57a21819",
   "metadata": {
    "execution": {
     "iopub.execute_input": "2023-05-08T08:04:04.073776Z",
     "iopub.status.busy": "2023-05-08T08:04:04.073373Z",
     "iopub.status.idle": "2023-05-08T08:04:04.080612Z",
     "shell.execute_reply": "2023-05-08T08:04:04.079493Z",
     "shell.execute_reply.started": "2023-05-08T08:04:04.073737Z"
    },
    "tags": []
   },
   "outputs": [],
   "source": [
    "def extract_features(df):\n",
    "    df = df.copy()\n",
    "    df = extract_FQDNs(df)\n",
    "    df = clean_data(df)\n",
    "    df = expand_fqdns(df)\n",
    "    df = clean_invalid_domains(df)\n",
    "    df = extract_lengths(df)\n",
    "    df = extract_subdomains_count(df)\n",
    "    df = extract_char_frequency_vowel_consonant_ratio(df)\n",
    "    df = approximate_kolmogorov_complexity(df)\n",
    "\n",
    "    return df"
   ]
  },
  {
   "cell_type": "code",
   "execution_count": 19,
   "id": "84463312-e47c-40c6-aa46-f3971fddc16b",
   "metadata": {
    "execution": {
     "iopub.execute_input": "2023-05-08T08:04:04.082363Z",
     "iopub.status.busy": "2023-05-08T08:04:04.081985Z",
     "iopub.status.idle": "2023-05-08T08:04:04.088763Z",
     "shell.execute_reply": "2023-05-08T08:04:04.087658Z",
     "shell.execute_reply.started": "2023-05-08T08:04:04.082324Z"
    },
    "tags": []
   },
   "outputs": [],
   "source": [
    "def transform_features(df, random_state = None):\n",
    "    df = df.copy()\n",
    "\n",
    "    df = impute_values(df)\n",
    "    df = slice_dataset(df)\n",
    "\n",
    "    # From here data is in np.ndarray\n",
    "    matrix = standardise_features(df)\n",
    "    matrix = select_features(matrix, random_state)\n",
    "\n",
    "    # sparse_matrix = sp.csr_matrix(matrix)\n",
    "\n",
    "    return matrix"
   ]
  },
  {
   "cell_type": "markdown",
   "id": "75cb44c8-67ba-41b6-9018-73373469ca58",
   "metadata": {
    "tags": []
   },
   "source": [
    "### TF-IDF"
   ]
  },
  {
   "cell_type": "markdown",
   "id": "18fad5fa-194d-46c2-b89e-b4857989464a",
   "metadata": {
    "tags": []
   },
   "source": [
    "#### Incremental wrapper"
   ]
  },
  {
   "cell_type": "code",
   "execution_count": 20,
   "id": "cf7aa504-e0a1-4712-8c36-bc19b89cedd3",
   "metadata": {
    "execution": {
     "iopub.execute_input": "2023-05-08T08:04:04.090636Z",
     "iopub.status.busy": "2023-05-08T08:04:04.090241Z",
     "iopub.status.idle": "2023-05-08T08:04:04.317160Z",
     "shell.execute_reply": "2023-05-08T08:04:04.315845Z",
     "shell.execute_reply.started": "2023-05-08T08:04:04.090596Z"
    },
    "jupyter": {
     "source_hidden": true
    },
    "tags": []
   },
   "outputs": [],
   "source": [
    "class IncrementalTfidf:\n",
    "    \"\"\"\n",
    "    A class to process text data in chunks and incrementally compute character-level TF-IDF values.\n",
    "\n",
    "    Attributes:\n",
    "    -----------\n",
    "    hashing_vectorizer : HashingVectorizer\n",
    "        Vectorizer that converts text data to a term-document matrix using the hashing trick\n",
    "    tfidf_transformer : TfidfTransformer\n",
    "        Transformer that computes TF-IDF values from the term-document matrix\n",
    "    X_counts : scipy.sparse matrix\n",
    "        Accumulated term-document matrix\n",
    "    X_tfidf : scipy.sparse matrix\n",
    "        Accumulated TF-IDF representation\n",
    "    \"\"\"\n",
    "\n",
    "    def __init__(\n",
    "        self,\n",
    "        ngram_range=(1, 1),\n",
    "        n_features=2**20,\n",
    "        column_name=\"\",\n",
    "    ):  # Default value for n_features in HashingVectorizer\n",
    "        \"\"\"\n",
    "        Initializes the IncrementalTfidf with a HashingVectorizer and TfidfTransformer.\n",
    "        \"\"\"\n",
    "        self.hashing_vectorizer = HashingVectorizer(\n",
    "            analyzer=\"char\",\n",
    "            token_pattern=None,\n",
    "            n_features=n_features,\n",
    "            ngram_range=ngram_range,\n",
    "        )\n",
    "        self.tfidf_transformer = TfidfTransformer()\n",
    "        self.X_counts = None\n",
    "        self.X_tfidf = None\n",
    "        self.column_name = column_name\n",
    "\n",
    "    def update_tf_counts(self, chunk):\n",
    "        \"\"\"\n",
    "        Updates the term-document matrix with the new chunk of text data.\n",
    "\n",
    "        Parameters:\n",
    "        -----------\n",
    "        chunk : pandas.Series or list of str\n",
    "            New chunk of text data\n",
    "        \"\"\"\n",
    "        # Transform the chunk of text data into a term-document matrix using the HashingVectorizer\n",
    "        chunk_counts = self.hashing_vectorizer.transform(chunk)\n",
    "\n",
    "        # If this is the first chunk, set the term-document matrix to the transformed chunk\n",
    "        if self.X_counts is None:\n",
    "            self.X_counts = chunk_counts\n",
    "        else:\n",
    "            # Otherwise, stack the transformed chunk to the existing term-document matrix\n",
    "            self.X_counts = sp.vstack((self.X_counts, chunk_counts))\n",
    "\n",
    "    def update_idf(self):\n",
    "        \"\"\"\n",
    "        Updates the TfidfTransformer based on the current term-document matrix.\n",
    "        \"\"\"\n",
    "        self.tfidf_transformer.fit(self.X_counts)\n",
    "\n",
    "    def partial_fit(self, chunk):\n",
    "        \"\"\"\n",
    "        Updates the term-document matrix and fits the TfidfTransformer with the new chunk of text data.\n",
    "\n",
    "        Parameters:\n",
    "        -----------\n",
    "        chunk : pandas.Series or list of str\n",
    "            New chunk of text data\n",
    "\n",
    "        Returns:\n",
    "        --------\n",
    "        self : IncrementalTfidf\n",
    "            The instance of the IncrementalTfidf\n",
    "        \"\"\"\n",
    "        self.update_tf_counts(chunk)\n",
    "        self.update_idf()\n",
    "        return self\n",
    "\n",
    "    def transform(self, chunk):\n",
    "        \"\"\"\n",
    "        Transforms the given chunk of text data to a TF-IDF representation.\n",
    "\n",
    "        Parameters:\n",
    "        -----------\n",
    "        chunk : pandas.Series or list of str\n",
    "            Chunk of text data to be transformed\n",
    "\n",
    "        Returns:\n",
    "        --------\n",
    "        chunk_tfidf : scipy.sparse matrix\n",
    "            Transformed chunk in TF-IDF representation\n",
    "        \"\"\"\n",
    "        chunk_counts = self.hashing_vectorizer.transform(chunk)\n",
    "        chunk_tfidf = self.tfidf_transformer.transform(chunk_counts)\n",
    "        return chunk_tfidf\n",
    "\n",
    "    def partial_fit_transform(self, chunk):\n",
    "        \"\"\"\n",
    "        Updates the term-document matrix, fits the TfidfTransformer, and transforms the given chunk of text data.\n",
    "\n",
    "        Parameters:\n",
    "        -----------\n",
    "        chunk : pandas.Series or list of str\n",
    "            New chunk of text data\n",
    "\n",
    "        Returns:\n",
    "        --------\n",
    "        chunk_tfidf : scipy.sparse matrix\n",
    "            Transformed chunk in TF-IDF representation\n",
    "        \"\"\"\n",
    "        self.partial_fit(chunk)\n",
    "        return self.transform(chunk)\n",
    "\n",
    "    def compute_tfidf(self):\n",
    "        \"\"\"\n",
    "        Retrieves the accumulated TF-IDF representation of the processed text data.\n",
    "\n",
    "        Returns:\n",
    "        --------\n",
    "        X_tfidf : scipy.sparse matrix\n",
    "            Accumulated TF-IDF representation\n",
    "        \"\"\"\n",
    "        self.X_tfidf = self.tfidf_transformer.transform(self.X_counts)\n",
    "        return self.X_tfidf"
   ]
  },
  {
   "cell_type": "markdown",
   "id": "31192309-f83c-41a4-966a-932f15500320",
   "metadata": {
    "tags": []
   },
   "source": [
    "#### The code"
   ]
  },
  {
   "cell_type": "code",
   "execution_count": 21,
   "id": "1e432c2c-b3c1-4a35-9877-d8a08552339e",
   "metadata": {
    "execution": {
     "iopub.execute_input": "2023-05-08T08:04:04.318860Z",
     "iopub.status.busy": "2023-05-08T08:04:04.318536Z",
     "iopub.status.idle": "2023-05-08T08:04:04.324803Z",
     "shell.execute_reply": "2023-05-08T08:04:04.323699Z",
     "shell.execute_reply.started": "2023-05-08T08:04:04.318826Z"
    },
    "tags": []
   },
   "outputs": [],
   "source": [
    "def fit_vectorizers(df, columns, ngram_ranges):\n",
    "    fitted_tfidf_vectorizers = []\n",
    "\n",
    "    for i, column in enumerate(columns):\n",
    "        incremental_tfidf = IncrementalTfidf(ngram_range=ngram_ranges[i])\n",
    "\n",
    "        incremental_tfidf.partial_fit(df[column])\n",
    "\n",
    "        fitted_tfidf_vectorizers.append(incremental_tfidf)\n",
    "\n",
    "    return fitted_tfidf_vectorizers"
   ]
  },
  {
   "cell_type": "code",
   "execution_count": 22,
   "id": "fc86baea-613a-4300-aa21-f2fa35dd13fc",
   "metadata": {
    "execution": {
     "iopub.execute_input": "2023-05-08T08:04:04.326346Z",
     "iopub.status.busy": "2023-05-08T08:04:04.326050Z",
     "iopub.status.idle": "2023-05-08T08:04:04.331272Z",
     "shell.execute_reply": "2023-05-08T08:04:04.330330Z",
     "shell.execute_reply.started": "2023-05-08T08:04:04.326316Z"
    },
    "tags": []
   },
   "outputs": [],
   "source": [
    "def get_tfidf_matrices(fitted_vectorizers):\n",
    "    return [\n",
    "        incremental_tfidf.compute_tfidf() for incremental_tfidf in fitted_vectorizers\n",
    "    ]"
   ]
  },
  {
   "cell_type": "markdown",
   "id": "f7f572d9-0dd6-476d-a0ef-dcb2ddc81b61",
   "metadata": {
    "jp-MarkdownHeadingCollapsed": true,
    "tags": []
   },
   "source": [
    "#### TF-IDF selection parameter tuning"
   ]
  },
  {
   "cell_type": "code",
   "execution_count": 23,
   "id": "dc5c79e3-3daf-404d-a8a9-51c5b5052f2a",
   "metadata": {
    "execution": {
     "iopub.execute_input": "2023-05-08T08:04:04.332863Z",
     "iopub.status.busy": "2023-05-08T08:04:04.332541Z",
     "iopub.status.idle": "2023-05-08T08:04:04.340105Z",
     "shell.execute_reply": "2023-05-08T08:04:04.338780Z",
     "shell.execute_reply.started": "2023-05-08T08:04:04.332831Z"
    },
    "tags": []
   },
   "outputs": [],
   "source": [
    "# Open the file in binary mode\n",
    "with open(\"domain_n_components_search.pkl\", \"rb\") as file:\n",
    "    components_variance_time_d = pickle.load(file)\n",
    "\n",
    "with open(\"subdomain_n_components_search.pkl\", \"rb\") as file:\n",
    "    components_variance_time_s = pickle.load(file)"
   ]
  },
  {
   "cell_type": "raw",
   "id": "69ac3dbc-9633-4226-b3ed-5038592c4981",
   "metadata": {
    "execution": {
     "iopub.execute_input": "2023-04-29T12:33:53.552384Z",
     "iopub.status.busy": "2023-04-29T12:33:53.552116Z",
     "iopub.status.idle": "2023-04-29T12:33:53.559472Z",
     "shell.execute_reply": "2023-04-29T12:33:53.558642Z",
     "shell.execute_reply.started": "2023-04-29T12:33:53.552351Z"
    },
    "tags": []
   },
   "source": [
    "# Open the file in binary mode\n",
    "with open(\"explained_variance_ratios.pkl\", \"rb\") as file:\n",
    "\n",
    "    # Call load method to deserialze\n",
    "    explained_variance_ratios = pickle.load(file)\n",
    "\n",
    "    print(explained_variance_ratios)\n",
    "\n",
    "with open(\"times.pkl\", \"rb\") as file:\n",
    "\n",
    "    # Call load method to deserialze\n",
    "    times = pickle.load(file)\n",
    "\n",
    "    print(times)"
   ]
  },
  {
   "cell_type": "raw",
   "id": "db603616-7c71-4847-8529-7ec0826ea03a",
   "metadata": {
    "execution": {
     "iopub.execute_input": "2023-04-29T12:33:53.560915Z",
     "iopub.status.busy": "2023-04-29T12:33:53.560658Z",
     "iopub.status.idle": "2023-04-29T12:33:53.565410Z",
     "shell.execute_reply": "2023-04-29T12:33:53.564608Z",
     "shell.execute_reply.started": "2023-04-29T12:33:53.560880Z"
    },
    "tags": []
   },
   "source": [
    "dt = np.dtype(\"int,float\")\n",
    "\n",
    "n_components = np.asarray(times, dtype=\"i,f\")[\"f0\"]\n",
    "\n",
    "times_explained_variance = np.dstack((n_components, explained_variance_ratios))[0]"
   ]
  },
  {
   "cell_type": "raw",
   "id": "2c9e3fb3-243f-4c44-aef0-d9a1600fd054",
   "metadata": {
    "execution": {
     "iopub.execute_input": "2023-04-29T13:11:11.967051Z",
     "iopub.status.busy": "2023-04-29T13:11:11.966144Z",
     "iopub.status.idle": "2023-04-29T13:11:11.974383Z",
     "shell.execute_reply": "2023-04-29T13:11:11.972776Z",
     "shell.execute_reply.started": "2023-04-29T13:11:11.966982Z"
    },
    "tags": []
   },
   "source": [
    "# Run to remove all collected data from TruncatedSVD analysis\n",
    "del components_variance_time_d\n",
    "del components_variance_time_s"
   ]
  },
  {
   "cell_type": "raw",
   "id": "b422b9f9-df5d-44d4-8741-b7dfaba6de15",
   "metadata": {
    "execution": {
     "iopub.execute_input": "2023-04-29T14:32:13.140431Z",
     "iopub.status.busy": "2023-04-29T14:32:13.139694Z",
     "iopub.status.idle": "2023-04-29T15:08:28.654859Z",
     "shell.execute_reply": "2023-04-29T15:08:28.652422Z",
     "shell.execute_reply.started": "2023-04-29T14:32:13.140363Z"
    },
    "tags": []
   },
   "source": [
    "# Calculate the explained variance ratio for different numbers of components\n",
    "# Take subsample\n",
    "SAMPLE_SIZE = int(X_domain_tfidf.shape[0] / 100)\n",
    "\n",
    "np.random.seed(123)\n",
    "\n",
    "random_indices = np.random.choice(\n",
    "    X_domain_tfidf.shape[0], size=SAMPLE_SIZE, replace=False\n",
    ")\n",
    "\n",
    "X_domain_tfidf_sample = X_domain_tfidf[random_indices, :]\n",
    "\n",
    "# Define search space\n",
    "start_n_components_domain = 50\n",
    "max_n_components_domain = 500\n",
    "step_domain = 50\n",
    "\n",
    "# Create DataFrame for results if it does not exist\n",
    "try:\n",
    "    components_variance_time_d\n",
    "except NameError:\n",
    "    components_variance_time_d = pd.DataFrame(\n",
    "        columns=[\"n_components\", \"explained_variance\", \"time\"]\n",
    "    )\n",
    "\n",
    "\n",
    "# Train TruncatedSVD and store results\n",
    "for n_components in range(\n",
    "    start_n_components_domain, max_n_components_domain + 1, step_domain\n",
    "):\n",
    "    start = time.time()\n",
    "    lsa = make_pipeline(TruncatedSVD(n_components=n_components), Normalizer(copy=False))\n",
    "    lsa.fit_transform(X_domain_tfidf_sample)\n",
    "    explained_variance_ratio = lsa[0].explained_variance_ratio_.sum()\n",
    "    end = time.time()\n",
    "    components_variance_time_d.loc[len(components_variance_time_d)] = (\n",
    "        n_components,\n",
    "        explained_variance_ratio,\n",
    "        end - start,\n",
    "    )"
   ]
  },
  {
   "cell_type": "raw",
   "id": "a71c2148-4ef1-4581-894e-c6395e9b5bcd",
   "metadata": {
    "execution": {
     "iopub.execute_input": "2023-04-29T15:22:14.453085Z",
     "iopub.status.busy": "2023-04-29T15:22:14.452639Z",
     "iopub.status.idle": "2023-04-29T15:22:14.472477Z",
     "shell.execute_reply": "2023-04-29T15:22:14.471024Z",
     "shell.execute_reply.started": "2023-04-29T15:22:14.453020Z"
    },
    "tags": []
   },
   "source": [
    "components_variance_time_d"
   ]
  },
  {
   "cell_type": "raw",
   "id": "95245ed4-d1f3-41e5-a0d4-806751a77bd7",
   "metadata": {
    "execution": {
     "iopub.execute_input": "2023-04-29T15:30:14.346816Z",
     "iopub.status.busy": "2023-04-29T15:30:14.346064Z",
     "iopub.status.idle": "2023-04-29T16:00:52.901475Z",
     "shell.execute_reply": "2023-04-29T16:00:52.898117Z",
     "shell.execute_reply.started": "2023-04-29T15:30:14.346754Z"
    },
    "tags": []
   },
   "source": [
    "# Calculate the explained variance ratio for different numbers of components\n",
    "# Take subsample\n",
    "SAMPLE_SIZE = int(X_subdomain_tfidf.shape[0] / 10)\n",
    "\n",
    "np.random.seed(321)\n",
    "\n",
    "random_indices = np.random.choice(\n",
    "    X_subdomain_tfidf.shape[0], size=SAMPLE_SIZE, replace=False\n",
    ")\n",
    "\n",
    "X_subdomain_tfidf_sample = X_subdomain_tfidf[random_indices, :]\n",
    "\n",
    "start_n_components_subdomain = 300\n",
    "max_n_components_subdomain = 500\n",
    "step_subdomain = 50\n",
    "\n",
    "try:\n",
    "    components_variance_time_s\n",
    "except NameError:\n",
    "    components_variance_time_s = pd.DataFrame(\n",
    "        columns=[\"n_components\", \"explained_variance\", \"time\"]\n",
    "    )\n",
    "\n",
    "for n_components in range(\n",
    "    start_n_components_subdomain, max_n_components_subdomain + 1, step_subdomain\n",
    "):\n",
    "    start = time.time()\n",
    "    lsa = make_pipeline(TruncatedSVD(n_components=n_components), Normalizer(copy=False))\n",
    "    lsa.fit_transform(X_subdomain_tfidf_sample)\n",
    "    explained_variance_ratio = lsa[0].explained_variance_ratio_.sum()\n",
    "    end = time.time()\n",
    "    components_variance_time_s.loc[len(components_variance_time_s)] = (\n",
    "        n_components,\n",
    "        explained_variance_ratio,\n",
    "        end - start,\n",
    "    )"
   ]
  },
  {
   "cell_type": "raw",
   "id": "cfa00cf7-b7a4-4708-b4c3-98a8d6f83cb9",
   "metadata": {
    "execution": {
     "iopub.execute_input": "2023-04-29T16:00:59.301841Z",
     "iopub.status.busy": "2023-04-29T16:00:59.301098Z",
     "iopub.status.idle": "2023-04-29T16:00:59.326131Z",
     "shell.execute_reply": "2023-04-29T16:00:59.324632Z",
     "shell.execute_reply.started": "2023-04-29T16:00:59.301778Z"
    },
    "tags": []
   },
   "source": [
    "components_variance_time_d = components_variance_time_d.sort_values(\n",
    "    \"n_components\"\n",
    ").reset_index(drop=True)\n",
    "components_variance_time_d"
   ]
  },
  {
   "cell_type": "raw",
   "id": "c5aa850c-d136-4312-bbdb-3dcd1badbf54",
   "metadata": {
    "execution": {
     "iopub.execute_input": "2023-04-29T16:01:01.177121Z",
     "iopub.status.busy": "2023-04-29T16:01:01.176799Z",
     "iopub.status.idle": "2023-04-29T16:01:01.188694Z",
     "shell.execute_reply": "2023-04-29T16:01:01.187683Z",
     "shell.execute_reply.started": "2023-04-29T16:01:01.177087Z"
    },
    "tags": []
   },
   "source": [
    "components_variance_time_s"
   ]
  },
  {
   "cell_type": "code",
   "execution_count": 24,
   "id": "f6f6299d-9fee-4c9a-94f1-e291065195a5",
   "metadata": {
    "execution": {
     "iopub.execute_input": "2023-05-08T08:04:04.341812Z",
     "iopub.status.busy": "2023-05-08T08:04:04.341486Z",
     "iopub.status.idle": "2023-05-08T08:04:04.358092Z",
     "shell.execute_reply": "2023-05-08T08:04:04.357351Z",
     "shell.execute_reply.started": "2023-05-08T08:04:04.341780Z"
    },
    "tags": []
   },
   "outputs": [
    {
     "data": {
      "text/html": [
       "<div>\n",
       "<style scoped>\n",
       "    .dataframe tbody tr th:only-of-type {\n",
       "        vertical-align: middle;\n",
       "    }\n",
       "\n",
       "    .dataframe tbody tr th {\n",
       "        vertical-align: top;\n",
       "    }\n",
       "\n",
       "    .dataframe thead th {\n",
       "        text-align: right;\n",
       "    }\n",
       "</style>\n",
       "<table border=\"1\" class=\"dataframe\">\n",
       "  <thead>\n",
       "    <tr style=\"text-align: right;\">\n",
       "      <th></th>\n",
       "      <th>n_components</th>\n",
       "      <th>explained_variance</th>\n",
       "      <th>time</th>\n",
       "    </tr>\n",
       "  </thead>\n",
       "  <tbody>\n",
       "    <tr>\n",
       "      <th>0</th>\n",
       "      <td>50.0</td>\n",
       "      <td>0.203524</td>\n",
       "      <td>31.149051</td>\n",
       "    </tr>\n",
       "    <tr>\n",
       "      <th>1</th>\n",
       "      <td>100.0</td>\n",
       "      <td>0.264797</td>\n",
       "      <td>67.864457</td>\n",
       "    </tr>\n",
       "    <tr>\n",
       "      <th>2</th>\n",
       "      <td>150.0</td>\n",
       "      <td>0.309656</td>\n",
       "      <td>105.534248</td>\n",
       "    </tr>\n",
       "    <tr>\n",
       "      <th>3</th>\n",
       "      <td>200.0</td>\n",
       "      <td>0.346883</td>\n",
       "      <td>141.300749</td>\n",
       "    </tr>\n",
       "    <tr>\n",
       "      <th>4</th>\n",
       "      <td>250.0</td>\n",
       "      <td>0.378808</td>\n",
       "      <td>199.878068</td>\n",
       "    </tr>\n",
       "    <tr>\n",
       "      <th>5</th>\n",
       "      <td>300.0</td>\n",
       "      <td>0.406746</td>\n",
       "      <td>244.907631</td>\n",
       "    </tr>\n",
       "    <tr>\n",
       "      <th>6</th>\n",
       "      <td>350.0</td>\n",
       "      <td>0.432072</td>\n",
       "      <td>252.690518</td>\n",
       "    </tr>\n",
       "    <tr>\n",
       "      <th>7</th>\n",
       "      <td>400.0</td>\n",
       "      <td>0.454934</td>\n",
       "      <td>324.154937</td>\n",
       "    </tr>\n",
       "    <tr>\n",
       "      <th>8</th>\n",
       "      <td>450.0</td>\n",
       "      <td>0.476095</td>\n",
       "      <td>366.737838</td>\n",
       "    </tr>\n",
       "    <tr>\n",
       "      <th>9</th>\n",
       "      <td>500.0</td>\n",
       "      <td>0.495445</td>\n",
       "      <td>441.196094</td>\n",
       "    </tr>\n",
       "    <tr>\n",
       "      <th>10</th>\n",
       "      <td>1000.0</td>\n",
       "      <td>0.557788</td>\n",
       "      <td>1032.853891</td>\n",
       "    </tr>\n",
       "    <tr>\n",
       "      <th>11</th>\n",
       "      <td>1500.0</td>\n",
       "      <td>0.627052</td>\n",
       "      <td>1690.275342</td>\n",
       "    </tr>\n",
       "  </tbody>\n",
       "</table>\n",
       "</div>"
      ],
      "text/plain": [
       "    n_components  explained_variance         time\n",
       "0           50.0            0.203524    31.149051\n",
       "1          100.0            0.264797    67.864457\n",
       "2          150.0            0.309656   105.534248\n",
       "3          200.0            0.346883   141.300749\n",
       "4          250.0            0.378808   199.878068\n",
       "5          300.0            0.406746   244.907631\n",
       "6          350.0            0.432072   252.690518\n",
       "7          400.0            0.454934   324.154937\n",
       "8          450.0            0.476095   366.737838\n",
       "9          500.0            0.495445   441.196094\n",
       "10        1000.0            0.557788  1032.853891\n",
       "11        1500.0            0.627052  1690.275342"
      ]
     },
     "execution_count": 24,
     "metadata": {},
     "output_type": "execute_result"
    }
   ],
   "source": [
    "components_variance_time_d"
   ]
  },
  {
   "cell_type": "code",
   "execution_count": 25,
   "id": "f37849f9-9f2d-47de-9526-94407307313d",
   "metadata": {
    "execution": {
     "iopub.execute_input": "2023-05-08T08:04:04.359769Z",
     "iopub.status.busy": "2023-05-08T08:04:04.359460Z",
     "iopub.status.idle": "2023-05-08T08:04:04.371836Z",
     "shell.execute_reply": "2023-05-08T08:04:04.370869Z",
     "shell.execute_reply.started": "2023-05-08T08:04:04.359739Z"
    },
    "tags": []
   },
   "outputs": [
    {
     "data": {
      "text/html": [
       "<div>\n",
       "<style scoped>\n",
       "    .dataframe tbody tr th:only-of-type {\n",
       "        vertical-align: middle;\n",
       "    }\n",
       "\n",
       "    .dataframe tbody tr th {\n",
       "        vertical-align: top;\n",
       "    }\n",
       "\n",
       "    .dataframe thead th {\n",
       "        text-align: right;\n",
       "    }\n",
       "</style>\n",
       "<table border=\"1\" class=\"dataframe\">\n",
       "  <thead>\n",
       "    <tr style=\"text-align: right;\">\n",
       "      <th></th>\n",
       "      <th>n_components</th>\n",
       "      <th>explained_variance</th>\n",
       "      <th>time</th>\n",
       "    </tr>\n",
       "  </thead>\n",
       "  <tbody>\n",
       "    <tr>\n",
       "      <th>0</th>\n",
       "      <td>50.0</td>\n",
       "      <td>0.618523</td>\n",
       "      <td>39.670499</td>\n",
       "    </tr>\n",
       "    <tr>\n",
       "      <th>1</th>\n",
       "      <td>100.0</td>\n",
       "      <td>0.664505</td>\n",
       "      <td>79.461383</td>\n",
       "    </tr>\n",
       "    <tr>\n",
       "      <th>2</th>\n",
       "      <td>150.0</td>\n",
       "      <td>0.689425</td>\n",
       "      <td>120.962933</td>\n",
       "    </tr>\n",
       "    <tr>\n",
       "      <th>3</th>\n",
       "      <td>200.0</td>\n",
       "      <td>0.707822</td>\n",
       "      <td>154.087906</td>\n",
       "    </tr>\n",
       "    <tr>\n",
       "      <th>4</th>\n",
       "      <td>250.0</td>\n",
       "      <td>0.722636</td>\n",
       "      <td>194.990992</td>\n",
       "    </tr>\n",
       "    <tr>\n",
       "      <th>5</th>\n",
       "      <td>300.0</td>\n",
       "      <td>0.735147</td>\n",
       "      <td>234.423706</td>\n",
       "    </tr>\n",
       "    <tr>\n",
       "      <th>6</th>\n",
       "      <td>300.0</td>\n",
       "      <td>0.735153</td>\n",
       "      <td>268.272343</td>\n",
       "    </tr>\n",
       "    <tr>\n",
       "      <th>7</th>\n",
       "      <td>350.0</td>\n",
       "      <td>0.745937</td>\n",
       "      <td>293.486791</td>\n",
       "    </tr>\n",
       "    <tr>\n",
       "      <th>8</th>\n",
       "      <td>400.0</td>\n",
       "      <td>0.755430</td>\n",
       "      <td>352.753080</td>\n",
       "    </tr>\n",
       "    <tr>\n",
       "      <th>9</th>\n",
       "      <td>450.0</td>\n",
       "      <td>0.763909</td>\n",
       "      <td>425.432609</td>\n",
       "    </tr>\n",
       "    <tr>\n",
       "      <th>10</th>\n",
       "      <td>500.0</td>\n",
       "      <td>0.771543</td>\n",
       "      <td>498.506293</td>\n",
       "    </tr>\n",
       "  </tbody>\n",
       "</table>\n",
       "</div>"
      ],
      "text/plain": [
       "    n_components  explained_variance        time\n",
       "0           50.0            0.618523   39.670499\n",
       "1          100.0            0.664505   79.461383\n",
       "2          150.0            0.689425  120.962933\n",
       "3          200.0            0.707822  154.087906\n",
       "4          250.0            0.722636  194.990992\n",
       "5          300.0            0.735147  234.423706\n",
       "6          300.0            0.735153  268.272343\n",
       "7          350.0            0.745937  293.486791\n",
       "8          400.0            0.755430  352.753080\n",
       "9          450.0            0.763909  425.432609\n",
       "10         500.0            0.771543  498.506293"
      ]
     },
     "execution_count": 25,
     "metadata": {},
     "output_type": "execute_result"
    }
   ],
   "source": [
    "components_variance_time_s"
   ]
  },
  {
   "cell_type": "code",
   "execution_count": 26,
   "id": "7a0a7a21-c64d-44b6-8b94-cc44cd9b9621",
   "metadata": {
    "execution": {
     "iopub.execute_input": "2023-05-08T08:04:04.373354Z",
     "iopub.status.busy": "2023-05-08T08:04:04.373056Z",
     "iopub.status.idle": "2023-05-08T08:04:04.842668Z",
     "shell.execute_reply": "2023-05-08T08:04:04.841652Z",
     "shell.execute_reply.started": "2023-05-08T08:04:04.373324Z"
    },
    "tags": []
   },
   "outputs": [
    {
     "data": {
      "image/png": "[encoded data removed]",
      "text/plain": [
       "<Figure size 1000x600 with 1 Axes>"
      ]
     },
     "metadata": {},
     "output_type": "display_data"
    }
   ],
   "source": [
    "# Plot the cumulative explained variance ratio as a function of the number of components\n",
    "plt.figure(figsize=(10, 6))\n",
    "plt.plot(\n",
    "    components_variance_time_d[\"n_components\"],\n",
    "    components_variance_time_d[\"explained_variance\"],\n",
    "    marker=\"o\",\n",
    ")\n",
    "plt.xlabel(\"Number of Components\")\n",
    "plt.ylabel(\"Cumulative Explained Variance Ratio\")\n",
    "plt.title(\"Explained Variance Ratio vs Number of Components - Domains\")\n",
    "plt.show()"
   ]
  },
  {
   "cell_type": "code",
   "execution_count": 27,
   "id": "736fa4e6-5a8b-4ff3-b57f-65979b8839a8",
   "metadata": {
    "execution": {
     "iopub.execute_input": "2023-05-08T08:04:04.844319Z",
     "iopub.status.busy": "2023-05-08T08:04:04.844041Z",
     "iopub.status.idle": "2023-05-08T08:04:05.197510Z",
     "shell.execute_reply": "2023-05-08T08:04:05.196721Z",
     "shell.execute_reply.started": "2023-05-08T08:04:04.844292Z"
    },
    "tags": []
   },
   "outputs": [
    {
     "data": {
      "image/png": "[encoded data removed]",
      "text/plain": [
       "<Figure size 1000x600 with 1 Axes>"
      ]
     },
     "metadata": {},
     "output_type": "display_data"
    }
   ],
   "source": [
    "# Plot the cumulative explained variance ratio as a function of the number of components\n",
    "plt.figure(figsize=(10, 6))\n",
    "plt.plot(\n",
    "    components_variance_time_s[\"n_components\"],\n",
    "    components_variance_time_s[\"explained_variance\"],\n",
    "    marker=\"o\",\n",
    ")\n",
    "plt.xlabel(\"Number of Components\")\n",
    "plt.ylabel(\"Cumulative Explained Variance Ratio\")\n",
    "plt.title(\"Explained Variance Ratio vs Number of Components - Subdomains\")\n",
    "plt.show()"
   ]
  },
  {
   "cell_type": "code",
   "execution_count": 28,
   "id": "446ecd5e-47d9-4461-9837-e6ca93aee1a8",
   "metadata": {
    "execution": {
     "iopub.execute_input": "2023-05-08T08:04:05.199330Z",
     "iopub.status.busy": "2023-05-08T08:04:05.199096Z",
     "iopub.status.idle": "2023-05-08T08:04:05.205560Z",
     "shell.execute_reply": "2023-05-08T08:04:05.204837Z",
     "shell.execute_reply.started": "2023-05-08T08:04:05.199305Z"
    },
    "tags": []
   },
   "outputs": [],
   "source": [
    "# Open the file in binary mode\n",
    "with open(\"domain_n_components_search.pkl\", \"wb\") as file:\n",
    "    pickle.dump(components_variance_time_d, file)\n",
    "\n",
    "with open(\"subdomain_n_components_search.pkl\", \"wb\") as file:\n",
    "    pickle.dump(components_variance_time_s, file)"
   ]
  },
  {
   "cell_type": "markdown",
   "id": "39506bc3-f06a-4bd5-bc15-3bfea841ac95",
   "metadata": {},
   "source": [
    "#### TF-IDF feature selection"
   ]
  },
  {
   "cell_type": "code",
   "execution_count": 29,
   "id": "dddeecfd-0a78-4b61-801a-3802aad9949a",
   "metadata": {
    "execution": {
     "iopub.execute_input": "2023-05-08T08:04:05.206990Z",
     "iopub.status.busy": "2023-05-08T08:04:05.206729Z",
     "iopub.status.idle": "2023-05-08T08:04:05.211900Z",
     "shell.execute_reply": "2023-05-08T08:04:05.211209Z",
     "shell.execute_reply.started": "2023-05-08T08:04:05.206966Z"
    },
    "tags": []
   },
   "outputs": [],
   "source": [
    "def lsa_selection(tfidf_matrices, n_components, random_state):\n",
    "\n",
    "    selected_matrices = []\n",
    "    explained_variances = []\n",
    "\n",
    "    for i, tfidf_matrix in enumerate(tfidf_matrices):\n",
    "        lsa = make_pipeline(\n",
    "            TruncatedSVD(\n",
    "                n_components=n_components[i], random_state=random_state\n",
    "            )  # , Normalizer(copy=False)\n",
    "        )\n",
    "\n",
    "        X_lsa = lsa.fit_transform(tfidf_matrix)\n",
    "\n",
    "        selected_matrices.append(X_lsa)\n",
    "        explained_variances.append(lsa[0].explained_variance_ratio_.sum())\n",
    "\n",
    "    return (selected_matrices, explained_variances)"
   ]
  },
  {
   "cell_type": "code",
   "execution_count": 30,
   "id": "4c711df2-678d-44d9-917a-a8a56899269a",
   "metadata": {
    "execution": {
     "iopub.execute_input": "2023-05-08T08:04:05.213151Z",
     "iopub.status.busy": "2023-05-08T08:04:05.212900Z",
     "iopub.status.idle": "2023-05-08T08:04:05.218579Z",
     "shell.execute_reply": "2023-05-08T08:04:05.217631Z",
     "shell.execute_reply.started": "2023-05-08T08:04:05.213128Z"
    },
    "tags": []
   },
   "outputs": [],
   "source": [
    "def preprocess_tfidf(\n",
    "    df, columns, ngram_ranges, n_components, random_state=None, return_variance=False\n",
    "):\n",
    "    fitted_vectorizers = fit_vectorizers(df, columns, ngram_ranges)\n",
    "    tfidf_matrices = get_tfidf_matrices(fitted_vectorizers)\n",
    "    tfidf_lsas, explained_variances = lsa_selection(\n",
    "        tfidf_matrices, n_components, random_state\n",
    "    )\n",
    "\n",
    "    if not return_variance:\n",
    "        return tfidf_lsas\n",
    "    else:\n",
    "        return tfidf_lsas, explained_variances"
   ]
  },
  {
   "cell_type": "markdown",
   "id": "ab6270e6-5f9d-414b-87cf-36c8f0e48896",
   "metadata": {},
   "source": [
    "### The processing itself"
   ]
  },
  {
   "cell_type": "code",
   "execution_count": 33,
   "id": "c488794c-45fe-45e8-843f-0902d3f2c705",
   "metadata": {
    "execution": {
     "iopub.execute_input": "2023-05-08T08:04:49.592277Z",
     "iopub.status.busy": "2023-05-08T08:04:49.591503Z",
     "iopub.status.idle": "2023-05-08T08:05:34.689567Z",
     "shell.execute_reply": "2023-05-08T08:05:34.688523Z",
     "shell.execute_reply.started": "2023-05-08T08:04:49.592218Z"
    },
    "tags": []
   },
   "outputs": [],
   "source": [
    "urls_extracted_df = extract_features(urls_df)"
   ]
  },
  {
   "cell_type": "code",
   "execution_count": 34,
   "id": "934f1e25-52bb-4d4a-8fa2-720035241295",
   "metadata": {
    "execution": {
     "iopub.execute_input": "2023-05-08T08:05:34.705520Z",
     "iopub.status.busy": "2023-05-08T08:05:34.705156Z",
     "iopub.status.idle": "2023-05-08T08:05:36.656479Z",
     "shell.execute_reply": "2023-05-08T08:05:36.655497Z",
     "shell.execute_reply.started": "2023-05-08T08:05:34.705496Z"
    },
    "tags": []
   },
   "outputs": [
    {
     "name": "stdout",
     "output_type": "stream",
     "text": [
      "slice_dataset function:\n",
      "All columns: Index(['url', 'FQDN', 'has_www', 'subdomain', 'domain', 'TLD', 'domainTLD',\n",
      "       'domain_length', 'subdomain_length', 'TLD_length', 'num_of_subdomains',\n",
      "       'domain_alpha_count', 'domain_numeric_count', 'domain_special_count',\n",
      "       'domain_vowel_consonant_ratio', 'subdomain_alpha_count',\n",
      "       'subdomain_numeric_count', 'subdomain_special_count',\n",
      "       'subdomain_vowel_consonant_ratio', 'TLD_alpha_count',\n",
      "       'TLD_numeric_count', 'TLD_special_count', 'TLD_vowel_consonant_ratio',\n",
      "       'FQDN_complexity'],\n",
      "      dtype='object')\n",
      "Columns left: Index(['domain_length', 'subdomain_length', 'TLD_length', 'num_of_subdomains',\n",
      "       'domain_alpha_count', 'domain_numeric_count', 'domain_special_count',\n",
      "       'domain_vowel_consonant_ratio', 'subdomain_alpha_count',\n",
      "       'subdomain_numeric_count', 'subdomain_special_count',\n",
      "       'subdomain_vowel_consonant_ratio', 'TLD_alpha_count',\n",
      "       'TLD_numeric_count', 'TLD_special_count', 'TLD_vowel_consonant_ratio',\n",
      "       'FQDN_complexity'],\n",
      "      dtype='object')\n"
     ]
    }
   ],
   "source": [
    "urls_matrix = transform_features(urls_extracted_df, random_state = 41)"
   ]
  },
  {
   "cell_type": "code",
   "execution_count": 35,
   "id": "e5826c99-2f03-4ed1-a261-d53262400ebe",
   "metadata": {
    "execution": {
     "iopub.execute_input": "2023-05-08T08:05:36.658939Z",
     "iopub.status.busy": "2023-05-08T08:05:36.658567Z",
     "iopub.status.idle": "2023-05-08T08:12:08.337966Z",
     "shell.execute_reply": "2023-05-08T08:12:08.335734Z",
     "shell.execute_reply.started": "2023-05-08T08:05:36.658911Z"
    },
    "tags": []
   },
   "outputs": [],
   "source": [
    "tfidf_lsas, explained_variances = preprocess_tfidf(\n",
    "    urls_extracted_df,\n",
    "    [\"domainTLD\", \"subdomain\"],\n",
    "    [(5, 8), (2, 5)],\n",
    "    [138, 121],\n",
    "    random_state=28,\n",
    "    return_variance=True,\n",
    ")"
   ]
  },
  {
   "cell_type": "code",
   "execution_count": 36,
   "id": "e846af9e-a083-4a42-837c-cd3802af4866",
   "metadata": {
    "execution": {
     "iopub.execute_input": "2023-05-08T08:12:08.382241Z",
     "iopub.status.busy": "2023-05-08T08:12:08.381993Z",
     "iopub.status.idle": "2023-05-08T08:12:09.061413Z",
     "shell.execute_reply": "2023-05-08T08:12:09.058052Z",
     "shell.execute_reply.started": "2023-05-08T08:12:08.382216Z"
    },
    "tags": []
   },
   "outputs": [],
   "source": [
    "X_all_nonstandardised = np.hstack([urls_matrix] + tfidf_lsas)"
   ]
  },
  {
   "cell_type": "code",
   "execution_count": 37,
   "id": "966d0a06-9b81-4e63-93ec-4f9e7a353bbb",
   "metadata": {
    "execution": {
     "iopub.execute_input": "2023-05-08T08:12:09.065071Z",
     "iopub.status.busy": "2023-05-08T08:12:09.064651Z",
     "iopub.status.idle": "2023-05-08T08:12:10.842859Z",
     "shell.execute_reply": "2023-05-08T08:12:10.840604Z",
     "shell.execute_reply.started": "2023-05-08T08:12:09.065026Z"
    }
   },
   "outputs": [],
   "source": [
    "X_all = standardise_features(X_all_nonstandardised)"
   ]
  },
  {
   "cell_type": "raw",
   "id": "ebf63977-ee8c-4606-9129-b96ede61be2a",
   "metadata": {
    "execution": {
     "iopub.execute_input": "2023-05-04T08:00:23.313125Z",
     "iopub.status.busy": "2023-05-04T08:00:23.312492Z",
     "iopub.status.idle": "2023-05-04T08:00:26.877986Z",
     "shell.execute_reply": "2023-05-04T08:00:26.874838Z",
     "shell.execute_reply.started": "2023-05-04T08:00:23.313080Z"
    },
    "tags": []
   },
   "source": [
    "X = sp.hstack((urls_sparse, tfidf_lsas[0], tfidf_lsas[1]), format=\"csr\")"
   ]
  },
  {
   "cell_type": "markdown",
   "id": "6d23ec26-1d75-4d26-b45a-99c425d58e1f",
   "metadata": {},
   "source": [
    "## Model training"
   ]
  },
  {
   "cell_type": "code",
   "execution_count": 38,
   "id": "299c2086-25bb-4870-88cd-d10dc6b68f99",
   "metadata": {
    "execution": {
     "iopub.execute_input": "2023-05-08T08:12:10.845787Z",
     "iopub.status.busy": "2023-05-08T08:12:10.845249Z",
     "iopub.status.idle": "2023-05-08T08:12:10.853963Z",
     "shell.execute_reply": "2023-05-08T08:12:10.852789Z",
     "shell.execute_reply.started": "2023-05-08T08:12:10.845755Z"
    },
    "tags": []
   },
   "outputs": [],
   "source": [
    "def subsample(X, sample_size, seed, labels=None):\n",
    "    np.random.seed(seed)\n",
    "\n",
    "    random_indices = np.random.choice(X.shape[0], size=sample_size, replace=False)\n",
    "\n",
    "    X_subsample = X[random_indices]\n",
    "\n",
    "    labels_subsample = None\n",
    "\n",
    "    # print(X.shape[0], max(random_indices))\n",
    "\n",
    "    if labels is not None:\n",
    "        labels_subsample = labels[random_indices]\n",
    "\n",
    "    return (X_subsample, labels_subsample)"
   ]
  },
  {
   "cell_type": "code",
   "execution_count": 39,
   "id": "e6c0f056-5a93-4d7e-8c06-02030f84e534",
   "metadata": {
    "execution": {
     "iopub.execute_input": "2023-05-08T08:12:10.855305Z",
     "iopub.status.busy": "2023-05-08T08:12:10.855078Z",
     "iopub.status.idle": "2023-05-08T08:12:10.862429Z",
     "shell.execute_reply": "2023-05-08T08:12:10.861520Z",
     "shell.execute_reply.started": "2023-05-08T08:12:10.855282Z"
    },
    "tags": []
   },
   "outputs": [],
   "source": [
    "def train_BIRCH(X, branching_factor, threshold):\n",
    "    # Create a BIRCH clustering instance\n",
    "    birch_clustering = Birch(\n",
    "        n_clusters=None, branching_factor=branching_factor, threshold=threshold\n",
    "    )\n",
    "\n",
    "    # Fit the BIRCH clustering model on the TF-IDF data\n",
    "    birch_clustering.fit(X)\n",
    "\n",
    "    return birch_clustering"
   ]
  },
  {
   "cell_type": "markdown",
   "id": "d3862d3e-66e3-4f10-8799-4aeae487d24b",
   "metadata": {},
   "source": [
    "## Model evaluation"
   ]
  },
  {
   "cell_type": "code",
   "execution_count": 40,
   "id": "f5a0bba9-70cd-4e57-9d05-d6dda65b4d49",
   "metadata": {
    "execution": {
     "iopub.execute_input": "2023-05-08T08:12:10.865676Z",
     "iopub.status.busy": "2023-05-08T08:12:10.865391Z",
     "iopub.status.idle": "2023-05-08T08:12:10.870668Z",
     "shell.execute_reply": "2023-05-08T08:12:10.869783Z",
     "shell.execute_reply.started": "2023-05-08T08:12:10.865651Z"
    },
    "tags": []
   },
   "outputs": [],
   "source": [
    "def evaluate_model(X, labels):\n",
    "    # Calculate Silhouette Score\n",
    "    sil_score = silhouette_score(X, labels)\n",
    "\n",
    "    # Calculate Calinski-Harabasz Index\n",
    "    ch_index = calinski_harabasz_score(X, labels)\n",
    "\n",
    "    # Calculate Davies-Bouldin Index\n",
    "    db_index = davies_bouldin_score(X, labels)\n",
    "\n",
    "    return (sil_score, ch_index, db_index)"
   ]
  },
  {
   "cell_type": "markdown",
   "id": "8925a30f-3290-4f38-9a21-087eb4e37dab",
   "metadata": {},
   "source": [
    "## Hyperparameter optimisation"
   ]
  },
  {
   "cell_type": "code",
   "execution_count": 41,
   "id": "e66cc7fe-416b-4c3f-978d-9c206ce0c888",
   "metadata": {
    "execution": {
     "iopub.execute_input": "2023-05-08T08:12:10.871918Z",
     "iopub.status.busy": "2023-05-08T08:12:10.871662Z",
     "iopub.status.idle": "2023-05-08T08:12:49.653384Z",
     "shell.execute_reply": "2023-05-08T08:12:49.651459Z",
     "shell.execute_reply.started": "2023-05-08T08:12:10.871885Z"
    },
    "tags": []
   },
   "outputs": [
    {
     "name": "stdout",
     "output_type": "stream",
     "text": [
      "Silhouette Score:  0.13087412364419873\n",
      "Calinski-Harabasz Index:  112.74200149657845\n",
      "Davies-Bouldin Index:  0.46707053459781367\n",
      "Num of clusters: 38908\n"
     ]
    },
    {
     "data": {
      "text/plain": [
       "[<matplotlib.lines.Line2D at 0x7f009b88c4f0>]"
      ]
     },
     "execution_count": 41,
     "metadata": {},
     "output_type": "execute_result"
    },
    {
     "data": {
      "image/png": "[encoded data removed]",
      "text/plain": [
       "<Figure size 640x480 with 1 Axes>"
      ]
     },
     "metadata": {},
     "output_type": "display_data"
    }
   ],
   "source": [
    "birch = train_BIRCH(X_all, 265, 4.07)\n",
    "# Get the cluster labels for each data point\n",
    "labels = birch.labels_\n",
    "X_subsample, labels_subsample = subsample(X_all, 20000, 24, labels)\n",
    "metrics = evaluate_model(X_subsample, labels_subsample)\n",
    "\n",
    "# TODO: Create domain names and labels list to see which connects to which.\n",
    "# It can be done by keeping the random generated indices from subsample\n",
    "\n",
    "# Print the scores\n",
    "print(\"Silhouette Score: \", metrics[0])\n",
    "print(\"Calinski-Harabasz Index: \", metrics[1])\n",
    "print(\"Davies-Bouldin Index: \", metrics[2])\n",
    "\n",
    "print(f\"Num of clusters: {len([node for node in birch.subcluster_centers_])}\")\n",
    "\n",
    "plt.plot(np.bincount(labels_subsample))"
   ]
  },
  {
   "cell_type": "code",
   "execution_count": 62,
   "id": "c40b866d-f83f-432c-b683-8200a6b56b32",
   "metadata": {
    "execution": {
     "iopub.execute_input": "2023-05-07T14:56:35.124745Z",
     "iopub.status.busy": "2023-05-07T14:56:35.124114Z",
     "iopub.status.idle": "2023-05-07T14:56:35.138399Z",
     "shell.execute_reply": "2023-05-07T14:56:35.137317Z",
     "shell.execute_reply.started": "2023-05-07T14:56:35.124694Z"
    },
    "tags": []
   },
   "outputs": [],
   "source": [
    "with open(\"tsne_reduced_X_all.pkl\", \"wb\") as file:\n",
    "    pickle.dump(reduced_data, file)"
   ]
  },
  {
   "cell_type": "code",
   "execution_count": 58,
   "id": "74281a8f-4109-426c-9bdc-37811b228274",
   "metadata": {
    "execution": {
     "iopub.execute_input": "2023-05-07T14:13:06.866244Z",
     "iopub.status.busy": "2023-05-07T14:13:06.865575Z",
     "iopub.status.idle": "2023-05-07T14:30:56.977711Z",
     "shell.execute_reply": "2023-05-07T14:30:56.976358Z",
     "shell.execute_reply.started": "2023-05-07T14:13:06.866193Z"
    },
    "tags": []
   },
   "outputs": [
    {
     "data": {
      "image/png": "[encoded data removed]",
      "text/plain": [
       "<Figure size 640x480 with 1 Axes>"
      ]
     },
     "metadata": {},
     "output_type": "display_data"
    }
   ],
   "source": [
    "from sklearn.manifold import TSNE\n",
    "\n",
    "# Perform dimensionality reduction using t-SNE\n",
    "tsne = TSNE(n_components=2, random_state=42)\n",
    "reduced_data = tsne.fit_transform(X_all)\n",
    "\n",
    "# Create a scatter plot\n",
    "plt.scatter(reduced_data[:, 0], reduced_data[:, 1], c=labels, cmap=\"viridis\")\n",
    "plt.title(\"BIRCH Clustering Results\")\n",
    "plt.xlabel(\"t-SNE Dimension 1\")\n",
    "plt.ylabel(\"t-SNE Dimension 2\")\n",
    "plt.show()"
   ]
  },
  {
   "cell_type": "raw",
   "id": "610a2f9d-60e8-4732-b1e5-61af76fffb27",
   "metadata": {
    "execution": {
     "iopub.execute_input": "2023-05-07T14:57:18.352861Z",
     "iopub.status.busy": "2023-05-07T14:57:18.352172Z",
     "iopub.status.idle": "2023-05-07T14:57:23.031024Z",
     "shell.execute_reply": "2023-05-07T14:57:23.029652Z",
     "shell.execute_reply.started": "2023-05-07T14:57:18.352804Z"
    },
    "tags": []
   },
   "source": [
    "with open(\"tsne_reduced_X_all.pkl\", \"rb\") as file:\n",
    "    test_data = pickle.load(file)\n",
    "\n",
    "# Create a scatter plot\n",
    "plt.scatter(test_data[:, 0], test_data[:, 1], c=labels, cmap='viridis')\n",
    "plt.title('BIRCH Clustering Results')\n",
    "plt.xlabel('t-SNE Dimension 1')\n",
    "plt.ylabel('t-SNE Dimension 2')\n",
    "plt.show()"
   ]
  },
  {
   "cell_type": "code",
   "execution_count": 68,
   "id": "bdcaa4ed-a434-40b1-8043-c3ba290cfe12",
   "metadata": {
    "execution": {
     "iopub.execute_input": "2023-05-07T15:02:23.162336Z",
     "iopub.status.busy": "2023-05-07T15:02:23.161682Z",
     "iopub.status.idle": "2023-05-07T15:02:23.185126Z",
     "shell.execute_reply": "2023-05-07T15:02:23.183991Z",
     "shell.execute_reply.started": "2023-05-07T15:02:23.162282Z"
    },
    "tags": []
   },
   "outputs": [
    {
     "data": {
      "text/html": [
       "<div>\n",
       "<style scoped>\n",
       "    .dataframe tbody tr th:only-of-type {\n",
       "        vertical-align: middle;\n",
       "    }\n",
       "\n",
       "    .dataframe tbody tr th {\n",
       "        vertical-align: top;\n",
       "    }\n",
       "\n",
       "    .dataframe thead th {\n",
       "        text-align: right;\n",
       "    }\n",
       "</style>\n",
       "<table border=\"1\" class=\"dataframe\">\n",
       "  <thead>\n",
       "    <tr style=\"text-align: right;\">\n",
       "      <th></th>\n",
       "      <th>FQDN</th>\n",
       "      <th>cluster</th>\n",
       "    </tr>\n",
       "  </thead>\n",
       "  <tbody>\n",
       "    <tr>\n",
       "      <th>0</th>\n",
       "      <td>br-icloud.com.br</td>\n",
       "      <td>22208</td>\n",
       "    </tr>\n",
       "    <tr>\n",
       "      <th>1</th>\n",
       "      <td>mp3raid.com</td>\n",
       "      <td>21515</td>\n",
       "    </tr>\n",
       "    <tr>\n",
       "      <th>2</th>\n",
       "      <td>bopsecrets.org</td>\n",
       "      <td>29439</td>\n",
       "    </tr>\n",
       "    <tr>\n",
       "      <th>3</th>\n",
       "      <td>garage-pirenne.be</td>\n",
       "      <td>29438</td>\n",
       "    </tr>\n",
       "    <tr>\n",
       "      <th>4</th>\n",
       "      <td>adventure-nicaragua.net</td>\n",
       "      <td>22069</td>\n",
       "    </tr>\n",
       "    <tr>\n",
       "      <th>...</th>\n",
       "      <td>...</td>\n",
       "      <td>...</td>\n",
       "    </tr>\n",
       "    <tr>\n",
       "      <th>188005</th>\n",
       "      <td>adventurecollective.com</td>\n",
       "      <td>378</td>\n",
       "    </tr>\n",
       "    <tr>\n",
       "      <th>188006</th>\n",
       "      <td>uhs-hints.com</td>\n",
       "      <td>33488</td>\n",
       "    </tr>\n",
       "    <tr>\n",
       "      <th>188007</th>\n",
       "      <td>gamechronicles.com</td>\n",
       "      <td>29757</td>\n",
       "    </tr>\n",
       "    <tr>\n",
       "      <th>188008</th>\n",
       "      <td>xbox.vggen.com</td>\n",
       "      <td>29392</td>\n",
       "    </tr>\n",
       "    <tr>\n",
       "      <th>188009</th>\n",
       "      <td>xboxaddict.com</td>\n",
       "      <td>29438</td>\n",
       "    </tr>\n",
       "  </tbody>\n",
       "</table>\n",
       "<p>188010 rows × 2 columns</p>\n",
       "</div>"
      ],
      "text/plain": [
       "                           FQDN  cluster\n",
       "0              br-icloud.com.br    22208\n",
       "1                   mp3raid.com    21515\n",
       "2                bopsecrets.org    29439\n",
       "3             garage-pirenne.be    29438\n",
       "4       adventure-nicaragua.net    22069\n",
       "...                         ...      ...\n",
       "188005  adventurecollective.com      378\n",
       "188006            uhs-hints.com    33488\n",
       "188007       gamechronicles.com    29757\n",
       "188008           xbox.vggen.com    29392\n",
       "188009           xboxaddict.com    29438\n",
       "\n",
       "[188010 rows x 2 columns]"
      ]
     },
     "execution_count": 68,
     "metadata": {},
     "output_type": "execute_result"
    }
   ],
   "source": [
    "fqdn_cluster = pd.DataFrame({\"FQDN\": urls_extracted_df[\"FQDN\"], \"cluster\": labels})\n",
    "fqdn_cluster"
   ]
  },
  {
   "cell_type": "code",
   "execution_count": 83,
   "id": "e41e8560-bc72-4500-8f20-27ed0a0c621a",
   "metadata": {
    "execution": {
     "iopub.execute_input": "2023-05-07T17:12:52.112499Z",
     "iopub.status.busy": "2023-05-07T17:12:52.111838Z",
     "iopub.status.idle": "2023-05-07T17:12:55.906840Z",
     "shell.execute_reply": "2023-05-07T17:12:55.905785Z",
     "shell.execute_reply.started": "2023-05-07T17:12:52.112430Z"
    },
    "tags": []
   },
   "outputs": [],
   "source": [
    "# Group the FQDNs by their clusters\n",
    "grouped_fqdns = fqdn_cluster.groupby(\"cluster\")[\"FQDN\"].apply(list)"
   ]
  },
  {
   "cell_type": "code",
   "execution_count": 80,
   "id": "da93737d-c7cb-4dca-8c24-f39d7ef13559",
   "metadata": {
    "execution": {
     "iopub.execute_input": "2023-05-07T17:08:05.697271Z",
     "iopub.status.busy": "2023-05-07T17:08:05.696978Z",
     "iopub.status.idle": "2023-05-07T17:08:08.780591Z",
     "shell.execute_reply": "2023-05-07T17:08:08.779158Z",
     "shell.execute_reply.started": "2023-05-07T17:08:05.697237Z"
    },
    "tags": []
   },
   "outputs": [],
   "source": [
    "with open(\"fqdn_cluster_list.txt\", \"w\") as f:\n",
    "    f.write(\"Cluster | FQDNs\\n\")\n",
    "\n",
    "    for cluster, fqdns in grouped_fqdns.iteritems():\n",
    "        fqdns_str = \", \".join(fqdns)\n",
    "        f.write(f\"{cluster} | {fqdns_str}\\n\")"
   ]
  },
  {
   "cell_type": "code",
   "execution_count": 84,
   "id": "7ddd9d1b-fd09-45d4-b9a8-11801ad4bf11",
   "metadata": {
    "execution": {
     "iopub.execute_input": "2023-05-07T17:14:05.090221Z",
     "iopub.status.busy": "2023-05-07T17:14:05.089700Z",
     "iopub.status.idle": "2023-05-07T17:14:05.105498Z",
     "shell.execute_reply": "2023-05-07T17:14:05.104436Z",
     "shell.execute_reply.started": "2023-05-07T17:14:05.090186Z"
    },
    "tags": []
   },
   "outputs": [],
   "source": [
    "non_singular_clusters = grouped_fqdns[grouped_fqdns.apply(lambda x: len(x) > 1)]"
   ]
  },
  {
   "cell_type": "code",
   "execution_count": 85,
   "id": "81fc6776-8385-47c8-a64b-36f8bfc479e2",
   "metadata": {
    "execution": {
     "iopub.execute_input": "2023-05-07T17:14:05.106964Z",
     "iopub.status.busy": "2023-05-07T17:14:05.106699Z",
     "iopub.status.idle": "2023-05-07T17:14:05.164004Z",
     "shell.execute_reply": "2023-05-07T17:14:05.162902Z",
     "shell.execute_reply.started": "2023-05-07T17:14:05.106940Z"
    },
    "tags": []
   },
   "outputs": [],
   "source": [
    "with open(\"fqdn_cluster_nonsingular.txt\", \"w\") as f:\n",
    "    f.write(\"Cluster | FQDNs\\n\")\n",
    "\n",
    "    for cluster, fqdns in non_singular_clusters.iteritems():\n",
    "        fqdns_str = \", \".join(fqdns)\n",
    "        f.write(f\"{cluster} | {fqdns_str}\\n\")"
   ]
  },
  {
   "cell_type": "code",
   "execution_count": 1,
   "id": "bc1a1d4d-4fbe-48c2-b100-f5c2cfa6acdd",
   "metadata": {
    "execution": {
     "iopub.execute_input": "2023-05-04T15:07:46.090359Z",
     "iopub.status.busy": "2023-05-04T15:07:46.089292Z",
     "iopub.status.idle": "2023-05-04T15:07:46.125573Z",
     "shell.execute_reply": "2023-05-04T15:07:46.124116Z",
     "shell.execute_reply.started": "2023-05-04T15:07:46.090229Z"
    },
    "tags": []
   },
   "outputs": [],
   "source": [
    "import gc\n",
    "\n",
    "\n",
    "def objective(trial):\n",
    "    # SETUP\n",
    "\n",
    "    # BIRCH hyperparameters\n",
    "    branching_factor = trial.suggest_int(\"branching_factor\", 5, 300)\n",
    "    threshold = trial.suggest_float(\"threshold\", 0.05, 5)\n",
    "\n",
    "    # Column selection\n",
    "    ## Trial suggest\n",
    "    columns_selected = trial.suggest_categorical(\n",
    "        \"columns_selected\",\n",
    "        [\"domainsubdomain\", \"domainsubdomainTLD\", \"domainTLDtogether_subdomain\"],\n",
    "    )\n",
    "\n",
    "    ## Options for selection\n",
    "    columns_options = [\n",
    "        [\"domain\", \"subdomain\"],\n",
    "        [\"domain\", \"subdomain\", \"TLD\"],\n",
    "        [\"domainTLD\", \"subdomain\"],\n",
    "    ]\n",
    "\n",
    "    ## Columns list creation\n",
    "    if columns_selected == \"domainsubdomain\":\n",
    "        columns = columns_options[0]\n",
    "    elif columns_selected == \"domainsubdomainTLD\":\n",
    "        columns = columns_options[1]\n",
    "    elif columns_selected == \"domainTLDtogether_subdomain\":\n",
    "        columns = columns_options[2]\n",
    "\n",
    "    # Ngram ranges for TF-IDF\n",
    "    ## Trial suggests\n",
    "    ngram_domain_or_domainTLD_low = trial.suggest_int(\n",
    "        \"ngram_domain_or_domainTLD_low\", 1, 5\n",
    "    )\n",
    "    ngram_domain_or_domainTLD_high = trial.suggest_int(\n",
    "        \"ngram_domain_or_domainTLD_high\", ngram_domain_or_domainTLD_low, 10\n",
    "    )\n",
    "\n",
    "    ngram_subdomain_low = trial.suggest_int(\"ngram_subdomain_low\", 1, 5)\n",
    "    ngram_subdomain_high = trial.suggest_int(\n",
    "        \"ngram_subdomain_high\", ngram_subdomain_low, 10\n",
    "    )\n",
    "\n",
    "    ngram_tld_low = trial.suggest_int(\"ngram_tld_low\", 1, 5)\n",
    "    ngram_tld_high = trial.suggest_int(\"ngram_tld_high\", ngram_tld_low, 10)\n",
    "\n",
    "    ## Ngram range creation\n",
    "    ngram_domain_or_domainTLD_range = (\n",
    "        ngram_domain_or_domainTLD_low,\n",
    "        ngram_domain_or_domainTLD_high,\n",
    "    )\n",
    "    ngram_subdomain_range = (ngram_subdomain_low, ngram_subdomain_high)\n",
    "    ngram_tld_range = (ngram_tld_low, ngram_tld_high)\n",
    "\n",
    "    ## Ngrams list\n",
    "    ngram_ranges = [ngram_domain_or_domainTLD_range, ngram_subdomain_range]\n",
    "\n",
    "    if len(columns) == 3:\n",
    "        ngram_ranges.append(ngram_tld_range)\n",
    "\n",
    "    # Number of components for TruncatedSVD\n",
    "    n_components_domain_or_domainTLD = trial.suggest_int(\n",
    "        \"n_components_domain_or_domainTLD\", 5, 400\n",
    "    )\n",
    "    n_components_subdomain = trial.suggest_int(\"n_components_subdomain\", 5, 400)\n",
    "    n_components_tld = trial.suggest_int(\"n_components_tld\", 5, 300)\n",
    "\n",
    "    n_components = [n_components_domain_or_domainTLD, n_components_subdomain]\n",
    "\n",
    "    if len(columns) == 3:\n",
    "        n_components.append(n_components_tld)\n",
    "\n",
    "    # EXECUTION\n",
    "    gc.disable()\n",
    "\n",
    "    start_tfidf = time.thread_time_ns()\n",
    "\n",
    "    tfidf_lsas = preprocess_tfidf(\n",
    "        columns=columns,\n",
    "        ngram_ranges=ngram_ranges,\n",
    "        n_components=n_components,\n",
    "        df=urls_extracted_df,\n",
    "    )\n",
    "\n",
    "    # For optuna testing purposes\n",
    "    # tfidf_lsas = preprocess_tfidf(\n",
    "    #     columns=[\"subdomain\"],\n",
    "    #     ngram_ranges=[(1,1)],\n",
    "    #     n_components=[5],\n",
    "    #     df=urls_extracted_df.iloc[:, 0:40000],\n",
    "    # )\n",
    "\n",
    "    X = np.hstack([urls_matrix[0:40000]] + tfidf_lsas)\n",
    "\n",
    "    end_tfidf = time.thread_time_ns()\n",
    "\n",
    "    start_birch = time.thread_time_ns()\n",
    "\n",
    "    birch = train_BIRCH(X, branching_factor=branching_factor, threshold=threshold)\n",
    "\n",
    "    end_birch = time.thread_time_ns()\n",
    "\n",
    "    gc.enable()\n",
    "\n",
    "    # Calculate time\n",
    "    birch_time = (end_birch - start_birch) / 1e9\n",
    "    tfidf_time = (end_tfidf - start_tfidf) / 1e9\n",
    "    all_time = birch_time + tfidf_time\n",
    "\n",
    "    trial.set_user_attr(\"tfidf_time\", tfidf_time)\n",
    "    trial.set_user_attr(\"birch_time\", birch_time)\n",
    "    trial.set_user_attr(\"all_time\", all_time)\n",
    "\n",
    "    labels = birch.labels_\n",
    "    X_sample, labels_sample = subsample(X, 3000, 24, labels)\n",
    "\n",
    "    num_of_clusters = len(np.bincount(labels))\n",
    "    trial.set_user_attr(\"num_of_clusters\", num_of_clusters)\n",
    "\n",
    "    metrics = evaluate_model(X_sample, labels_sample)\n",
    "\n",
    "    trial.set_user_attr(\"silhouette\", metrics[0])\n",
    "    trial.set_user_attr(\"calinski_harabasz\", metrics[1])\n",
    "    trial.set_user_attr(\"davies_bouldin\", metrics[2])\n",
    "\n",
    "    # Combine silhouette with time penalty as score\n",
    "\n",
    "    try:\n",
    "        score = metrics[0] + log(-0.2 * all_time + 1799) - 7.51\n",
    "    except ValueError:\n",
    "        score = -(2**25)\n",
    "\n",
    "    return score"
   ]
  },
  {
   "cell_type": "raw",
   "id": "ab86289a-4ad4-4316-90e7-25426a192778",
   "metadata": {
    "execution": {
     "iopub.execute_input": "2023-05-01T16:19:55.928360Z",
     "iopub.status.busy": "2023-05-01T16:19:55.927726Z",
     "iopub.status.idle": "2023-05-01T16:19:56.112717Z",
     "shell.execute_reply": "2023-05-01T16:19:56.111162Z",
     "shell.execute_reply.started": "2023-05-01T16:19:55.928315Z"
    },
    "tags": []
   },
   "source": [
    "optuna.delete_study(study_name=\"birch_maximisation_study\", storage=\"sqlite:///optimalisation.db\")"
   ]
  },
  {
   "cell_type": "raw",
   "id": "bd589a77-fce9-49b6-9197-1e29d807d65a",
   "metadata": {
    "tags": []
   },
   "source": [
    "%%capture output\n",
    "\n",
    "study = optuna.create_study(\n",
    "    storage=\"sqlite:///optimalisation.db\",\n",
    "    direction=\"maximize\",\n",
    "    study_name=\"birch_maximisation_study\",\n",
    "    load_if_exists=True,\n",
    ")\n",
    "study.optimize(objective, n_trials=200, n_jobs=30)\n",
    "\n",
    "print(\"Trick\")"
   ]
  },
  {
   "cell_type": "code",
   "execution_count": null,
   "id": "996292e9-1ad4-4200-915f-ec01f5a616ba",
   "metadata": {
    "tags": []
   },
   "outputs": [],
   "source": [
    "import sys\n",
    "\n",
    "original_stdout = sys.stdout\n",
    "original_stderr = sys.stderr\n",
    "\n",
    "sys.stdout = open(\"output.log\", \"w\")\n",
    "sys.stderr = open(\"error.log\", \"w\")\n",
    "\n",
    "with open(\".hidden/pgdb_optuna_storage_url.txt\", \"r\") as file:\n",
    "    DATABASE_URL = file.read().rstrip()\n",
    "\n",
    "study = optuna.create_study(\n",
    "    storage=DATABASE_URL,\n",
    "    direction=\"maximize\",\n",
    "    study_name=\"birch_maximisation_study_test\",\n",
    "    load_if_exists=True,\n",
    ")\n",
    "\n",
    "study.optimize(objective, n_trials=20, n_jobs=20)"
   ]
  },
  {
   "cell_type": "code",
   "execution_count": null,
   "id": "13b5b6ae-e052-4344-9bf2-a478d5f639a8",
   "metadata": {},
   "outputs": [],
   "source": [
    "sys.stdout = original_stdout\n",
    "sys.stderr = original_stderr"
   ]
  },
  {
   "cell_type": "code",
   "execution_count": null,
   "id": "d3324922-6d5c-4db3-be20-d2de7f002248",
   "metadata": {
    "tags": []
   },
   "outputs": [],
   "source": [
    "# load the test_study from the database\n",
    "test_study = optuna.load_study(\n",
    "    study_name=\"birch_maximisation_study\", storage=\"sqlite:///optimalisation.db\"\n",
    ")"
   ]
  },
  {
   "cell_type": "code",
   "execution_count": null,
   "id": "df0b0652-2ffe-41d3-bad7-8fddac399778",
   "metadata": {
    "tags": []
   },
   "outputs": [],
   "source": [
    "# print the trial results\n",
    "for trial in test_study.trials:\n",
    "    print(\n",
    "        f'Trial {trial.number}: score={trial.value}, silhouette={trial.user_attrs.get(\"silhouette\")}, time={trial.user_attrs.get(\"all_time\")}'\n",
    "    )\n",
    "\n",
    "trial = test_study.best_trial\n",
    "\n",
    "print(\n",
    "    f'Trial {trial.number}: score={trial.value}, silhouette={trial.user_attrs.get(\"silhouette\")}, time={trial.user_attrs.get(\"all_time\")}'\n",
    ")"
   ]
  },
  {
   "cell_type": "code",
   "execution_count": null,
   "id": "f35cd121-fd55-4486-bff5-49f1778acb2a",
   "metadata": {
    "tags": []
   },
   "outputs": [],
   "source": [
    "for trial in test_study.trials:\n",
    "    print(trial.user_attrs.get(\"silhouette\"))"
   ]
  },
  {
   "cell_type": "markdown",
   "id": "23c3e288-4e5c-467d-97db-164024ad1be6",
   "metadata": {},
   "source": [
    "### Trial exploration\n"
   ]
  },
  {
   "cell_type": "code",
   "execution_count": null,
   "id": "e2235787-f261-4cd5-9001-3eda83452b44",
   "metadata": {
    "tags": []
   },
   "outputs": [],
   "source": [
    "from optuna.visualization.matplotlib import (\n",
    "    plot_contour,\n",
    "    plot_edf,\n",
    "    plot_intermediate_values,\n",
    "    plot_optimization_history,\n",
    "    plot_parallel_coordinate,\n",
    "    plot_param_importances,\n",
    "    plot_slice,\n",
    ")"
   ]
  },
  {
   "cell_type": "code",
   "execution_count": null,
   "id": "f42a9adb-0904-47c4-815a-bc9415d4d5ef",
   "metadata": {},
   "outputs": [],
   "source": []
  },
  {
   "cell_type": "code",
   "execution_count": null,
   "id": "2384528f-7e96-486c-964e-967abdc5f59b",
   "metadata": {
    "tags": []
   },
   "outputs": [],
   "source": [
    "plot_optimization_history(test_study)"
   ]
  },
  {
   "cell_type": "code",
   "execution_count": null,
   "id": "24f91c31-3169-4982-a8ca-d3827d79e7d4",
   "metadata": {
    "tags": []
   },
   "outputs": [],
   "source": [
    "plot_parallel_coordinate(test_study)"
   ]
  },
  {
   "cell_type": "code",
   "execution_count": null,
   "id": "9d427b85-a89d-4439-aa31-8911994b755b",
   "metadata": {},
   "outputs": [],
   "source": [
    "plot_contour()"
   ]
  },
  {
   "cell_type": "markdown",
   "id": "eeac7f80-81fd-4490-9270-63a1432f3a39",
   "metadata": {
    "tags": []
   },
   "source": [
    "## Data exploration"
   ]
  },
  {
   "cell_type": "markdown",
   "id": "54991569-70fe-4aca-927c-76fe20088a29",
   "metadata": {},
   "source": [
    "### Levenshtein distances"
   ]
  },
  {
   "cell_type": "markdown",
   "id": "77bfec4e-ea83-4893-9cb8-2e3d1be82919",
   "metadata": {},
   "source": [
    "#### Domain unchanged"
   ]
  },
  {
   "cell_type": "code",
   "execution_count": null,
   "id": "6a955fb4-921a-4732-aeb9-32a3a7a33de4",
   "metadata": {
    "tags": []
   },
   "outputs": [],
   "source": [
    "# Create two sets of N_SAMPLES random samples\n",
    "N_SAMPLES = 50000\n",
    "\n",
    "urls_tsdf = pd.DataFrame()\n",
    "\n",
    "urls_tsdf[\"sample1\"] = urls_tdf.sample(n=N_SAMPLES, random_state=123).reset_index(\n",
    "    drop=True\n",
    ")[\"domain\"]\n",
    "urls_tsdf[\"sample2\"] = urls_tdf.sample(n=N_SAMPLES, random_state=545).reset_index(\n",
    "    drop=True\n",
    ")[\"domain\"]"
   ]
  },
  {
   "cell_type": "code",
   "execution_count": null,
   "id": "706cbc96-e309-47fd-b563-117a79b2dfc3",
   "metadata": {
    "tags": []
   },
   "outputs": [],
   "source": [
    "# Calculate Levenshtein distance on each pair (N_SAMPLES distances)\n",
    "urls_tsdf[\"levenshtein_distance_domain\"] = urls_tsdf.apply(\n",
    "    lambda row: levenshtein(row.sample1, row.sample2), axis=1\n",
    ")"
   ]
  },
  {
   "cell_type": "code",
   "execution_count": null,
   "id": "848ed219-581e-4893-944b-34af308294bd",
   "metadata": {
    "tags": []
   },
   "outputs": [],
   "source": [
    "urls_tsdf.describe()"
   ]
  },
  {
   "cell_type": "code",
   "execution_count": null,
   "id": "b91a5f06-6df9-4db0-b8e2-af4b407e2610",
   "metadata": {
    "tags": []
   },
   "outputs": [],
   "source": [
    "urls_tsdf"
   ]
  },
  {
   "cell_type": "code",
   "execution_count": null,
   "id": "a68c18a9-080c-465b-af74-3ff9900f3b20",
   "metadata": {
    "tags": []
   },
   "outputs": [],
   "source": [
    "sns.displot(\n",
    "    urls_tsdf,\n",
    "    x=\"levenshtein_distance_domain\",\n",
    "    binwidth=3,\n",
    "    height=10,\n",
    ")\n",
    "plt.title(\n",
    "    f\"Distribution of levenshtein's distances among domains over {N_SAMPLES} random samples\"\n",
    ")"
   ]
  },
  {
   "cell_type": "code",
   "execution_count": null,
   "id": "6745cafb-956c-4176-bf57-793032e538b8",
   "metadata": {
    "tags": []
   },
   "outputs": [],
   "source": [
    "sns.displot(\n",
    "    urls_tsdf[urls_tsdf[\"levenshtein_distance_domain\"] < 40],\n",
    "    x=\"levenshtein_distance_domain\",\n",
    "    binwidth=1,\n",
    "    height=8,\n",
    ")\n",
    "plt.title(\n",
    "    f\"Distribution of levenshtein's distances among domains over {N_SAMPLES} random samples\"\n",
    ")"
   ]
  },
  {
   "cell_type": "markdown",
   "id": "46ff443d-8f5c-4755-b499-9358aa916d15",
   "metadata": {},
   "source": [
    "## Experiments"
   ]
  },
  {
   "cell_type": "markdown",
   "id": "41cdb219-22d8-4fce-9b1b-295c5a2fd40e",
   "metadata": {
    "tags": []
   },
   "source": [
    "### Unchanged URLs\n",
    "\n",
    "Keep `urls_tdf` intact for this section to show what it should"
   ]
  },
  {
   "cell_type": "markdown",
   "id": "5a6bf02f-5d5c-4350-af26-8262a2534122",
   "metadata": {
    "tags": []
   },
   "source": [
    "#### DBSCAN"
   ]
  },
  {
   "cell_type": "markdown",
   "id": "44239fe1-6d7e-40b1-a7b8-af7abd7b13b8",
   "metadata": {},
   "source": [
    "DBSCAN will not work. It needs $\\mathcal{O}(n^2)$"
   ]
  },
  {
   "cell_type": "raw",
   "id": "21e102d3-c00d-4ae7-8e3f-08500a1b8a47",
   "metadata": {
    "execution": {
     "iopub.execute_input": "2023-03-01T18:02:35.391999Z",
     "iopub.status.busy": "2023-03-01T18:02:35.391177Z"
    },
    "tags": []
   },
   "source": [
    "from sklearn.cluster import DBSCAN\n",
    "\n",
    "# For more info on the trick refer to class definition\n",
    "string_trick = SklearnStringTrick(dataset=urls_tdf[\"url\"])\n",
    "\n",
    "unchanged_dbscan = DBSCAN(metric=string_trick.lev_dist_sklearn_urls)\n",
    "\n",
    "X = np.arange(len(string_trick.dataset)).reshape(-1, 1)\n",
    "\n",
    "out = unchanged_dbscan.fit_predict(X)"
   ]
  },
  {
   "cell_type": "markdown",
   "id": "f223500e-ef8b-4ff6-8aa2-09bee11688aa",
   "metadata": {},
   "source": [
    "#### Hierarchical clustering"
   ]
  },
  {
   "cell_type": "code",
   "execution_count": null,
   "id": "e509d4ba-63b9-40a1-8eaa-a70f86087f65",
   "metadata": {
    "tags": []
   },
   "outputs": [],
   "source": [
    "# Create two sets of N_SAMPLES random samples\n",
    "N_SAMPLES = 1000\n",
    "\n",
    "urls_tsdf = urls_tdf.sample(n=N_SAMPLES, random_state=111).reset_index(drop=True)"
   ]
  },
  {
   "cell_type": "code",
   "execution_count": null,
   "id": "3a748b61-fa62-42aa-b3fd-e7c5a5493a59",
   "metadata": {
    "tags": []
   },
   "outputs": [],
   "source": [
    "# Calculate pairwise distances between domains using levenshtein distance function\n",
    "X = urls_tsdf[\"domain\"].values.reshape(-1, 1)\n",
    "distances = pdist(X, metric=levenshtein_pdist)\n",
    "distances_squareform = squareform(distances)"
   ]
  },
  {
   "cell_type": "code",
   "execution_count": null,
   "id": "3e0c42ac-c30b-459b-99cf-864e0b23ed1f",
   "metadata": {
    "tags": []
   },
   "outputs": [],
   "source": [
    "# Perform hierarchical clustering\n",
    "Z = linkage(distances, \"complete\")\n",
    "\n",
    "# Draw dendrogram for visual cutoff selection\n",
    "fig, ax = plt.subplots(figsize=(40, 20))\n",
    "dendrogram(Z, ax=ax)\n",
    "\n",
    "\n",
    "fig1 = fig\n",
    "plt.show()"
   ]
  },
  {
   "cell_type": "code",
   "execution_count": null,
   "id": "e29e826f-ee81-4a5c-a41a-053ee9107b80",
   "metadata": {
    "tags": []
   },
   "outputs": [],
   "source": [
    "CUTOFF = [42, 23, 19, 31]\n",
    "\n",
    "# Load the figure object from the previous cell\n",
    "fig = fig1\n",
    "\n",
    "# Get the axes object from the figure\n",
    "ax = fig.axes[0]\n",
    "\n",
    "# Add the cutoff horizontal line\n",
    "for cutoff in CUTOFF:\n",
    "    ax.axhline(y=cutoff, color=\"r\", linestyle=\"--\")\n",
    "    ax.text(x=ax.get_xlim()[0], y=cutoff, s=f\"Cutoff: {cutoff}\", va=\"center\")\n",
    "\n",
    "\n",
    "# Show the plot\n",
    "fig"
   ]
  },
  {
   "cell_type": "code",
   "execution_count": null,
   "id": "f0d1cac0-5af6-444c-a3ee-c5a7d0789634",
   "metadata": {
    "tags": []
   },
   "outputs": [],
   "source": [
    "# Determine the optimal number of clusters\n",
    "max_d = 15  # set the threshold distance\n",
    "clusters = fcluster(Z, max_d, criterion=\"distance\")"
   ]
  },
  {
   "cell_type": "code",
   "execution_count": null,
   "id": "5299ce1f-3194-4462-85e4-91c115140fab",
   "metadata": {
    "tags": []
   },
   "outputs": [],
   "source": [
    "# Add cluster labels to the original dataset\n",
    "urls_tsdf[\"cluster\"] = clusters"
   ]
  },
  {
   "cell_type": "markdown",
   "id": "9ee40700-e32e-4827-9a63-7a5516e24ad0",
   "metadata": {},
   "source": [
    "#### Evaluation of cluster quality based on cutoff"
   ]
  },
  {
   "cell_type": "code",
   "execution_count": null,
   "id": "0a53787a-baba-4ab5-a63d-3b9fe15bee9c",
   "metadata": {
    "tags": []
   },
   "outputs": [],
   "source": [
    "from sklearn.metrics import silhouette_score\n",
    "\n",
    "# Compute the silhouette score\n",
    "silhouette_avg = silhouette_score(\n",
    "    distances_squareform, urls_tsdf[\"cluster\"], metric=\"precomputed\"\n",
    ")\n",
    "print(f\"Silhouette score: {silhouette_avg}\")\n",
    "\n",
    "# calculate prevalence of malicious domains in each cluster\n",
    "cluster_prevalence = urls_tsdf.groupby(\"cluster\")[\"malicious\"].mean()\n",
    "\n",
    "# group by cluster id and count the number of items in each cluster\n",
    "cluster_counts = urls_tsdf.groupby(\"cluster\").count()[\"url\"]\n",
    "\n",
    "# create a dataframe combining the cluster counts and cluster prevalence\n",
    "cluster_data = pd.DataFrame({\"count\": cluster_counts, \"prevalence\": cluster_prevalence})\n",
    "\n",
    "# filter perfect clusters\n",
    "non_trivial_clusters = cluster_data.loc[\n",
    "    (cluster_data[\"prevalence\"] != 0) & (cluster_data[\"prevalence\"] != 1)\n",
    "]\n",
    "\n",
    "print(f\"Total count of samples {len(urls_tsdf)}\")\n",
    "print(f\"Total count of clusters {len(cluster_data)}\")\n",
    "print(\n",
    "    f\"Count of samples in perfect clusters {len(urls_tsdf) - non_trivial_clusters['count'].sum()}\"\n",
    ")\n",
    "\n",
    "print(\n",
    "    f\"Prevalence of non-perfect malicious domains within clusters:\\n{non_trivial_clusters}\"\n",
    ")"
   ]
  },
  {
   "cell_type": "code",
   "execution_count": null,
   "id": "0242f1b1-c894-4c7e-b336-9e41cd94ac49",
   "metadata": {
    "tags": []
   },
   "outputs": [],
   "source": [
    "# reset the index to get the cluster id as a column\n",
    "cluster_data = cluster_data.reset_index()\n",
    "\n",
    "# Create color palette\n",
    "colors = sns.color_palette(\"viridis\", as_cmap=True)\n",
    "\n",
    "# Create bar plot\n",
    "fig, ax = plt.subplots(figsize=(12, 8))\n",
    "sns.barplot(\n",
    "    x=\"cluster\",\n",
    "    y=\"prevalence\",\n",
    "    data=cluster_data,\n",
    "    palette=colors(cluster_data[\"count\"] / cluster_data[\"count\"].max()),\n",
    "    ax=ax,\n",
    "    dodge=False,\n",
    ")\n",
    "\n",
    "# Set labels and title\n",
    "ax.set_title(\"Prevalence of Malicious Domains by Cluster\")\n",
    "ax.set_xlabel(\"Cluster Number\")\n",
    "ax.set_ylabel(\"Prevalence\")\n",
    "\n",
    "# Move the legend outside the plot and make it a gradient line\n",
    "sm = plt.cm.ScalarMappable(\n",
    "    cmap=colors, norm=plt.Normalize(vmin=0, vmax=cluster_data[\"count\"].max())\n",
    ")\n",
    "sm.set_array([])\n",
    "cbar = plt.colorbar(\n",
    "    sm,\n",
    "    orientation=\"horizontal\",\n",
    "    pad=0.1,\n",
    "    shrink=0.5,\n",
    "    aspect=15,\n",
    ")\n",
    "cbar.ax.set_xlabel(\"Cluster Size\")\n",
    "\n",
    "plt.subplots_adjust(right=0.8)\n",
    "\n",
    "plt.tight_layout()\n",
    "\n",
    "plt.show()"
   ]
  },
  {
   "cell_type": "raw",
   "id": "d8a0c26b-5118-4a57-b2d8-a52c83b24ccc",
   "metadata": {},
   "source": [
    "TODO: Refactor into visualisation function\n",
    "TODO: Add leaving out trivial clusters\n",
    "TODO: Add number of clusters left out"
   ]
  },
  {
   "cell_type": "code",
   "execution_count": null,
   "id": "a98889a7-990f-4d4a-9c0e-77a331b9e4c3",
   "metadata": {
    "tags": []
   },
   "outputs": [],
   "source": [
    "urls_tsdf.info()"
   ]
  },
  {
   "cell_type": "code",
   "execution_count": null,
   "id": "308112d9-9206-43a0-9093-3191188b54ce",
   "metadata": {
    "tags": []
   },
   "outputs": [],
   "source": [
    "urls_tsdf.groupby(\"cluster\").count()"
   ]
  }
 ],
 "metadata": {
  "kernelspec": {
   "display_name": "bachelor_kernel",
   "language": "python",
   "name": "bachelor_kernel"
  },
  "language_info": {
   "codemirror_mode": {
    "name": "ipython",
    "version": 3
   },
   "file_extension": ".py",
   "mimetype": "text/x-python",
   "name": "python",
   "nbconvert_exporter": "python",
   "pygments_lexer": "ipython3",
   "version": "3.9.6"
  },
  "toc-autonumbering": false,
  "toc-showcode": false,
  "toc-showmarkdowntxt": false,
  "toc-showtags": false
 },
 "nbformat": 4,
 "nbformat_minor": 5
}
