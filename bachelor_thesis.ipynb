{
 "cells": [
  {
   "cell_type": "markdown",
   "id": "edcdc741-3f08-4f14-9dcb-fee35adf17b2",
   "metadata": {
    "tags": []
   },
   "source": [
    "# URL clustering based on similarity"
   ]
  },
  {
   "cell_type": "markdown",
   "id": "058ca4fc-3688-4b17-959c-52ecc00c4f64",
   "metadata": {},
   "source": [
    "- urls_df = full dataset\n",
    "- urls_tdf = full dataset transformed\n",
    "- urls_tsdf = sampled dataset transformed"
   ]
  },
  {
   "cell_type": "markdown",
   "id": "08a4ea9e-cbfd-40bf-8edf-1e5f7d0c249a",
   "metadata": {
    "tags": []
   },
   "source": [
    "## Imports & Helper functions"
   ]
  },
  {
   "cell_type": "markdown",
   "id": "c099e27e-3bc4-4243-866d-9fd3a6c9acd7",
   "metadata": {},
   "source": [
    "### Save or load jupyter session"
   ]
  },
  {
   "cell_type": "raw",
   "id": "97289760-a190-4588-bd17-932294a07b76",
   "metadata": {
    "execution": {
     "iopub.execute_input": "2023-04-14T18:37:32.451405Z",
     "iopub.status.busy": "2023-04-14T18:37:32.450219Z",
     "iopub.status.idle": "2023-04-14T18:37:52.894036Z",
     "shell.execute_reply": "2023-04-14T18:37:52.890765Z",
     "shell.execute_reply.started": "2023-04-14T18:37:32.451314Z"
    },
    "tags": []
   },
   "source": [
    "# Save\n",
    "import datetime\n",
    "\n",
    "import dill\n",
    "\n",
    "SESSION_DIR = \"jupyter_sessions\"\n",
    "PREFIX = datetime.datetime.now()\n",
    "SUFFIX = \"\"\n",
    "\n",
    "file_path = (\n",
    "    f'{SESSION_DIR}/{datetime.datetime.now().strftime(\"%Y%m%d%H%M%S\")}{SUFFIX}.db'\n",
    ")\n",
    "\n",
    "dill.dump_session(file_path)"
   ]
  },
  {
   "cell_type": "raw",
   "id": "aef9c046-8396-4084-9add-2ccc04f470f7",
   "metadata": {
    "execution": {
     "iopub.execute_input": "2023-04-15T09:21:18.349024Z",
     "iopub.status.busy": "2023-04-15T09:21:18.348591Z",
     "iopub.status.idle": "2023-04-15T09:21:25.275127Z",
     "shell.execute_reply": "2023-04-15T09:21:25.273506Z",
     "shell.execute_reply.started": "2023-04-15T09:21:18.348992Z"
    },
    "tags": []
   },
   "source": [
    "# Load\n",
    "import dill\n",
    "\n",
    "SESSION_DIR = \"jupyter_sessions\"\n",
    "FILE_NAME = \"20230414203732\"\n",
    "\n",
    "dill.load_session(f\"{SESSION_DIR}/{FILE_NAME}.db\")"
   ]
  },
  {
   "cell_type": "markdown",
   "id": "1b302250-f8da-4335-9c4a-41b1fff31c4b",
   "metadata": {
    "tags": []
   },
   "source": [
    "### Imports"
   ]
  },
  {
   "cell_type": "code",
   "execution_count": 1,
   "id": "e7329734-9b2a-41ec-ba43-4c2246c6028b",
   "metadata": {
    "execution": {
     "iopub.execute_input": "2023-04-15T15:11:43.858204Z",
     "iopub.status.busy": "2023-04-15T15:11:43.856964Z",
     "iopub.status.idle": "2023-04-15T15:11:47.129446Z",
     "shell.execute_reply": "2023-04-15T15:11:47.128216Z",
     "shell.execute_reply.started": "2023-04-15T15:11:43.858154Z"
    },
    "tags": []
   },
   "outputs": [],
   "source": [
    "import warnings\n",
    "\n",
    "import matplotlib.pyplot as plt\n",
    "import numpy as np\n",
    "import pandas as pd\n",
    "import seaborn as sns\n",
    "\n",
    "warnings.filterwarnings(\"ignore\")\n",
    "\n",
    "sns.set()"
   ]
  },
  {
   "cell_type": "markdown",
   "id": "9ce0e782-dc96-40ee-878f-6d775b345fae",
   "metadata": {
    "tags": []
   },
   "source": [
    "### Helper functions"
   ]
  },
  {
   "cell_type": "code",
   "execution_count": 2,
   "id": "b9e59872-2310-43fe-8f89-575c357cea0c",
   "metadata": {
    "execution": {
     "iopub.execute_input": "2023-04-15T15:11:47.133996Z",
     "iopub.status.busy": "2023-04-15T15:11:47.131512Z",
     "iopub.status.idle": "2023-04-15T15:11:47.146406Z",
     "shell.execute_reply": "2023-04-15T15:11:47.144662Z",
     "shell.execute_reply.started": "2023-04-15T15:11:47.133952Z"
    }
   },
   "outputs": [],
   "source": [
    "from polyleven import levenshtein\n",
    "\n",
    "\n",
    "def levenshtein_pdist(u, v):\n",
    "    if isinstance(u, np.ndarray):\n",
    "        u = u[0]\n",
    "    if isinstance(v, np.ndarray):\n",
    "        v = v[0]\n",
    "    return levenshtein(u, v)"
   ]
  },
  {
   "cell_type": "markdown",
   "id": "32e78c63-2f12-42c7-be48-27906861093c",
   "metadata": {
    "tags": []
   },
   "source": [
    "## Preprocessing"
   ]
  },
  {
   "cell_type": "code",
   "execution_count": 3,
   "id": "2a3b9602-bb8e-4b73-997e-f956b13c4a89",
   "metadata": {
    "execution": {
     "iopub.execute_input": "2023-04-15T15:11:47.149574Z",
     "iopub.status.busy": "2023-04-15T15:11:47.148658Z",
     "iopub.status.idle": "2023-04-15T15:11:48.417948Z",
     "shell.execute_reply": "2023-04-15T15:11:48.415709Z",
     "shell.execute_reply.started": "2023-04-15T15:11:47.149515Z"
    },
    "tags": []
   },
   "outputs": [
    {
     "data": {
      "text/html": [
       "<div>\n",
       "<style scoped>\n",
       "    .dataframe tbody tr th:only-of-type {\n",
       "        vertical-align: middle;\n",
       "    }\n",
       "\n",
       "    .dataframe tbody tr th {\n",
       "        vertical-align: top;\n",
       "    }\n",
       "\n",
       "    .dataframe thead th {\n",
       "        text-align: right;\n",
       "    }\n",
       "</style>\n",
       "<table border=\"1\" class=\"dataframe\">\n",
       "  <thead>\n",
       "    <tr style=\"text-align: right;\">\n",
       "      <th></th>\n",
       "      <th>url</th>\n",
       "      <th>type</th>\n",
       "    </tr>\n",
       "  </thead>\n",
       "  <tbody>\n",
       "    <tr>\n",
       "      <th>0</th>\n",
       "      <td>br-icloud.com.br</td>\n",
       "      <td>phishing</td>\n",
       "    </tr>\n",
       "    <tr>\n",
       "      <th>1</th>\n",
       "      <td>mp3raid.com/music/krizz_kaliko.html</td>\n",
       "      <td>benign</td>\n",
       "    </tr>\n",
       "    <tr>\n",
       "      <th>2</th>\n",
       "      <td>bopsecrets.org/rexroth/cr/1.htm</td>\n",
       "      <td>benign</td>\n",
       "    </tr>\n",
       "    <tr>\n",
       "      <th>3</th>\n",
       "      <td>http://www.garage-pirenne.be/index.php?option=...</td>\n",
       "      <td>defacement</td>\n",
       "    </tr>\n",
       "    <tr>\n",
       "      <th>4</th>\n",
       "      <td>http://adventure-nicaragua.net/index.php?optio...</td>\n",
       "      <td>defacement</td>\n",
       "    </tr>\n",
       "  </tbody>\n",
       "</table>\n",
       "</div>"
      ],
      "text/plain": [
       "                                                 url        type\n",
       "0                                   br-icloud.com.br    phishing\n",
       "1                mp3raid.com/music/krizz_kaliko.html      benign\n",
       "2                    bopsecrets.org/rexroth/cr/1.htm      benign\n",
       "3  http://www.garage-pirenne.be/index.php?option=...  defacement\n",
       "4  http://adventure-nicaragua.net/index.php?optio...  defacement"
      ]
     },
     "execution_count": 3,
     "metadata": {},
     "output_type": "execute_result"
    }
   ],
   "source": [
    "urls_df = pd.read_csv(\n",
    "    \"datasets/kaggle_siddharta_malicious_benign.csv\",\n",
    "    delimiter=\",\",\n",
    "    dtype={\"url\": \"string\"},\n",
    ")\n",
    "\n",
    "urls_df.head()"
   ]
  },
  {
   "cell_type": "markdown",
   "id": "d2adb08b-bb91-471f-bcf2-d1a92e264613",
   "metadata": {},
   "source": [
    "### Extract domain names from URLs"
   ]
  },
  {
   "cell_type": "code",
   "execution_count": 4,
   "id": "371e54d8-b7ac-44fe-b325-20aefb639215",
   "metadata": {
    "execution": {
     "iopub.execute_input": "2023-04-15T15:11:48.420192Z",
     "iopub.status.busy": "2023-04-15T15:11:48.419230Z",
     "iopub.status.idle": "2023-04-15T15:11:51.167943Z",
     "shell.execute_reply": "2023-04-15T15:11:51.166911Z",
     "shell.execute_reply.started": "2023-04-15T15:11:48.420106Z"
    },
    "tags": []
   },
   "outputs": [
    {
     "data": {
      "text/html": [
       "<div>\n",
       "<style scoped>\n",
       "    .dataframe tbody tr th:only-of-type {\n",
       "        vertical-align: middle;\n",
       "    }\n",
       "\n",
       "    .dataframe tbody tr th {\n",
       "        vertical-align: top;\n",
       "    }\n",
       "\n",
       "    .dataframe thead th {\n",
       "        text-align: right;\n",
       "    }\n",
       "</style>\n",
       "<table border=\"1\" class=\"dataframe\">\n",
       "  <thead>\n",
       "    <tr style=\"text-align: right;\">\n",
       "      <th></th>\n",
       "      <th>url</th>\n",
       "      <th>type</th>\n",
       "      <th>FQDN</th>\n",
       "      <th>has_www</th>\n",
       "    </tr>\n",
       "  </thead>\n",
       "  <tbody>\n",
       "    <tr>\n",
       "      <th>0</th>\n",
       "      <td>br-icloud.com.br</td>\n",
       "      <td>phishing</td>\n",
       "      <td>br-icloud.com.br</td>\n",
       "      <td>False</td>\n",
       "    </tr>\n",
       "    <tr>\n",
       "      <th>1</th>\n",
       "      <td>mp3raid.com/music/krizz_kaliko.html</td>\n",
       "      <td>benign</td>\n",
       "      <td>mp3raid.com</td>\n",
       "      <td>False</td>\n",
       "    </tr>\n",
       "    <tr>\n",
       "      <th>2</th>\n",
       "      <td>bopsecrets.org/rexroth/cr/1.htm</td>\n",
       "      <td>benign</td>\n",
       "      <td>bopsecrets.org</td>\n",
       "      <td>False</td>\n",
       "    </tr>\n",
       "    <tr>\n",
       "      <th>3</th>\n",
       "      <td>http://www.garage-pirenne.be/index.php?option=...</td>\n",
       "      <td>defacement</td>\n",
       "      <td>garage-pirenne.be</td>\n",
       "      <td>True</td>\n",
       "    </tr>\n",
       "    <tr>\n",
       "      <th>4</th>\n",
       "      <td>http://adventure-nicaragua.net/index.php?optio...</td>\n",
       "      <td>defacement</td>\n",
       "      <td>adventure-nicaragua.net</td>\n",
       "      <td>False</td>\n",
       "    </tr>\n",
       "  </tbody>\n",
       "</table>\n",
       "</div>"
      ],
      "text/plain": [
       "                                                 url        type  \\\n",
       "0                                   br-icloud.com.br    phishing   \n",
       "1                mp3raid.com/music/krizz_kaliko.html      benign   \n",
       "2                    bopsecrets.org/rexroth/cr/1.htm      benign   \n",
       "3  http://www.garage-pirenne.be/index.php?option=...  defacement   \n",
       "4  http://adventure-nicaragua.net/index.php?optio...  defacement   \n",
       "\n",
       "                      FQDN  has_www  \n",
       "0         br-icloud.com.br    False  \n",
       "1              mp3raid.com    False  \n",
       "2           bopsecrets.org    False  \n",
       "3        garage-pirenne.be     True  \n",
       "4  adventure-nicaragua.net    False  "
      ]
     },
     "execution_count": 4,
     "metadata": {},
     "output_type": "execute_result"
    }
   ],
   "source": [
    "# Regex pattern to extract fully qualified domain name (FQDN)\n",
    "pattern = r\"(?:.*?:\\/\\/)?(?P<www>[wW]{3}\\.)?(?P<domain>[\\w\\.\\-]+)[^\\w]*\"\n",
    "\n",
    "# Execute regex over URLs\n",
    "match = urls_df[\"url\"].str.extract(pattern)\n",
    "\n",
    "# Extract domain using named group\n",
    "urls_df[\"FQDN\"] = match[\"domain\"]\n",
    "\n",
    "# Indicate if www subdomain is present\n",
    "urls_df[\"has_www\"] = match[\"www\"].notna()\n",
    "\n",
    "urls_df.head()"
   ]
  },
  {
   "cell_type": "markdown",
   "id": "aa406c1f-e1d6-4b6a-a74a-f920b325d65d",
   "metadata": {},
   "source": [
    "### Remove all addreses without domain (IPs)"
   ]
  },
  {
   "cell_type": "code",
   "execution_count": 5,
   "id": "cbbf3dca-9569-4dd8-8753-40e2070b994d",
   "metadata": {
    "execution": {
     "iopub.execute_input": "2023-04-15T15:11:51.171056Z",
     "iopub.status.busy": "2023-04-15T15:11:51.170118Z",
     "iopub.status.idle": "2023-04-15T15:11:52.723570Z",
     "shell.execute_reply": "2023-04-15T15:11:52.722522Z",
     "shell.execute_reply.started": "2023-04-15T15:11:51.170996Z"
    },
    "tags": []
   },
   "outputs": [],
   "source": [
    "# Pattern that matches all IPv4 addresses\n",
    "pattern = \"(?:.*?:\\/\\/)?(?P<www>[wW]{3}\\.)?[0-9]{1,3}\\.[0-9]{1,3}\\.[0-9]{1,3}\\.[0-9]{1,3}([/:].*)?$\"\n",
    "\n",
    "# Leave only data not containing pure IPv4\n",
    "urls_df = urls_df[~urls_df[\"url\"].str.match(pattern)]\n",
    "\n",
    "# Reset index\n",
    "urls_df = urls_df.reset_index(drop=True)"
   ]
  },
  {
   "cell_type": "markdown",
   "id": "4f2613b8-eacf-478e-8f89-5702759d2b5f",
   "metadata": {},
   "source": [
    "### Extract features from domains"
   ]
  },
  {
   "cell_type": "markdown",
   "id": "71886ded-a5f4-4d64-aad8-f007a6e52056",
   "metadata": {},
   "source": [
    "#### Separate TLD, domain and subdomain"
   ]
  },
  {
   "cell_type": "code",
   "execution_count": 6,
   "id": "3729e738-9a2c-4b55-a736-4d6914996182",
   "metadata": {
    "execution": {
     "iopub.execute_input": "2023-04-15T15:11:52.725781Z",
     "iopub.status.busy": "2023-04-15T15:11:52.725020Z",
     "iopub.status.idle": "2023-04-15T15:11:52.968193Z",
     "shell.execute_reply": "2023-04-15T15:11:52.967206Z",
     "shell.execute_reply.started": "2023-04-15T15:11:52.725707Z"
    },
    "tags": []
   },
   "outputs": [],
   "source": [
    "import tldextract\n",
    "\n",
    "\n",
    "# Function to extract components of domain using tldextract\n",
    "def extract_domain_components(url):\n",
    "    ext = tldextract.extract(url)\n",
    "    return pd.Series([ext.subdomain, ext.domain, ext.suffix, ext.suffix == \"\"])"
   ]
  },
  {
   "cell_type": "code",
   "execution_count": 7,
   "id": "97d0ac75-2e2f-406a-ab69-d30e86021b23",
   "metadata": {
    "execution": {
     "iopub.execute_input": "2023-04-15T15:11:52.984925Z",
     "iopub.status.busy": "2023-04-15T15:11:52.981497Z",
     "iopub.status.idle": "2023-04-15T15:13:57.617876Z",
     "shell.execute_reply": "2023-04-15T15:13:57.616441Z",
     "shell.execute_reply.started": "2023-04-15T15:11:52.984830Z"
    },
    "tags": []
   },
   "outputs": [],
   "source": [
    "# Apply function to url column to extract domain components and explode into separate columns\n",
    "urls_df[[\"subdomain\", \"domain\", \"TLD\", \"is_invalid_TLD\"]] = urls_df[\"url\"].apply(\n",
    "    extract_domain_components\n",
    ")"
   ]
  },
  {
   "cell_type": "code",
   "execution_count": 8,
   "id": "9a0f473f-7144-4b97-b2c7-71c445d7d838",
   "metadata": {
    "execution": {
     "iopub.execute_input": "2023-04-15T15:13:57.621122Z",
     "iopub.status.busy": "2023-04-15T15:13:57.619860Z",
     "iopub.status.idle": "2023-04-15T15:13:57.819085Z",
     "shell.execute_reply": "2023-04-15T15:13:57.817907Z",
     "shell.execute_reply.started": "2023-04-15T15:13:57.621065Z"
    },
    "tags": []
   },
   "outputs": [
    {
     "data": {
      "text/html": [
       "<div>\n",
       "<style scoped>\n",
       "    .dataframe tbody tr th:only-of-type {\n",
       "        vertical-align: middle;\n",
       "    }\n",
       "\n",
       "    .dataframe tbody tr th {\n",
       "        vertical-align: top;\n",
       "    }\n",
       "\n",
       "    .dataframe thead th {\n",
       "        text-align: right;\n",
       "    }\n",
       "</style>\n",
       "<table border=\"1\" class=\"dataframe\">\n",
       "  <thead>\n",
       "    <tr style=\"text-align: right;\">\n",
       "      <th></th>\n",
       "      <th>url</th>\n",
       "      <th>type</th>\n",
       "      <th>FQDN</th>\n",
       "      <th>has_www</th>\n",
       "      <th>subdomain</th>\n",
       "      <th>domain</th>\n",
       "      <th>TLD</th>\n",
       "      <th>is_invalid_TLD</th>\n",
       "    </tr>\n",
       "  </thead>\n",
       "  <tbody>\n",
       "    <tr>\n",
       "      <th>543171</th>\n",
       "      <td>www.udc.an/wp-includes/js/tinymce/themes/advan...</td>\n",
       "      <td>benign</td>\n",
       "      <td>udc.an</td>\n",
       "      <td>True</td>\n",
       "      <td>www.udc</td>\n",
       "      <td>an</td>\n",
       "      <td></td>\n",
       "      <td>True</td>\n",
       "    </tr>\n",
       "    <tr>\n",
       "      <th>543545</th>\n",
       "      <td>www.udc.an/wp-includes/js/tinymce/themes/advan...</td>\n",
       "      <td>benign</td>\n",
       "      <td>udc.an</td>\n",
       "      <td>True</td>\n",
       "      <td>www.udc</td>\n",
       "      <td>an</td>\n",
       "      <td></td>\n",
       "      <td>True</td>\n",
       "    </tr>\n",
       "    <tr>\n",
       "      <th>543670</th>\n",
       "      <td>772050312/www1.royalbank.com/cgi-bin/rbaccess/...</td>\n",
       "      <td>benign</td>\n",
       "      <td>772050312</td>\n",
       "      <td>False</td>\n",
       "      <td></td>\n",
       "      <td>772050312</td>\n",
       "      <td></td>\n",
       "      <td>True</td>\n",
       "    </tr>\n",
       "    <tr>\n",
       "      <th>555067</th>\n",
       "      <td>bin/webscr?cmd=_login-</td>\n",
       "      <td>benign</td>\n",
       "      <td>bin</td>\n",
       "      <td>False</td>\n",
       "      <td></td>\n",
       "      <td>bin</td>\n",
       "      <td></td>\n",
       "      <td>True</td>\n",
       "    </tr>\n",
       "    <tr>\n",
       "      <th>561288</th>\n",
       "      <td>www\u000eeira¯&amp;nvinip¿ncH¯wVö%ÆåyDaHðû/ÏyEùu\u0003Ë\n",
       "Ó\u00176(...</td>\n",
       "      <td>phishing</td>\n",
       "      <td>www</td>\n",
       "      <td>False</td>\n",
       "      <td></td>\n",
       "      <td>www\u000eeira¯&amp;nvinip¿ncH¯wVö%ÆåyDaHðû</td>\n",
       "      <td></td>\n",
       "      <td>True</td>\n",
       "    </tr>\n",
       "  </tbody>\n",
       "</table>\n",
       "</div>"
      ],
      "text/plain": [
       "                                                      url      type  \\\n",
       "543171  www.udc.an/wp-includes/js/tinymce/themes/advan...    benign   \n",
       "543545  www.udc.an/wp-includes/js/tinymce/themes/advan...    benign   \n",
       "543670  772050312/www1.royalbank.com/cgi-bin/rbaccess/...    benign   \n",
       "555067                             bin/webscr?cmd=_login-    benign   \n",
       "561288  www\u000eeira¯&nvinip¿ncH¯wVö%ÆåyDaHðû/ÏyEùu\u0003Ë\n",
       "Ó\u00176(...  phishing   \n",
       "\n",
       "             FQDN  has_www subdomain                             domain TLD  \\\n",
       "543171     udc.an     True   www.udc                                 an       \n",
       "543545     udc.an     True   www.udc                                 an       \n",
       "543670  772050312    False                                    772050312       \n",
       "555067        bin    False                                          bin       \n",
       "561288        www    False            www\u000eeira¯&nvinip¿ncH¯wVö%ÆåyDaHðû       \n",
       "\n",
       "        is_invalid_TLD  \n",
       "543171            True  \n",
       "543545            True  \n",
       "543670            True  \n",
       "555067            True  \n",
       "561288            True  "
      ]
     },
     "execution_count": 8,
     "metadata": {},
     "output_type": "execute_result"
    }
   ],
   "source": [
    "urls_df[urls_df[\"is_invalid_TLD\"]].head()"
   ]
  },
  {
   "cell_type": "code",
   "execution_count": 9,
   "id": "1d12e0b0-5436-4cbb-9f82-e2501ced55ed",
   "metadata": {
    "execution": {
     "iopub.execute_input": "2023-04-15T15:13:57.821444Z",
     "iopub.status.busy": "2023-04-15T15:13:57.820689Z",
     "iopub.status.idle": "2023-04-15T15:13:58.196229Z",
     "shell.execute_reply": "2023-04-15T15:13:58.194999Z",
     "shell.execute_reply.started": "2023-04-15T15:13:57.821391Z"
    },
    "tags": []
   },
   "outputs": [],
   "source": [
    "# Remove domains with invalid TLD\n",
    "urls_df = urls_df[~urls_df[\"is_invalid_TLD\"]]\n",
    "\n",
    "# Reset index\n",
    "urls_df = urls_df.reset_index(drop=True)"
   ]
  },
  {
   "cell_type": "markdown",
   "id": "84e55e0f-bbe2-4e48-ae4b-aaad5cbbd180",
   "metadata": {},
   "source": [
    "#### Length of domain, subdomain and TLD"
   ]
  },
  {
   "cell_type": "code",
   "execution_count": 10,
   "id": "b46a7d8e-ade3-423b-8ca8-44b45211b27f",
   "metadata": {
    "execution": {
     "iopub.execute_input": "2023-04-15T15:13:58.198559Z",
     "iopub.status.busy": "2023-04-15T15:13:58.198060Z",
     "iopub.status.idle": "2023-04-15T15:13:59.112425Z",
     "shell.execute_reply": "2023-04-15T15:13:59.110616Z",
     "shell.execute_reply.started": "2023-04-15T15:13:58.198528Z"
    },
    "tags": []
   },
   "outputs": [
    {
     "data": {
      "text/html": [
       "<div>\n",
       "<style scoped>\n",
       "    .dataframe tbody tr th:only-of-type {\n",
       "        vertical-align: middle;\n",
       "    }\n",
       "\n",
       "    .dataframe tbody tr th {\n",
       "        vertical-align: top;\n",
       "    }\n",
       "\n",
       "    .dataframe thead th {\n",
       "        text-align: right;\n",
       "    }\n",
       "</style>\n",
       "<table border=\"1\" class=\"dataframe\">\n",
       "  <thead>\n",
       "    <tr style=\"text-align: right;\">\n",
       "      <th></th>\n",
       "      <th>url</th>\n",
       "      <th>type</th>\n",
       "      <th>FQDN</th>\n",
       "      <th>has_www</th>\n",
       "      <th>subdomain</th>\n",
       "      <th>domain</th>\n",
       "      <th>TLD</th>\n",
       "      <th>is_invalid_TLD</th>\n",
       "      <th>domain_length</th>\n",
       "      <th>subdomain_length</th>\n",
       "      <th>TLD_length</th>\n",
       "    </tr>\n",
       "  </thead>\n",
       "  <tbody>\n",
       "    <tr>\n",
       "      <th>0</th>\n",
       "      <td>br-icloud.com.br</td>\n",
       "      <td>phishing</td>\n",
       "      <td>br-icloud.com.br</td>\n",
       "      <td>False</td>\n",
       "      <td></td>\n",
       "      <td>br-icloud</td>\n",
       "      <td>com.br</td>\n",
       "      <td>False</td>\n",
       "      <td>9</td>\n",
       "      <td>0</td>\n",
       "      <td>6</td>\n",
       "    </tr>\n",
       "    <tr>\n",
       "      <th>1</th>\n",
       "      <td>mp3raid.com/music/krizz_kaliko.html</td>\n",
       "      <td>benign</td>\n",
       "      <td>mp3raid.com</td>\n",
       "      <td>False</td>\n",
       "      <td></td>\n",
       "      <td>mp3raid</td>\n",
       "      <td>com</td>\n",
       "      <td>False</td>\n",
       "      <td>7</td>\n",
       "      <td>0</td>\n",
       "      <td>3</td>\n",
       "    </tr>\n",
       "  </tbody>\n",
       "</table>\n",
       "</div>"
      ],
      "text/plain": [
       "                                   url      type              FQDN  has_www  \\\n",
       "0                     br-icloud.com.br  phishing  br-icloud.com.br    False   \n",
       "1  mp3raid.com/music/krizz_kaliko.html    benign       mp3raid.com    False   \n",
       "\n",
       "  subdomain     domain     TLD  is_invalid_TLD  domain_length  \\\n",
       "0            br-icloud  com.br           False              9   \n",
       "1              mp3raid     com           False              7   \n",
       "\n",
       "   subdomain_length  TLD_length  \n",
       "0                 0           6  \n",
       "1                 0           3  "
      ]
     },
     "execution_count": 10,
     "metadata": {},
     "output_type": "execute_result"
    }
   ],
   "source": [
    "urls_df[[\"domain_length\", \"subdomain_length\", \"TLD_length\"]] = urls_df[\n",
    "    [\"domain\", \"subdomain\", \"TLD\"]\n",
    "].applymap(len)\n",
    "urls_df.head(2)"
   ]
  },
  {
   "cell_type": "markdown",
   "id": "d38a566b-c1e8-4c07-846f-aab069e6650c",
   "metadata": {},
   "source": [
    "#### Number of subdomains"
   ]
  },
  {
   "cell_type": "markdown",
   "id": "29043be7-fdfb-4d27-8eba-2d9faf59258e",
   "metadata": {},
   "source": [
    "I decide to include www in the count of subdomains. Might make performance-wise issues later. Reconsider if needed"
   ]
  },
  {
   "cell_type": "code",
   "execution_count": 11,
   "id": "f6d9d70b-c3d1-4852-b36f-22b55eb9ccb5",
   "metadata": {
    "execution": {
     "iopub.execute_input": "2023-04-15T15:13:59.117511Z",
     "iopub.status.busy": "2023-04-15T15:13:59.113876Z",
     "iopub.status.idle": "2023-04-15T15:14:00.418933Z",
     "shell.execute_reply": "2023-04-15T15:14:00.414804Z",
     "shell.execute_reply.started": "2023-04-15T15:13:59.117463Z"
    },
    "tags": []
   },
   "outputs": [
    {
     "data": {
      "text/html": [
       "<div>\n",
       "<style scoped>\n",
       "    .dataframe tbody tr th:only-of-type {\n",
       "        vertical-align: middle;\n",
       "    }\n",
       "\n",
       "    .dataframe tbody tr th {\n",
       "        vertical-align: top;\n",
       "    }\n",
       "\n",
       "    .dataframe thead th {\n",
       "        text-align: right;\n",
       "    }\n",
       "</style>\n",
       "<table border=\"1\" class=\"dataframe\">\n",
       "  <thead>\n",
       "    <tr style=\"text-align: right;\">\n",
       "      <th></th>\n",
       "      <th>url</th>\n",
       "      <th>type</th>\n",
       "      <th>FQDN</th>\n",
       "      <th>has_www</th>\n",
       "      <th>subdomain</th>\n",
       "      <th>domain</th>\n",
       "      <th>TLD</th>\n",
       "      <th>is_invalid_TLD</th>\n",
       "      <th>domain_length</th>\n",
       "      <th>subdomain_length</th>\n",
       "      <th>TLD_length</th>\n",
       "      <th>num_of_subdomains</th>\n",
       "    </tr>\n",
       "  </thead>\n",
       "  <tbody>\n",
       "    <tr>\n",
       "      <th>0</th>\n",
       "      <td>br-icloud.com.br</td>\n",
       "      <td>phishing</td>\n",
       "      <td>br-icloud.com.br</td>\n",
       "      <td>False</td>\n",
       "      <td></td>\n",
       "      <td>br-icloud</td>\n",
       "      <td>com.br</td>\n",
       "      <td>False</td>\n",
       "      <td>9</td>\n",
       "      <td>0</td>\n",
       "      <td>6</td>\n",
       "      <td>0</td>\n",
       "    </tr>\n",
       "    <tr>\n",
       "      <th>1</th>\n",
       "      <td>mp3raid.com/music/krizz_kaliko.html</td>\n",
       "      <td>benign</td>\n",
       "      <td>mp3raid.com</td>\n",
       "      <td>False</td>\n",
       "      <td></td>\n",
       "      <td>mp3raid</td>\n",
       "      <td>com</td>\n",
       "      <td>False</td>\n",
       "      <td>7</td>\n",
       "      <td>0</td>\n",
       "      <td>3</td>\n",
       "      <td>0</td>\n",
       "    </tr>\n",
       "  </tbody>\n",
       "</table>\n",
       "</div>"
      ],
      "text/plain": [
       "                                   url      type              FQDN  has_www  \\\n",
       "0                     br-icloud.com.br  phishing  br-icloud.com.br    False   \n",
       "1  mp3raid.com/music/krizz_kaliko.html    benign       mp3raid.com    False   \n",
       "\n",
       "  subdomain     domain     TLD  is_invalid_TLD  domain_length  \\\n",
       "0            br-icloud  com.br           False              9   \n",
       "1              mp3raid     com           False              7   \n",
       "\n",
       "   subdomain_length  TLD_length  num_of_subdomains  \n",
       "0                 0           6                  0  \n",
       "1                 0           3                  0  "
      ]
     },
     "execution_count": 11,
     "metadata": {},
     "output_type": "execute_result"
    }
   ],
   "source": [
    "urls_df[\"num_of_subdomains\"] = (\n",
    "    urls_df[\"subdomain\"].str.split(\".\").apply(lambda x: len(x) if x != [\"\"] else 0)\n",
    ")\n",
    "urls_df.head(2)"
   ]
  },
  {
   "cell_type": "markdown",
   "id": "1e77a85a-a10a-46df-b0af-c5457763a742",
   "metadata": {
    "tags": []
   },
   "source": [
    "#### Characters frequency & vowel-to-consonant ratio\n",
    "Characters:\n",
    "- alphabetical - \"a-zA-Z\"\n",
    "- digits - \"0-9\"\n",
    "- special - all except alphabetical, digits and dot"
   ]
  },
  {
   "cell_type": "markdown",
   "id": "e46d6124-1ddd-49fa-baa0-c4b6130b5de8",
   "metadata": {},
   "source": [
    "Can be changed based on the occurences of dots. It may be better to remove dots so this information is uncorrelated with num_of_substrings\n",
    "\n",
    "Try the result with and without dots to analyze the difference"
   ]
  },
  {
   "cell_type": "code",
   "execution_count": 12,
   "id": "07bf9cce-7888-493e-a41d-b0f9efa82ea6",
   "metadata": {
    "execution": {
     "iopub.execute_input": "2023-04-15T15:14:00.423799Z",
     "iopub.status.busy": "2023-04-15T15:14:00.423322Z",
     "iopub.status.idle": "2023-04-15T15:14:11.656009Z",
     "shell.execute_reply": "2023-04-15T15:14:11.654983Z",
     "shell.execute_reply.started": "2023-04-15T15:14:00.423768Z"
    },
    "tags": []
   },
   "outputs": [
    {
     "data": {
      "text/html": [
       "<div>\n",
       "<style scoped>\n",
       "    .dataframe tbody tr th:only-of-type {\n",
       "        vertical-align: middle;\n",
       "    }\n",
       "\n",
       "    .dataframe tbody tr th {\n",
       "        vertical-align: top;\n",
       "    }\n",
       "\n",
       "    .dataframe thead th {\n",
       "        text-align: right;\n",
       "    }\n",
       "</style>\n",
       "<table border=\"1\" class=\"dataframe\">\n",
       "  <thead>\n",
       "    <tr style=\"text-align: right;\">\n",
       "      <th></th>\n",
       "      <th>url</th>\n",
       "      <th>type</th>\n",
       "      <th>FQDN</th>\n",
       "      <th>has_www</th>\n",
       "      <th>subdomain</th>\n",
       "      <th>domain</th>\n",
       "      <th>TLD</th>\n",
       "      <th>is_invalid_TLD</th>\n",
       "      <th>domain_length</th>\n",
       "      <th>subdomain_length</th>\n",
       "      <th>...</th>\n",
       "      <th>domain_special_count</th>\n",
       "      <th>domain_vowel_consonant_ratio</th>\n",
       "      <th>subdomain_alpha_count</th>\n",
       "      <th>subdomain_numeric_count</th>\n",
       "      <th>subdomain_special_count</th>\n",
       "      <th>subdomain_vowel_consonant_ratio</th>\n",
       "      <th>TLD_alpha_count</th>\n",
       "      <th>TLD_numeric_count</th>\n",
       "      <th>TLD_special_count</th>\n",
       "      <th>TLD_vowel_consonant_ratio</th>\n",
       "    </tr>\n",
       "  </thead>\n",
       "  <tbody>\n",
       "    <tr>\n",
       "      <th>0</th>\n",
       "      <td>br-icloud.com.br</td>\n",
       "      <td>phishing</td>\n",
       "      <td>br-icloud.com.br</td>\n",
       "      <td>False</td>\n",
       "      <td></td>\n",
       "      <td>br-icloud</td>\n",
       "      <td>com.br</td>\n",
       "      <td>False</td>\n",
       "      <td>9</td>\n",
       "      <td>0</td>\n",
       "      <td>...</td>\n",
       "      <td>1</td>\n",
       "      <td>0.6</td>\n",
       "      <td>0</td>\n",
       "      <td>0</td>\n",
       "      <td>0</td>\n",
       "      <td>NaN</td>\n",
       "      <td>5</td>\n",
       "      <td>0</td>\n",
       "      <td>0</td>\n",
       "      <td>0.25</td>\n",
       "    </tr>\n",
       "    <tr>\n",
       "      <th>1</th>\n",
       "      <td>mp3raid.com/music/krizz_kaliko.html</td>\n",
       "      <td>benign</td>\n",
       "      <td>mp3raid.com</td>\n",
       "      <td>False</td>\n",
       "      <td></td>\n",
       "      <td>mp3raid</td>\n",
       "      <td>com</td>\n",
       "      <td>False</td>\n",
       "      <td>7</td>\n",
       "      <td>0</td>\n",
       "      <td>...</td>\n",
       "      <td>0</td>\n",
       "      <td>0.5</td>\n",
       "      <td>0</td>\n",
       "      <td>0</td>\n",
       "      <td>0</td>\n",
       "      <td>NaN</td>\n",
       "      <td>3</td>\n",
       "      <td>0</td>\n",
       "      <td>0</td>\n",
       "      <td>0.50</td>\n",
       "    </tr>\n",
       "  </tbody>\n",
       "</table>\n",
       "<p>2 rows × 24 columns</p>\n",
       "</div>"
      ],
      "text/plain": [
       "                                   url      type              FQDN  has_www  \\\n",
       "0                     br-icloud.com.br  phishing  br-icloud.com.br    False   \n",
       "1  mp3raid.com/music/krizz_kaliko.html    benign       mp3raid.com    False   \n",
       "\n",
       "  subdomain     domain     TLD  is_invalid_TLD  domain_length  \\\n",
       "0            br-icloud  com.br           False              9   \n",
       "1              mp3raid     com           False              7   \n",
       "\n",
       "   subdomain_length  ...  domain_special_count  domain_vowel_consonant_ratio  \\\n",
       "0                 0  ...                     1                           0.6   \n",
       "1                 0  ...                     0                           0.5   \n",
       "\n",
       "   subdomain_alpha_count  subdomain_numeric_count  subdomain_special_count  \\\n",
       "0                      0                        0                        0   \n",
       "1                      0                        0                        0   \n",
       "\n",
       "   subdomain_vowel_consonant_ratio  TLD_alpha_count  TLD_numeric_count  \\\n",
       "0                              NaN                5                  0   \n",
       "1                              NaN                3                  0   \n",
       "\n",
       "   TLD_special_count  TLD_vowel_consonant_ratio  \n",
       "0                  0                       0.25  \n",
       "1                  0                       0.50  \n",
       "\n",
       "[2 rows x 24 columns]"
      ]
     },
     "execution_count": 12,
     "metadata": {},
     "output_type": "execute_result"
    }
   ],
   "source": [
    "for column in [\"domain\", \"subdomain\", \"TLD\"]:\n",
    "    # Vowel-to-consonant ratio\n",
    "    vowel_counts = urls_df[column].str.count(r\"[aeiouAEIOU]\")\n",
    "    consonant_counts = urls_df[column].str.count(r\"[b-df-hj-np-tv-zB-DF-HJ-NP-TV-Z]\")\n",
    "\n",
    "    # Get alphabetical, numeric and special character counts for specific column\n",
    "    numeric_counts = urls_df[column].str.count(r\"[0-9]\")\n",
    "    special_counts = urls_df[column].str.count(r\"[^A-Za-z0-9\\s\\.]\")\n",
    "    alpha_counts = vowel_counts + consonant_counts\n",
    "\n",
    "    # Add them into DF\n",
    "    urls_df[\n",
    "        [\n",
    "            f\"{column}_alpha_count\",\n",
    "            f\"{column}_numeric_count\",\n",
    "            f\"{column}_special_count\",\n",
    "            f\"{column}_vowel_consonant_ratio\",\n",
    "        ]\n",
    "    ] = pd.Series(\n",
    "        [alpha_counts, numeric_counts, special_counts, vowel_counts / consonant_counts]\n",
    "    )\n",
    "\n",
    "urls_df.head(2)"
   ]
  },
  {
   "cell_type": "markdown",
   "id": "8e90de86-c431-4d0d-b8e4-596d678bce9c",
   "metadata": {
    "tags": []
   },
   "source": [
    "#### Complexity of domain and subdomain"
   ]
  },
  {
   "cell_type": "markdown",
   "id": "aff41ad3-a441-4f0b-9bfe-567562ce3cea",
   "metadata": {},
   "source": [
    "Using compression algorithm (`smaz` python implementation) to approximate Kolmogorov complexity"
   ]
  },
  {
   "cell_type": "code",
   "execution_count": 13,
   "id": "07ebd10c-e481-42ad-917f-d15009326d08",
   "metadata": {
    "execution": {
     "iopub.execute_input": "2023-04-15T15:14:11.658404Z",
     "iopub.status.busy": "2023-04-15T15:14:11.657839Z",
     "iopub.status.idle": "2023-04-15T15:14:13.131571Z",
     "shell.execute_reply": "2023-04-15T15:14:13.130132Z",
     "shell.execute_reply.started": "2023-04-15T15:14:11.658353Z"
    },
    "tags": []
   },
   "outputs": [],
   "source": [
    "import smaz\n",
    "\n",
    "urls_df[[\"domain_complexity\", \"subdomain_complexity\"]] = urls_df[\n",
    "    [\"domain\", \"subdomain\"]\n",
    "].applymap(lambda s: len(smaz.compress(s)) / len(s) if s != \"\" else np.nan)"
   ]
  },
  {
   "cell_type": "markdown",
   "id": "0f60c6d9-d96c-4cf4-a6a3-297c689a03bc",
   "metadata": {},
   "source": [
    "#### N-grams"
   ]
  },
  {
   "cell_type": "code",
   "execution_count": 14,
   "id": "9b4ecdb8-0553-4df6-98eb-7de03cc6315d",
   "metadata": {
    "execution": {
     "iopub.execute_input": "2023-04-15T15:14:13.134869Z",
     "iopub.status.busy": "2023-04-15T15:14:13.133992Z",
     "iopub.status.idle": "2023-04-15T15:14:29.856661Z",
     "shell.execute_reply": "2023-04-15T15:14:29.850004Z",
     "shell.execute_reply.started": "2023-04-15T15:14:13.134813Z"
    },
    "tags": []
   },
   "outputs": [
    {
     "data": {
      "text/html": [
       "<div>\n",
       "<style scoped>\n",
       "    .dataframe tbody tr th:only-of-type {\n",
       "        vertical-align: middle;\n",
       "    }\n",
       "\n",
       "    .dataframe tbody tr th {\n",
       "        vertical-align: top;\n",
       "    }\n",
       "\n",
       "    .dataframe thead th {\n",
       "        text-align: right;\n",
       "    }\n",
       "</style>\n",
       "<table border=\"1\" class=\"dataframe\">\n",
       "  <thead>\n",
       "    <tr style=\"text-align: right;\">\n",
       "      <th></th>\n",
       "      <th>url</th>\n",
       "      <th>type</th>\n",
       "      <th>FQDN</th>\n",
       "      <th>has_www</th>\n",
       "      <th>subdomain</th>\n",
       "      <th>domain</th>\n",
       "      <th>TLD</th>\n",
       "      <th>is_invalid_TLD</th>\n",
       "      <th>domain_length</th>\n",
       "      <th>subdomain_length</th>\n",
       "      <th>...</th>\n",
       "      <th>TLD_alpha_count</th>\n",
       "      <th>TLD_numeric_count</th>\n",
       "      <th>TLD_special_count</th>\n",
       "      <th>TLD_vowel_consonant_ratio</th>\n",
       "      <th>domain_complexity</th>\n",
       "      <th>subdomain_complexity</th>\n",
       "      <th>domain_n2grams</th>\n",
       "      <th>subdomain_n2grams</th>\n",
       "      <th>domain_n3grams</th>\n",
       "      <th>subdomain_n3grams</th>\n",
       "    </tr>\n",
       "  </thead>\n",
       "  <tbody>\n",
       "    <tr>\n",
       "      <th>0</th>\n",
       "      <td>br-icloud.com.br</td>\n",
       "      <td>phishing</td>\n",
       "      <td>br-icloud.com.br</td>\n",
       "      <td>False</td>\n",
       "      <td></td>\n",
       "      <td>br-icloud</td>\n",
       "      <td>com.br</td>\n",
       "      <td>False</td>\n",
       "      <td>9</td>\n",
       "      <td>0</td>\n",
       "      <td>...</td>\n",
       "      <td>5</td>\n",
       "      <td>0</td>\n",
       "      <td>0</td>\n",
       "      <td>0.25</td>\n",
       "      <td>0.777778</td>\n",
       "      <td>NaN</td>\n",
       "      <td>[br, r-, -i, ic, cl, lo, ou, ud]</td>\n",
       "      <td>[]</td>\n",
       "      <td>[br-, r-i, -ic, icl, clo, lou, oud]</td>\n",
       "      <td>[]</td>\n",
       "    </tr>\n",
       "    <tr>\n",
       "      <th>1</th>\n",
       "      <td>mp3raid.com/music/krizz_kaliko.html</td>\n",
       "      <td>benign</td>\n",
       "      <td>mp3raid.com</td>\n",
       "      <td>False</td>\n",
       "      <td></td>\n",
       "      <td>mp3raid</td>\n",
       "      <td>com</td>\n",
       "      <td>False</td>\n",
       "      <td>7</td>\n",
       "      <td>0</td>\n",
       "      <td>...</td>\n",
       "      <td>3</td>\n",
       "      <td>0</td>\n",
       "      <td>0</td>\n",
       "      <td>0.50</td>\n",
       "      <td>0.857143</td>\n",
       "      <td>NaN</td>\n",
       "      <td>[mp, p3, 3r, ra, ai, id]</td>\n",
       "      <td>[]</td>\n",
       "      <td>[mp3, p3r, 3ra, rai, aid]</td>\n",
       "      <td>[]</td>\n",
       "    </tr>\n",
       "    <tr>\n",
       "      <th>2</th>\n",
       "      <td>bopsecrets.org/rexroth/cr/1.htm</td>\n",
       "      <td>benign</td>\n",
       "      <td>bopsecrets.org</td>\n",
       "      <td>False</td>\n",
       "      <td></td>\n",
       "      <td>bopsecrets</td>\n",
       "      <td>org</td>\n",
       "      <td>False</td>\n",
       "      <td>10</td>\n",
       "      <td>0</td>\n",
       "      <td>...</td>\n",
       "      <td>3</td>\n",
       "      <td>0</td>\n",
       "      <td>0</td>\n",
       "      <td>0.50</td>\n",
       "      <td>0.800000</td>\n",
       "      <td>NaN</td>\n",
       "      <td>[bo, op, ps, se, ec, cr, re, et, ts]</td>\n",
       "      <td>[]</td>\n",
       "      <td>[bop, ops, pse, sec, ecr, cre, ret, ets]</td>\n",
       "      <td>[]</td>\n",
       "    </tr>\n",
       "  </tbody>\n",
       "</table>\n",
       "<p>3 rows × 30 columns</p>\n",
       "</div>"
      ],
      "text/plain": [
       "                                   url      type              FQDN  has_www  \\\n",
       "0                     br-icloud.com.br  phishing  br-icloud.com.br    False   \n",
       "1  mp3raid.com/music/krizz_kaliko.html    benign       mp3raid.com    False   \n",
       "2      bopsecrets.org/rexroth/cr/1.htm    benign    bopsecrets.org    False   \n",
       "\n",
       "  subdomain      domain     TLD  is_invalid_TLD  domain_length  \\\n",
       "0             br-icloud  com.br           False              9   \n",
       "1               mp3raid     com           False              7   \n",
       "2            bopsecrets     org           False             10   \n",
       "\n",
       "   subdomain_length  ...  TLD_alpha_count  TLD_numeric_count  \\\n",
       "0                 0  ...                5                  0   \n",
       "1                 0  ...                3                  0   \n",
       "2                 0  ...                3                  0   \n",
       "\n",
       "   TLD_special_count  TLD_vowel_consonant_ratio  domain_complexity  \\\n",
       "0                  0                       0.25           0.777778   \n",
       "1                  0                       0.50           0.857143   \n",
       "2                  0                       0.50           0.800000   \n",
       "\n",
       "   subdomain_complexity                        domain_n2grams  \\\n",
       "0                   NaN      [br, r-, -i, ic, cl, lo, ou, ud]   \n",
       "1                   NaN              [mp, p3, 3r, ra, ai, id]   \n",
       "2                   NaN  [bo, op, ps, se, ec, cr, re, et, ts]   \n",
       "\n",
       "   subdomain_n2grams                            domain_n3grams  \\\n",
       "0                 []       [br-, r-i, -ic, icl, clo, lou, oud]   \n",
       "1                 []                 [mp3, p3r, 3ra, rai, aid]   \n",
       "2                 []  [bop, ops, pse, sec, ecr, cre, ret, ets]   \n",
       "\n",
       "   subdomain_n3grams  \n",
       "0                 []  \n",
       "1                 []  \n",
       "2                 []  \n",
       "\n",
       "[3 rows x 30 columns]"
      ]
     },
     "execution_count": 14,
     "metadata": {},
     "output_type": "execute_result"
    }
   ],
   "source": [
    "# Define columns to compute Ngrams over\n",
    "NGRAM_COLUMNS = [\"domain\", \"subdomain\"]\n",
    "\n",
    "# Ngrams implementation over characters\n",
    "def ngrams(string, n):\n",
    "    return [\"\".join(string[i : i + n]) for i in range(len(string) - n + 1)]\n",
    "\n",
    "\n",
    "# Define values for n\n",
    "n_values = [2, 3]\n",
    "\n",
    "for n in n_values:\n",
    "    # Create names or new columns\n",
    "    ngram_new_columns = [f\"{col}_n{n}grams\" for col in NGRAM_COLUMNS]\n",
    "\n",
    "    # Apply vectorized function over dataframe\n",
    "    urls_df[ngram_new_columns] = urls_df[NGRAM_COLUMNS].applymap(lambda x: ngrams(x, n))\n",
    "\n",
    "urls_df.head(3)"
   ]
  },
  {
   "cell_type": "markdown",
   "id": "731a1fa3-6e3b-4403-a2e8-8245cb9705e5",
   "metadata": {},
   "source": [
    "### Encode labels"
   ]
  },
  {
   "cell_type": "code",
   "execution_count": 15,
   "id": "6e1b8d2e-6003-4edc-aab4-810e828934fd",
   "metadata": {
    "execution": {
     "iopub.execute_input": "2023-04-15T15:14:29.860438Z",
     "iopub.status.busy": "2023-04-15T15:14:29.858800Z",
     "iopub.status.idle": "2023-04-15T15:14:30.925604Z",
     "shell.execute_reply": "2023-04-15T15:14:30.924481Z",
     "shell.execute_reply.started": "2023-04-15T15:14:29.860387Z"
    },
    "tags": []
   },
   "outputs": [],
   "source": [
    "# Create OneHotEncoded features from type\n",
    "\n",
    "from sklearn.preprocessing import OneHotEncoder\n",
    "\n",
    "ohenc = OneHotEncoder(sparse_output=False)\n",
    "type_ohenc = pd.DataFrame(\n",
    "    ohenc.fit_transform(urls_df[\"type\"].values.reshape(-1, 1)),\n",
    "    columns=ohenc.categories_[0],\n",
    ").astype(bool)\n",
    "\n",
    "# URLs_transformed df\n",
    "urls_tdf = pd.concat([urls_df, type_ohenc], axis=1)"
   ]
  },
  {
   "cell_type": "code",
   "execution_count": 16,
   "id": "3db10b2d-9b34-4634-baf4-7a037ae25cd8",
   "metadata": {
    "execution": {
     "iopub.execute_input": "2023-04-15T15:14:30.927936Z",
     "iopub.status.busy": "2023-04-15T15:14:30.927440Z",
     "iopub.status.idle": "2023-04-15T15:14:31.086400Z",
     "shell.execute_reply": "2023-04-15T15:14:31.079453Z",
     "shell.execute_reply.started": "2023-04-15T15:14:30.927905Z"
    },
    "tags": []
   },
   "outputs": [
    {
     "data": {
      "text/html": [
       "<div>\n",
       "<style scoped>\n",
       "    .dataframe tbody tr th:only-of-type {\n",
       "        vertical-align: middle;\n",
       "    }\n",
       "\n",
       "    .dataframe tbody tr th {\n",
       "        vertical-align: top;\n",
       "    }\n",
       "\n",
       "    .dataframe thead th {\n",
       "        text-align: right;\n",
       "    }\n",
       "</style>\n",
       "<table border=\"1\" class=\"dataframe\">\n",
       "  <thead>\n",
       "    <tr style=\"text-align: right;\">\n",
       "      <th></th>\n",
       "      <th>url</th>\n",
       "      <th>type</th>\n",
       "      <th>FQDN</th>\n",
       "      <th>has_www</th>\n",
       "      <th>subdomain</th>\n",
       "      <th>domain</th>\n",
       "      <th>TLD</th>\n",
       "      <th>is_invalid_TLD</th>\n",
       "      <th>domain_length</th>\n",
       "      <th>subdomain_length</th>\n",
       "      <th>...</th>\n",
       "      <th>subdomain_complexity</th>\n",
       "      <th>domain_n2grams</th>\n",
       "      <th>subdomain_n2grams</th>\n",
       "      <th>domain_n3grams</th>\n",
       "      <th>subdomain_n3grams</th>\n",
       "      <th>benign</th>\n",
       "      <th>defacement</th>\n",
       "      <th>malware</th>\n",
       "      <th>phishing</th>\n",
       "      <th>malicious</th>\n",
       "    </tr>\n",
       "  </thead>\n",
       "  <tbody>\n",
       "    <tr>\n",
       "      <th>0</th>\n",
       "      <td>br-icloud.com.br</td>\n",
       "      <td>phishing</td>\n",
       "      <td>br-icloud.com.br</td>\n",
       "      <td>False</td>\n",
       "      <td></td>\n",
       "      <td>br-icloud</td>\n",
       "      <td>com.br</td>\n",
       "      <td>False</td>\n",
       "      <td>9</td>\n",
       "      <td>0</td>\n",
       "      <td>...</td>\n",
       "      <td>NaN</td>\n",
       "      <td>[br, r-, -i, ic, cl, lo, ou, ud]</td>\n",
       "      <td>[]</td>\n",
       "      <td>[br-, r-i, -ic, icl, clo, lou, oud]</td>\n",
       "      <td>[]</td>\n",
       "      <td>False</td>\n",
       "      <td>False</td>\n",
       "      <td>False</td>\n",
       "      <td>True</td>\n",
       "      <td>True</td>\n",
       "    </tr>\n",
       "    <tr>\n",
       "      <th>1</th>\n",
       "      <td>mp3raid.com/music/krizz_kaliko.html</td>\n",
       "      <td>benign</td>\n",
       "      <td>mp3raid.com</td>\n",
       "      <td>False</td>\n",
       "      <td></td>\n",
       "      <td>mp3raid</td>\n",
       "      <td>com</td>\n",
       "      <td>False</td>\n",
       "      <td>7</td>\n",
       "      <td>0</td>\n",
       "      <td>...</td>\n",
       "      <td>NaN</td>\n",
       "      <td>[mp, p3, 3r, ra, ai, id]</td>\n",
       "      <td>[]</td>\n",
       "      <td>[mp3, p3r, 3ra, rai, aid]</td>\n",
       "      <td>[]</td>\n",
       "      <td>True</td>\n",
       "      <td>False</td>\n",
       "      <td>False</td>\n",
       "      <td>False</td>\n",
       "      <td>False</td>\n",
       "    </tr>\n",
       "    <tr>\n",
       "      <th>2</th>\n",
       "      <td>bopsecrets.org/rexroth/cr/1.htm</td>\n",
       "      <td>benign</td>\n",
       "      <td>bopsecrets.org</td>\n",
       "      <td>False</td>\n",
       "      <td></td>\n",
       "      <td>bopsecrets</td>\n",
       "      <td>org</td>\n",
       "      <td>False</td>\n",
       "      <td>10</td>\n",
       "      <td>0</td>\n",
       "      <td>...</td>\n",
       "      <td>NaN</td>\n",
       "      <td>[bo, op, ps, se, ec, cr, re, et, ts]</td>\n",
       "      <td>[]</td>\n",
       "      <td>[bop, ops, pse, sec, ecr, cre, ret, ets]</td>\n",
       "      <td>[]</td>\n",
       "      <td>True</td>\n",
       "      <td>False</td>\n",
       "      <td>False</td>\n",
       "      <td>False</td>\n",
       "      <td>False</td>\n",
       "    </tr>\n",
       "    <tr>\n",
       "      <th>3</th>\n",
       "      <td>http://www.garage-pirenne.be/index.php?option=...</td>\n",
       "      <td>defacement</td>\n",
       "      <td>garage-pirenne.be</td>\n",
       "      <td>True</td>\n",
       "      <td>www</td>\n",
       "      <td>garage-pirenne</td>\n",
       "      <td>be</td>\n",
       "      <td>False</td>\n",
       "      <td>14</td>\n",
       "      <td>3</td>\n",
       "      <td>...</td>\n",
       "      <td>1.0</td>\n",
       "      <td>[ga, ar, ra, ag, ge, e-, -p, pi, ir, re, en, n...</td>\n",
       "      <td>[ww, ww]</td>\n",
       "      <td>[gar, ara, rag, age, ge-, e-p, -pi, pir, ire, ...</td>\n",
       "      <td>[www]</td>\n",
       "      <td>False</td>\n",
       "      <td>True</td>\n",
       "      <td>False</td>\n",
       "      <td>False</td>\n",
       "      <td>True</td>\n",
       "    </tr>\n",
       "    <tr>\n",
       "      <th>4</th>\n",
       "      <td>http://adventure-nicaragua.net/index.php?optio...</td>\n",
       "      <td>defacement</td>\n",
       "      <td>adventure-nicaragua.net</td>\n",
       "      <td>False</td>\n",
       "      <td></td>\n",
       "      <td>adventure-nicaragua</td>\n",
       "      <td>net</td>\n",
       "      <td>False</td>\n",
       "      <td>19</td>\n",
       "      <td>0</td>\n",
       "      <td>...</td>\n",
       "      <td>NaN</td>\n",
       "      <td>[ad, dv, ve, en, nt, tu, ur, re, e-, -n, ni, i...</td>\n",
       "      <td>[]</td>\n",
       "      <td>[adv, dve, ven, ent, ntu, tur, ure, re-, e-n, ...</td>\n",
       "      <td>[]</td>\n",
       "      <td>False</td>\n",
       "      <td>True</td>\n",
       "      <td>False</td>\n",
       "      <td>False</td>\n",
       "      <td>True</td>\n",
       "    </tr>\n",
       "  </tbody>\n",
       "</table>\n",
       "<p>5 rows × 35 columns</p>\n",
       "</div>"
      ],
      "text/plain": [
       "                                                 url        type  \\\n",
       "0                                   br-icloud.com.br    phishing   \n",
       "1                mp3raid.com/music/krizz_kaliko.html      benign   \n",
       "2                    bopsecrets.org/rexroth/cr/1.htm      benign   \n",
       "3  http://www.garage-pirenne.be/index.php?option=...  defacement   \n",
       "4  http://adventure-nicaragua.net/index.php?optio...  defacement   \n",
       "\n",
       "                      FQDN  has_www subdomain               domain     TLD  \\\n",
       "0         br-icloud.com.br    False                      br-icloud  com.br   \n",
       "1              mp3raid.com    False                        mp3raid     com   \n",
       "2           bopsecrets.org    False                     bopsecrets     org   \n",
       "3        garage-pirenne.be     True       www       garage-pirenne      be   \n",
       "4  adventure-nicaragua.net    False            adventure-nicaragua     net   \n",
       "\n",
       "   is_invalid_TLD  domain_length  subdomain_length  ...  subdomain_complexity  \\\n",
       "0           False              9                 0  ...                   NaN   \n",
       "1           False              7                 0  ...                   NaN   \n",
       "2           False             10                 0  ...                   NaN   \n",
       "3           False             14                 3  ...                   1.0   \n",
       "4           False             19                 0  ...                   NaN   \n",
       "\n",
       "                                      domain_n2grams  subdomain_n2grams  \\\n",
       "0                   [br, r-, -i, ic, cl, lo, ou, ud]                 []   \n",
       "1                           [mp, p3, 3r, ra, ai, id]                 []   \n",
       "2               [bo, op, ps, se, ec, cr, re, et, ts]                 []   \n",
       "3  [ga, ar, ra, ag, ge, e-, -p, pi, ir, re, en, n...           [ww, ww]   \n",
       "4  [ad, dv, ve, en, nt, tu, ur, re, e-, -n, ni, i...                 []   \n",
       "\n",
       "                                      domain_n3grams  subdomain_n3grams  \\\n",
       "0                [br-, r-i, -ic, icl, clo, lou, oud]                 []   \n",
       "1                          [mp3, p3r, 3ra, rai, aid]                 []   \n",
       "2           [bop, ops, pse, sec, ecr, cre, ret, ets]                 []   \n",
       "3  [gar, ara, rag, age, ge-, e-p, -pi, pir, ire, ...              [www]   \n",
       "4  [adv, dve, ven, ent, ntu, tur, ure, re-, e-n, ...                 []   \n",
       "\n",
       "   benign  defacement  malware  phishing  malicious  \n",
       "0   False       False    False      True       True  \n",
       "1    True       False    False     False      False  \n",
       "2    True       False    False     False      False  \n",
       "3   False        True    False     False       True  \n",
       "4   False        True    False     False       True  \n",
       "\n",
       "[5 rows x 35 columns]"
      ]
     },
     "execution_count": 16,
     "metadata": {},
     "output_type": "execute_result"
    }
   ],
   "source": [
    "urls_tdf[\"malicious\"] = ~urls_tdf[\"benign\"]\n",
    "urls_tdf.head()"
   ]
  },
  {
   "cell_type": "markdown",
   "id": "eeac7f80-81fd-4490-9270-63a1432f3a39",
   "metadata": {},
   "source": [
    "## Data exploration"
   ]
  },
  {
   "cell_type": "markdown",
   "id": "54991569-70fe-4aca-927c-76fe20088a29",
   "metadata": {},
   "source": [
    "### Levenshtein distances"
   ]
  },
  {
   "cell_type": "markdown",
   "id": "77bfec4e-ea83-4893-9cb8-2e3d1be82919",
   "metadata": {},
   "source": [
    "#### Domain unchanged"
   ]
  },
  {
   "cell_type": "code",
   "execution_count": 17,
   "id": "6a955fb4-921a-4732-aeb9-32a3a7a33de4",
   "metadata": {
    "execution": {
     "iopub.execute_input": "2023-04-15T15:14:31.097843Z",
     "iopub.status.busy": "2023-04-15T15:14:31.089586Z",
     "iopub.status.idle": "2023-04-15T15:14:33.377529Z",
     "shell.execute_reply": "2023-04-15T15:14:33.376644Z",
     "shell.execute_reply.started": "2023-04-15T15:14:31.097762Z"
    },
    "tags": []
   },
   "outputs": [],
   "source": [
    "# Create two sets of N_SAMPLES random samples\n",
    "N_SAMPLES = 50000\n",
    "\n",
    "urls_tsdf = pd.DataFrame()\n",
    "\n",
    "urls_tsdf[\"sample1\"] = urls_tdf.sample(n=N_SAMPLES, random_state=123).reset_index(\n",
    "    drop=True\n",
    ")[\"domain\"]\n",
    "urls_tsdf[\"sample2\"] = urls_tdf.sample(n=N_SAMPLES, random_state=545).reset_index(\n",
    "    drop=True\n",
    ")[\"domain\"]"
   ]
  },
  {
   "cell_type": "code",
   "execution_count": 18,
   "id": "706cbc96-e309-47fd-b563-117a79b2dfc3",
   "metadata": {
    "execution": {
     "iopub.execute_input": "2023-04-15T15:14:33.383290Z",
     "iopub.status.busy": "2023-04-15T15:14:33.380278Z",
     "iopub.status.idle": "2023-04-15T15:14:34.486845Z",
     "shell.execute_reply": "2023-04-15T15:14:34.485503Z",
     "shell.execute_reply.started": "2023-04-15T15:14:33.383229Z"
    },
    "tags": []
   },
   "outputs": [],
   "source": [
    "# Calculate Levenshtein distance on each pair (N_SAMPLES distances)\n",
    "urls_tsdf[\"levenshtein_distance_domain\"] = urls_tsdf.apply(\n",
    "    lambda row: levenshtein(row.sample1, row.sample2), axis=1\n",
    ")"
   ]
  },
  {
   "cell_type": "code",
   "execution_count": 19,
   "id": "848ed219-581e-4893-944b-34af308294bd",
   "metadata": {
    "execution": {
     "iopub.execute_input": "2023-04-15T15:14:34.489036Z",
     "iopub.status.busy": "2023-04-15T15:14:34.488493Z",
     "iopub.status.idle": "2023-04-15T15:14:34.540344Z",
     "shell.execute_reply": "2023-04-15T15:14:34.538925Z",
     "shell.execute_reply.started": "2023-04-15T15:14:34.489003Z"
    },
    "tags": []
   },
   "outputs": [
    {
     "data": {
      "text/html": [
       "<div>\n",
       "<style scoped>\n",
       "    .dataframe tbody tr th:only-of-type {\n",
       "        vertical-align: middle;\n",
       "    }\n",
       "\n",
       "    .dataframe tbody tr th {\n",
       "        vertical-align: top;\n",
       "    }\n",
       "\n",
       "    .dataframe thead th {\n",
       "        text-align: right;\n",
       "    }\n",
       "</style>\n",
       "<table border=\"1\" class=\"dataframe\">\n",
       "  <thead>\n",
       "    <tr style=\"text-align: right;\">\n",
       "      <th></th>\n",
       "      <th>levenshtein_distance_domain</th>\n",
       "    </tr>\n",
       "  </thead>\n",
       "  <tbody>\n",
       "    <tr>\n",
       "      <th>count</th>\n",
       "      <td>50000.000000</td>\n",
       "    </tr>\n",
       "    <tr>\n",
       "      <th>mean</th>\n",
       "      <td>10.818640</td>\n",
       "    </tr>\n",
       "    <tr>\n",
       "      <th>std</th>\n",
       "      <td>4.225786</td>\n",
       "    </tr>\n",
       "    <tr>\n",
       "      <th>min</th>\n",
       "      <td>0.000000</td>\n",
       "    </tr>\n",
       "    <tr>\n",
       "      <th>25%</th>\n",
       "      <td>8.000000</td>\n",
       "    </tr>\n",
       "    <tr>\n",
       "      <th>50%</th>\n",
       "      <td>10.000000</td>\n",
       "    </tr>\n",
       "    <tr>\n",
       "      <th>75%</th>\n",
       "      <td>13.000000</td>\n",
       "    </tr>\n",
       "    <tr>\n",
       "      <th>max</th>\n",
       "      <td>59.000000</td>\n",
       "    </tr>\n",
       "  </tbody>\n",
       "</table>\n",
       "</div>"
      ],
      "text/plain": [
       "       levenshtein_distance_domain\n",
       "count                 50000.000000\n",
       "mean                     10.818640\n",
       "std                       4.225786\n",
       "min                       0.000000\n",
       "25%                       8.000000\n",
       "50%                      10.000000\n",
       "75%                      13.000000\n",
       "max                      59.000000"
      ]
     },
     "execution_count": 19,
     "metadata": {},
     "output_type": "execute_result"
    }
   ],
   "source": [
    "urls_tsdf.describe()"
   ]
  },
  {
   "cell_type": "code",
   "execution_count": 26,
   "id": "b91a5f06-6df9-4db0-b8e2-af4b407e2610",
   "metadata": {
    "execution": {
     "iopub.execute_input": "2023-04-15T15:21:37.372100Z",
     "iopub.status.busy": "2023-04-15T15:21:37.370543Z",
     "iopub.status.idle": "2023-04-15T15:21:37.404081Z",
     "shell.execute_reply": "2023-04-15T15:21:37.402216Z",
     "shell.execute_reply.started": "2023-04-15T15:21:37.372030Z"
    },
    "tags": []
   },
   "outputs": [
    {
     "data": {
      "text/html": [
       "<div>\n",
       "<style scoped>\n",
       "    .dataframe tbody tr th:only-of-type {\n",
       "        vertical-align: middle;\n",
       "    }\n",
       "\n",
       "    .dataframe tbody tr th {\n",
       "        vertical-align: top;\n",
       "    }\n",
       "\n",
       "    .dataframe thead th {\n",
       "        text-align: right;\n",
       "    }\n",
       "</style>\n",
       "<table border=\"1\" class=\"dataframe\">\n",
       "  <thead>\n",
       "    <tr style=\"text-align: right;\">\n",
       "      <th></th>\n",
       "      <th>sample1</th>\n",
       "      <th>sample2</th>\n",
       "      <th>levenshtein_distance_domain</th>\n",
       "    </tr>\n",
       "  </thead>\n",
       "  <tbody>\n",
       "    <tr>\n",
       "      <th>0</th>\n",
       "      <td>pastehtml</td>\n",
       "      <td>m-runescape</td>\n",
       "      <td>10</td>\n",
       "    </tr>\n",
       "    <tr>\n",
       "      <th>1</th>\n",
       "      <td>niobestudio</td>\n",
       "      <td>profilecanada</td>\n",
       "      <td>11</td>\n",
       "    </tr>\n",
       "    <tr>\n",
       "      <th>2</th>\n",
       "      <td>yellowpages</td>\n",
       "      <td>hellomacon</td>\n",
       "      <td>6</td>\n",
       "    </tr>\n",
       "    <tr>\n",
       "      <th>3</th>\n",
       "      <td>eca</td>\n",
       "      <td>hockey-reference</td>\n",
       "      <td>14</td>\n",
       "    </tr>\n",
       "    <tr>\n",
       "      <th>4</th>\n",
       "      <td>funtrivia</td>\n",
       "      <td>cookpad</td>\n",
       "      <td>9</td>\n",
       "    </tr>\n",
       "    <tr>\n",
       "      <th>...</th>\n",
       "      <td>...</td>\n",
       "      <td>...</td>\n",
       "      <td>...</td>\n",
       "    </tr>\n",
       "    <tr>\n",
       "      <th>49995</th>\n",
       "      <td>9779</td>\n",
       "      <td>at</td>\n",
       "      <td>4</td>\n",
       "    </tr>\n",
       "    <tr>\n",
       "      <th>49996</th>\n",
       "      <td>9779</td>\n",
       "      <td>hrblockreferafriend</td>\n",
       "      <td>19</td>\n",
       "    </tr>\n",
       "    <tr>\n",
       "      <th>49997</th>\n",
       "      <td>matjand</td>\n",
       "      <td>bhsu</td>\n",
       "      <td>7</td>\n",
       "    </tr>\n",
       "    <tr>\n",
       "      <th>49998</th>\n",
       "      <td>locateaflowershop</td>\n",
       "      <td>muscle-xpo</td>\n",
       "      <td>14</td>\n",
       "    </tr>\n",
       "    <tr>\n",
       "      <th>49999</th>\n",
       "      <td>macphersons-rant</td>\n",
       "      <td>linkedin</td>\n",
       "      <td>14</td>\n",
       "    </tr>\n",
       "  </tbody>\n",
       "</table>\n",
       "<p>50000 rows × 3 columns</p>\n",
       "</div>"
      ],
      "text/plain": [
       "                 sample1              sample2  levenshtein_distance_domain\n",
       "0              pastehtml          m-runescape                           10\n",
       "1            niobestudio        profilecanada                           11\n",
       "2            yellowpages           hellomacon                            6\n",
       "3                    eca     hockey-reference                           14\n",
       "4              funtrivia              cookpad                            9\n",
       "...                  ...                  ...                          ...\n",
       "49995               9779                   at                            4\n",
       "49996               9779  hrblockreferafriend                           19\n",
       "49997            matjand                 bhsu                            7\n",
       "49998  locateaflowershop           muscle-xpo                           14\n",
       "49999   macphersons-rant             linkedin                           14\n",
       "\n",
       "[50000 rows x 3 columns]"
      ]
     },
     "execution_count": 26,
     "metadata": {},
     "output_type": "execute_result"
    }
   ],
   "source": [
    "urls_tsdf"
   ]
  },
  {
   "cell_type": "code",
   "execution_count": 27,
   "id": "a68c18a9-080c-465b-af74-3ff9900f3b20",
   "metadata": {
    "execution": {
     "iopub.execute_input": "2023-04-15T15:21:50.387199Z",
     "iopub.status.busy": "2023-04-15T15:21:50.385723Z",
     "iopub.status.idle": "2023-04-15T15:21:52.668194Z",
     "shell.execute_reply": "2023-04-15T15:21:52.665064Z",
     "shell.execute_reply.started": "2023-04-15T15:21:50.387133Z"
    },
    "tags": []
   },
   "outputs": [
    {
     "data": {
      "text/plain": [
       "Text(0.5, 1.0, \"Distribution of levenshtein's distances among domains over 50000 random samples\")"
      ]
     },
     "execution_count": 27,
     "metadata": {},
     "output_type": "execute_result"
    },
    {
     "data": {
      "image/png": "[encoded data removed]",
      "text/plain": [
       "<Figure size 1000x1000 with 1 Axes>"
      ]
     },
     "metadata": {},
     "output_type": "display_data"
    }
   ],
   "source": [
    "sns.displot(\n",
    "    urls_tsdf,\n",
    "    x=\"levenshtein_distance_domain\",\n",
    "    binwidth=3,\n",
    "    height=10,\n",
    ")\n",
    "plt.title(\n",
    "    f\"Distribution of levenshtein's distances among domains over {N_SAMPLES} random samples\"\n",
    ")"
   ]
  },
  {
   "cell_type": "code",
   "execution_count": 31,
   "id": "6745cafb-956c-4176-bf57-793032e538b8",
   "metadata": {
    "execution": {
     "iopub.execute_input": "2023-04-15T15:22:47.731579Z",
     "iopub.status.busy": "2023-04-15T15:22:47.731088Z",
     "iopub.status.idle": "2023-04-15T15:22:48.879681Z",
     "shell.execute_reply": "2023-04-15T15:22:48.877830Z",
     "shell.execute_reply.started": "2023-04-15T15:22:47.731505Z"
    },
    "tags": []
   },
   "outputs": [
    {
     "data": {
      "text/plain": [
       "Text(0.5, 1.0, \"Distribution of levenshtein's distances among domains over 50000 random samples\")"
      ]
     },
     "execution_count": 31,
     "metadata": {},
     "output_type": "execute_result"
    },
    {
     "data": {
      "image/png": "[encoded data removed]",
      "text/plain": [
       "<Figure size 800x800 with 1 Axes>"
      ]
     },
     "metadata": {},
     "output_type": "display_data"
    }
   ],
   "source": [
    "sns.displot(\n",
    "    urls_tsdf[urls_tsdf[\"levenshtein_distance_domain\"] < 40],\n",
    "    x=\"levenshtein_distance_domain\",\n",
    "    binwidth=1,\n",
    "    height=8,\n",
    ")\n",
    "plt.title(\n",
    "    f\"Distribution of levenshtein's distances among domains over {N_SAMPLES} random samples\"\n",
    ")"
   ]
  },
  {
   "cell_type": "markdown",
   "id": "46ff443d-8f5c-4755-b499-9358aa916d15",
   "metadata": {},
   "source": [
    "## Experiments"
   ]
  },
  {
   "cell_type": "markdown",
   "id": "41cdb219-22d8-4fce-9b1b-295c5a2fd40e",
   "metadata": {
    "tags": []
   },
   "source": [
    "### Unchanged URLs\n",
    "\n",
    "Keep `urls_tdf` intact for this section to show what it should"
   ]
  },
  {
   "cell_type": "markdown",
   "id": "5a6bf02f-5d5c-4350-af26-8262a2534122",
   "metadata": {
    "jp-MarkdownHeadingCollapsed": true,
    "tags": []
   },
   "source": [
    "#### DBSCAN"
   ]
  },
  {
   "cell_type": "markdown",
   "id": "44239fe1-6d7e-40b1-a7b8-af7abd7b13b8",
   "metadata": {},
   "source": [
    "DBSCAN will not work. It needs $\\mathcal{O}(n^2)$"
   ]
  },
  {
   "cell_type": "raw",
   "id": "21e102d3-c00d-4ae7-8e3f-08500a1b8a47",
   "metadata": {
    "execution": {
     "iopub.execute_input": "2023-03-01T18:02:35.391999Z",
     "iopub.status.busy": "2023-03-01T18:02:35.391177Z"
    },
    "tags": []
   },
   "source": [
    "from sklearn.cluster import DBSCAN\n",
    "\n",
    "# For more info on the trick refer to class definition\n",
    "string_trick = SklearnStringTrick(dataset=urls_tdf[\"url\"])\n",
    "\n",
    "unchanged_dbscan = DBSCAN(metric=string_trick.lev_dist_sklearn_urls)\n",
    "\n",
    "X = np.arange(len(string_trick.dataset)).reshape(-1, 1)\n",
    "\n",
    "out = unchanged_dbscan.fit_predict(X)"
   ]
  },
  {
   "cell_type": "markdown",
   "id": "f223500e-ef8b-4ff6-8aa2-09bee11688aa",
   "metadata": {},
   "source": [
    "#### Hierarchical clustering"
   ]
  },
  {
   "cell_type": "code",
   "execution_count": null,
   "id": "6f4802b5-1fc8-4829-bfea-097745aff773",
   "metadata": {
    "execution": {
     "iopub.status.busy": "2023-04-15T15:14:35.795879Z",
     "iopub.status.idle": "2023-04-15T15:14:35.798407Z",
     "shell.execute_reply": "2023-04-15T15:14:35.797708Z",
     "shell.execute_reply.started": "2023-04-15T15:14:35.797642Z"
    },
    "tags": []
   },
   "outputs": [],
   "source": [
    "import matplotlib.pyplot as plt\n",
    "from scipy.cluster.hierarchy import dendrogram, fcluster, linkage\n",
    "from scipy.spatial.distance import pdist, squareform\n",
    "from sklearn.cluster import AgglomerativeClustering\n",
    "from sklearn.metrics import pairwise_distances"
   ]
  },
  {
   "cell_type": "code",
   "execution_count": null,
   "id": "e509d4ba-63b9-40a1-8eaa-a70f86087f65",
   "metadata": {
    "execution": {
     "iopub.status.busy": "2023-04-15T15:14:35.801932Z",
     "iopub.status.idle": "2023-04-15T15:14:35.803494Z",
     "shell.execute_reply": "2023-04-15T15:14:35.803102Z",
     "shell.execute_reply.started": "2023-04-15T15:14:35.803054Z"
    },
    "tags": []
   },
   "outputs": [],
   "source": [
    "# Create two sets of N_SAMPLES random samples\n",
    "N_SAMPLES = 1000\n",
    "\n",
    "urls_tsdf = urls_tdf.sample(n=N_SAMPLES, random_state=111).reset_index(drop=True)"
   ]
  },
  {
   "cell_type": "code",
   "execution_count": null,
   "id": "3a748b61-fa62-42aa-b3fd-e7c5a5493a59",
   "metadata": {
    "execution": {
     "iopub.status.busy": "2023-04-15T15:14:35.807352Z",
     "iopub.status.idle": "2023-04-15T15:14:35.808883Z",
     "shell.execute_reply": "2023-04-15T15:14:35.808515Z",
     "shell.execute_reply.started": "2023-04-15T15:14:35.808467Z"
    },
    "tags": []
   },
   "outputs": [],
   "source": [
    "# Calculate pairwise distances between domains using levenshtein distance function\n",
    "X = urls_tsdf[\"domain\"].values.reshape(-1, 1)\n",
    "distances = pdist(X, metric=levenshtein_pdist)\n",
    "distances_squareform = squareform(distances)"
   ]
  },
  {
   "cell_type": "code",
   "execution_count": null,
   "id": "3e0c42ac-c30b-459b-99cf-864e0b23ed1f",
   "metadata": {
    "execution": {
     "iopub.status.busy": "2023-04-15T15:14:35.811950Z",
     "iopub.status.idle": "2023-04-15T15:14:35.812861Z",
     "shell.execute_reply": "2023-04-15T15:14:35.812547Z",
     "shell.execute_reply.started": "2023-04-15T15:14:35.812510Z"
    },
    "tags": []
   },
   "outputs": [],
   "source": [
    "# Perform hierarchical clustering\n",
    "Z = linkage(distances, \"complete\")\n",
    "\n",
    "# Draw dendrogram for visual cutoff selection\n",
    "fig, ax = plt.subplots(figsize=(40, 20))\n",
    "dendrogram(Z, ax=ax)\n",
    "\n",
    "\n",
    "fig1 = fig\n",
    "plt.show()"
   ]
  },
  {
   "cell_type": "code",
   "execution_count": null,
   "id": "e29e826f-ee81-4a5c-a41a-053ee9107b80",
   "metadata": {
    "execution": {
     "iopub.status.busy": "2023-04-15T15:14:35.815838Z",
     "iopub.status.idle": "2023-04-15T15:14:35.816780Z",
     "shell.execute_reply": "2023-04-15T15:14:35.816456Z",
     "shell.execute_reply.started": "2023-04-15T15:14:35.816416Z"
    },
    "tags": []
   },
   "outputs": [],
   "source": [
    "CUTOFF = [42, 23, 19, 31]\n",
    "\n",
    "# Load the figure object from the previous cell\n",
    "fig = fig1\n",
    "\n",
    "# Get the axes object from the figure\n",
    "ax = fig.axes[0]\n",
    "\n",
    "# Add the cutoff horizontal line\n",
    "for cutoff in CUTOFF:\n",
    "    ax.axhline(y=cutoff, color=\"r\", linestyle=\"--\")\n",
    "    ax.text(x=ax.get_xlim()[0], y=cutoff, s=f\"Cutoff: {cutoff}\", va=\"center\")\n",
    "\n",
    "\n",
    "# Show the plot\n",
    "fig"
   ]
  },
  {
   "cell_type": "code",
   "execution_count": null,
   "id": "f0d1cac0-5af6-444c-a3ee-c5a7d0789634",
   "metadata": {
    "execution": {
     "iopub.status.busy": "2023-04-15T15:14:35.819541Z",
     "iopub.status.idle": "2023-04-15T15:14:35.820664Z",
     "shell.execute_reply": "2023-04-15T15:14:35.820189Z",
     "shell.execute_reply.started": "2023-04-15T15:14:35.820143Z"
    },
    "tags": []
   },
   "outputs": [],
   "source": [
    "# Determine the optimal number of clusters\n",
    "max_d = 15  # set the threshold distance\n",
    "clusters = fcluster(Z, max_d, criterion=\"distance\")"
   ]
  },
  {
   "cell_type": "code",
   "execution_count": null,
   "id": "5299ce1f-3194-4462-85e4-91c115140fab",
   "metadata": {
    "execution": {
     "iopub.status.busy": "2023-04-15T15:14:35.835983Z",
     "iopub.status.idle": "2023-04-15T15:14:35.845091Z",
     "shell.execute_reply": "2023-04-15T15:14:35.844239Z",
     "shell.execute_reply.started": "2023-04-15T15:14:35.844201Z"
    },
    "tags": []
   },
   "outputs": [],
   "source": [
    "# Add cluster labels to the original dataset\n",
    "urls_tsdf[\"cluster\"] = clusters"
   ]
  },
  {
   "cell_type": "markdown",
   "id": "9ee40700-e32e-4827-9a63-7a5516e24ad0",
   "metadata": {},
   "source": [
    "#### Evaluation of cluster quality based on cutoff"
   ]
  },
  {
   "cell_type": "code",
   "execution_count": null,
   "id": "0a53787a-baba-4ab5-a63d-3b9fe15bee9c",
   "metadata": {
    "execution": {
     "iopub.status.busy": "2023-04-15T15:14:35.847506Z",
     "iopub.status.idle": "2023-04-15T15:14:35.848599Z",
     "shell.execute_reply": "2023-04-15T15:14:35.848262Z",
     "shell.execute_reply.started": "2023-04-15T15:14:35.848217Z"
    },
    "tags": []
   },
   "outputs": [],
   "source": [
    "from sklearn.metrics import silhouette_score\n",
    "\n",
    "# Compute the silhouette score\n",
    "silhouette_avg = silhouette_score(\n",
    "    distances_squareform, urls_tsdf[\"cluster\"], metric=\"precomputed\"\n",
    ")\n",
    "print(f\"Silhouette score: {silhouette_avg}\")\n",
    "\n",
    "# calculate prevalence of malicious domains in each cluster\n",
    "cluster_prevalence = urls_tsdf.groupby(\"cluster\")[\"malicious\"].mean()\n",
    "\n",
    "# group by cluster id and count the number of items in each cluster\n",
    "cluster_counts = urls_tsdf.groupby(\"cluster\").count()[\"url\"]\n",
    "\n",
    "# create a dataframe combining the cluster counts and cluster prevalence\n",
    "cluster_data = pd.DataFrame({\"count\": cluster_counts, \"prevalence\": cluster_prevalence})\n",
    "\n",
    "# filter perfect clusters\n",
    "non_trivial_clusters = cluster_data.loc[\n",
    "    (cluster_data[\"prevalence\"] != 0) & (cluster_data[\"prevalence\"] != 1)\n",
    "]\n",
    "\n",
    "print(f\"Total count of samples {len(urls_tsdf)}\")\n",
    "print(f\"Total count of clusters {len(cluster_data)}\")\n",
    "print(\n",
    "    f\"Count of samples in perfect clusters {len(urls_tsdf) - non_trivial_clusters['count'].sum()}\"\n",
    ")\n",
    "\n",
    "print(\n",
    "    f\"Prevalence of non-perfect malicious domains within clusters:\\n{non_trivial_clusters}\"\n",
    ")"
   ]
  },
  {
   "cell_type": "code",
   "execution_count": null,
   "id": "0242f1b1-c894-4c7e-b336-9e41cd94ac49",
   "metadata": {
    "execution": {
     "iopub.status.busy": "2023-04-15T15:14:35.850614Z",
     "iopub.status.idle": "2023-04-15T15:14:35.851362Z",
     "shell.execute_reply": "2023-04-15T15:14:35.851043Z",
     "shell.execute_reply.started": "2023-04-15T15:14:35.851021Z"
    },
    "tags": []
   },
   "outputs": [],
   "source": [
    "# reset the index to get the cluster id as a column\n",
    "cluster_data = cluster_data.reset_index()\n",
    "\n",
    "# Create color palette\n",
    "colors = sns.color_palette(\"viridis\", as_cmap=True)\n",
    "\n",
    "# Create bar plot\n",
    "fig, ax = plt.subplots(figsize=(12, 8))\n",
    "sns.barplot(\n",
    "    x=\"cluster\",\n",
    "    y=\"prevalence\",\n",
    "    data=cluster_data,\n",
    "    palette=colors(cluster_data[\"count\"] / cluster_data[\"count\"].max()),\n",
    "    ax=ax,\n",
    "    dodge=False,\n",
    ")\n",
    "\n",
    "# Set labels and title\n",
    "ax.set_title(\"Prevalence of Malicious Domains by Cluster\")\n",
    "ax.set_xlabel(\"Cluster Number\")\n",
    "ax.set_ylabel(\"Prevalence\")\n",
    "\n",
    "# Move the legend outside the plot and make it a gradient line\n",
    "sm = plt.cm.ScalarMappable(\n",
    "    cmap=colors, norm=plt.Normalize(vmin=0, vmax=cluster_data[\"count\"].max())\n",
    ")\n",
    "sm.set_array([])\n",
    "cbar = plt.colorbar(\n",
    "    sm,\n",
    "    orientation=\"horizontal\",\n",
    "    pad=0.1,\n",
    "    shrink=0.5,\n",
    "    aspect=15,\n",
    ")\n",
    "cbar.ax.set_xlabel(\"Cluster Size\")\n",
    "\n",
    "plt.subplots_adjust(right=0.8)\n",
    "\n",
    "plt.tight_layout()\n",
    "\n",
    "plt.show()"
   ]
  },
  {
   "cell_type": "raw",
   "id": "d8a0c26b-5118-4a57-b2d8-a52c83b24ccc",
   "metadata": {},
   "source": [
    "TODO: Refactor into visualisation function\n",
    "TODO: Add leaving out trivial clusters\n",
    "TODO: Add number of clusters left out"
   ]
  },
  {
   "cell_type": "code",
   "execution_count": null,
   "id": "308112d9-9206-43a0-9093-3191188b54ce",
   "metadata": {
    "execution": {
     "iopub.status.busy": "2023-04-15T15:14:35.853450Z",
     "iopub.status.idle": "2023-04-15T15:14:35.854782Z",
     "shell.execute_reply": "2023-04-15T15:14:35.854210Z",
     "shell.execute_reply.started": "2023-04-15T15:14:35.854163Z"
    },
    "tags": []
   },
   "outputs": [],
   "source": [
    "urls_tsdf.groupby(\"cluster\").count()"
   ]
  }
 ],
 "metadata": {
  "kernelspec": {
   "display_name": "Bachelor thesis kernel",
   "language": "python",
   "name": "avast_thesis"
  },
  "language_info": {
   "codemirror_mode": {
    "name": "ipython",
    "version": 3
   },
   "file_extension": ".py",
   "mimetype": "text/x-python",
   "name": "python",
   "nbconvert_exporter": "python",
   "pygments_lexer": "ipython3",
   "version": "3.11.2"
  },
  "toc-autonumbering": false,
  "toc-showcode": false,
  "toc-showmarkdowntxt": false,
  "toc-showtags": false
 },
 "nbformat": 4,
 "nbformat_minor": 5
}
